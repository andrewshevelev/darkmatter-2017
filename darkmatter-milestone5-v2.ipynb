{
 "cells": [
  {
   "cell_type": "code",
   "execution_count": null,
   "metadata": {
    "collapsed": true
   },
   "outputs": [],
   "source": [
    "import pandas as pd\n",
    "import glob\n",
    "import numpy as np\n",
    "from sklearn.neighbors import BallTree, KDTree, DistanceMetric\n",
    "import lightgbm as lgb\n",
    "import matplotlib.pyplot as plt\n",
    "import matplotlib.lines as lines\n",
    "import matplotlib as mpl\n",
    "from mpl_toolkits.mplot3d import Axes3D\n",
    "import subprocess\n",
    "from scipy.spatial import distance\n",
    "\n",
    "from tqdm import tqdm_notebook as tqdm\n",
    "\n",
    "from tqdm import tnrange as trange\n",
    "from scipy.sparse import lil_matrix\n",
    "from scipy.sparse import coo_matrix\n",
    "from sklearn.cluster import DBSCAN\n",
    "from sklearn.cluster import KMeans"
   ]
  },
  {
   "cell_type": "code",
   "execution_count": null,
   "metadata": {},
   "outputs": [],
   "source": [
    "test = pd.read_csv('data/dm5/test_data13_changed_50.csv.zip')\n",
    "test['ZZ'] = (test['Z'] // 1293).astype(int) * 1293\n",
    "test['XX'] = test['X'] + test['TX'] * (1293 - (test['Z'] - test['ZZ']))\n",
    "test['YY'] = test['Y'] + test['TY'] * (1293 - (test['Z'] - test['ZZ']))\n",
    "test[['TXX','TYY']] = test[['TX','TY']] * 32000\n",
    "print(test.shape)\n",
    "test.head()"
   ]
  },
  {
   "cell_type": "code",
   "execution_count": null,
   "metadata": {},
   "outputs": [],
   "source": [
    "print(test.loc[test['data_ind'] == 0]['id'].max())\n",
    "print(test.loc[test['data_ind'] == 1]['id'].min())"
   ]
  },
  {
   "cell_type": "code",
   "execution_count": null,
   "metadata": {},
   "outputs": [],
   "source": [
    "test_example = pd.read_csv('data/dm5/test_example13_changed_50.csv.zip')\n",
    "print(test_example.shape)\n",
    "test_example.head()"
   ]
  },
  {
   "cell_type": "code",
   "execution_count": null,
   "metadata": {},
   "outputs": [],
   "source": [
    "train = pd.DataFrame()\n",
    "i = 0\n",
    "for f in tqdm(glob.glob('data/dm5/open/open*.h5')):\n",
    "    chunk = pd.read_hdf(f)\n",
    "    train = train.append(chunk, ignore_index=True)\n",
    "    if i==3:\n",
    "        break\n",
    "    i += 1\n",
    "    print(f)\n",
    "train['ZZ'] = (train['Z'] // 1293).astype(int) * 1293\n",
    "train['XX'] = train['X'] + train['TX'] * (1293 - (train['Z'] - train['ZZ']))\n",
    "train['YY'] = train['Y'] + train['TY'] * (1293 - (train['Z'] - train['ZZ']))\n",
    "train[['TXX','TYY']] = train[['TX','TY']] * 32000\n",
    "print(train.shape)\n",
    "train.head()"
   ]
  },
  {
   "cell_type": "code",
   "execution_count": null,
   "metadata": {
    "collapsed": true
   },
   "outputs": [],
   "source": [
    "points = 7\n",
    "\n",
    "all_check_pairs = pd.DataFrame()\n",
    "\n",
    "for data_ind in tqdm(train.data_ind.unique()):\n",
    "    brick = train.loc[train['data_ind'] == data_ind]\n",
    "    check_pairs = pd.DataFrame()\n",
    "    Zs = sorted(brick['ZZ'].unique())\n",
    "    \n",
    "    # from previous find many next\n",
    "    for Zi in tqdm(range(1,len(Zs)),leave=False):\n",
    "        pl = brick.loc[(brick['signal'] == 1) & (brick['ZZ'] == Zs[Zi-1])].reset_index(drop=True)\n",
    "        cl = brick.loc[brick['ZZ'] == Zs[Zi]]\n",
    "        if (pl.shape[0] == 0 or cl.shape[0] == 0):\n",
    "            continue\n",
    "        tree = BallTree(cl[['XX','YY','TXX','TYY']].values)\n",
    "        \n",
    "        # число строк - количество сигнальных треков на предыдущем слое\n",
    "        # число столбцов - points\n",
    "        indices = tree.query(pl[['XX','YY','TXX','TYY']].values, return_distance=False, k=points)\n",
    "        \n",
    "        for i in range(points):\n",
    "            # достаем для каждого сигнального трека на предыдущем слое i-ю близжайшую точку на текущем слое\n",
    "            ntmp = cl.iloc[indices[:,i]].reset_index(drop=True) \n",
    "            pairs = pd.DataFrame()\n",
    "            pairs[['DX','DY','DZ','DTX','DTY']] = ntmp[['X','Y','Z','TX','TY']] - pl[['X','Y','Z','TX','TY']]\n",
    "            pairs[['X1','Y1','Z1','TX1','TY1']] = pl[['X','Y','Z','TX','TY']]\n",
    "            pairs[['X2','Y2','Z2','TX2','TY2']] = ntmp[['X','Y','Z','TX','TY']]\n",
    "            pairs['signal'] = pl['signal'] * (pl['event_id'] == ntmp['event_id'])\n",
    "            check_pairs = check_pairs.append(pairs, ignore_index=True)\n",
    "    \n",
    "    # from next find many previous\n",
    "    for Zi in tqdm(range(1,len(Zs)),leave=False):\n",
    "        cl = brick.loc[(brick['signal'] == 1) & (brick['ZZ'] == Zs[Zi-1])].reset_index(drop=True)\n",
    "        pl = brick.loc[(brick['ZZ'] == Zs[Zi-1])]\n",
    "        if (pl.shape[0] == 0 or cl.shape[0] == 0):\n",
    "            continue\n",
    "        tree = BallTree(pl[['XX','YY','TXX','TYY']].values)\n",
    "        \n",
    "        indices = tree.query(cl[['XX','YY','TXX','TYY']].values, return_distance=False, k=points)\n",
    "        \n",
    "        for i in range(points):\n",
    "            ntmp = pl.iloc[indices[:,i]].reset_index(drop=True)\n",
    "            pairs = pd.DataFrame()\n",
    "            pairs[['DX','DY','DZ','DTX','DTY']] = cl[['X','Y','Z','TX','TY']] - ntmp[['X','Y','Z','TX','TY']]\n",
    "            pairs[['X1','Y1','Z1','TX1','TY1']] = ntmp[['X','Y','Z','TX','TY']]\n",
    "            pairs[['X2','Y2','Z2','TX2','TY2']] = cl[['X','Y','Z','TX','TY']]\n",
    "            pairs['signal'] = cl['signal'] * (cl['event_id'] == ntmp['event_id'])\n",
    "            check_pairs = check_pairs.append(pairs, ignore_index=True)\n",
    "    \n",
    "    all_check_pairs = all_check_pairs.append(check_pairs, ignore_index=True)"
   ]
  },
  {
   "cell_type": "code",
   "execution_count": null,
   "metadata": {
    "collapsed": true
   },
   "outputs": [],
   "source": [
    "print(all_check_pairs.shape)\n",
    "all_check_pairs.head()"
   ]
  },
  {
   "cell_type": "code",
   "execution_count": null,
   "metadata": {
    "collapsed": true
   },
   "outputs": [],
   "source": [
    "points = 7\n",
    "\n",
    "# Generating pairs for test\n",
    "\n",
    "all_test_pairs = pd.DataFrame()\n",
    "\n",
    "for data_ind in tqdm(test.data_ind.unique()):\n",
    "    brick = test.loc[test['data_ind'] == data_ind]\n",
    "    \n",
    "    Zs = sorted(brick.ZZ.unique())\n",
    "    \n",
    "    # from previous find many next\n",
    "    test_pairs = pd.DataFrame()\n",
    "    for Zi in tqdm(range(1,len(Zs)),leave=False):\n",
    "        pl = brick.loc[brick['ZZ'] == Zs[Zi-1]].reset_index(drop=True)\n",
    "        cl = brick.loc[brick['ZZ'] == Zs[Zi]]\n",
    "        tree = BallTree(cl[['XX','YY','TXX','TYY']].values)\n",
    "        \n",
    "        indices = tree.query(pl[['XX','YY','TXX','TYY']].values, return_distance=False, k=points)\n",
    "        \n",
    "        test_pairs_layer = pd.DataFrame()\n",
    "        \n",
    "        for i in range(points):\n",
    "            ntmp = cl.iloc[indices[:,i]].reset_index(drop=True)\n",
    "            pairs = pd.DataFrame()\n",
    "            pairs[['DX','DY','DZ','DTX','DTY']] = ntmp[['X','Y','Z','TX','TY']] - pl[['X','Y','Z','TX','TY']]\n",
    "            pairs[['X1','Y1','Z1','TX1','TY1']] = pl[['X','Y','Z','TX','TY']]\n",
    "            pairs[['X2','Y2','Z2','TX2','TY2']] = ntmp[['X','Y','Z','TX','TY']]\n",
    "            pairs = pairs.assign(id1=pl['id'], id2=ntmp['id'])\n",
    "            test_pairs_layer = test_pairs_layer.append(pairs, ignore_index=True)\n",
    "        test_pairs = test_pairs.append(test_pairs_layer,ignore_index=True)\n",
    "    test_pairs['data_ind'] = data_ind\n",
    "    all_test_pairs = all_test_pairs.append(test_pairs, ignore_index=True)\n",
    "    # from next find many previous\n",
    "    test_pairs = pd.DataFrame()\n",
    "    for Zi in tqdm(range(1,len(Zs)),leave=False):\n",
    "        cl = brick.loc[(brick['ZZ'] == Zs[Zi])].reset_index(drop=True)\n",
    "        pl = brick.loc[(brick['ZZ'] == Zs[Zi-1])]\n",
    "        tree = BallTree(pl[['XX','YY','TXX','TYY']].values)\n",
    "        \n",
    "        indices = tree.query(cl[['XX','YY','TXX','TYY']].values, return_distance=False, k=points)\n",
    "        \n",
    "        for i in range(points):\n",
    "            ntmp = pl.iloc[indices[:,i]].reset_index(drop=True)\n",
    "            pairs = pd.DataFrame()\n",
    "            pairs[['DX','DY','DZ','DTX','DTY']] = cl[['X','Y','Z','TX','TY']] - ntmp[['X','Y','Z','TX','TY']]\n",
    "            pairs[['X1','Y1','Z1','TX1','TY1']] = ntmp[['X','Y','Z','TX','TY']]\n",
    "            pairs[['X2','Y2','Z2','TX2','TY2']] = cl[['X','Y','Z','TX','TY']]\n",
    "            pairs = pairs.assign(id1=ntmp['id'], id2=cl['id'])\n",
    "            test_pairs = test_pairs.append(pairs, ignore_index=True)\n",
    "    test_pairs['data_ind'] = data_ind\n",
    "    all_test_pairs = all_test_pairs.append(test_pairs, ignore_index=True)"
   ]
  },
  {
   "cell_type": "code",
   "execution_count": null,
   "metadata": {
    "collapsed": true
   },
   "outputs": [],
   "source": [
    "print(all_test_pairs.shape)\n",
    "all_test_pairs.head()"
   ]
  },
  {
   "cell_type": "code",
   "execution_count": null,
   "metadata": {
    "collapsed": true
   },
   "outputs": [],
   "source": [
    "X_train = all_check_pairs.drop(['signal'],axis=1)\n",
    "y_train = all_check_pairs['signal']\n",
    "X_test = all_test_pairs.drop(['id1','id2','data_ind'],axis=1)"
   ]
  },
  {
   "cell_type": "code",
   "execution_count": null,
   "metadata": {
    "collapsed": true
   },
   "outputs": [],
   "source": [
    "lgb_train = lgb.Dataset(X_train, y_train)\n",
    "params = {\n",
    "    'boosting_type': 'gbdt',\n",
    "    'objective': 'binary',\n",
    "    'metric': 'auc',\n",
    "    'num_leaves': 31,\n",
    "    'learning_rate': 0.05,\n",
    "    'max_depth': 15,\n",
    "    'feature_fraction': 0.7,\n",
    "    'bagging_fraction': 0.7,\n",
    "    'bagging_freq': 4\n",
    "}"
   ]
  },
  {
   "cell_type": "code",
   "execution_count": null,
   "metadata": {
    "collapsed": true
   },
   "outputs": [],
   "source": [
    "num_round = 100\n",
    "bst = lgb.train(params, lgb_train, num_round)"
   ]
  },
  {
   "cell_type": "code",
   "execution_count": null,
   "metadata": {
    "collapsed": true
   },
   "outputs": [],
   "source": [
    "ypred = bst.predict(X_test)"
   ]
  },
  {
   "cell_type": "code",
   "execution_count": null,
   "metadata": {
    "collapsed": true
   },
   "outputs": [],
   "source": [
    "pairres = all_test_pairs[['id1','id2']].copy()\n",
    "pairres['res'] = ypred\n",
    "pairres1 = pd.DataFrame()\n",
    "pairres1[['id','signal']] = pairres[['id1','res']]\n",
    "pairres2 = pd.DataFrame()\n",
    "pairres2[['id','signal']] = pairres[['id2','res']]\n",
    "pairres_out = pairres1.append(pairres2, ignore_index=True)\n",
    "result = pairres_out.groupby(['id'])['signal'].mean().reset_index()\n",
    "print(result.shape)\n",
    "result.head()"
   ]
  },
  {
   "cell_type": "code",
   "execution_count": null,
   "metadata": {
    "collapsed": true
   },
   "outputs": [],
   "source": [
    "cols = ['id'] + ['class_%d' % (i) for i in range(100)]\n",
    "res_pred = pd.DataFrame(0, index=np.arange(test.shape[0]), columns=cols)\n",
    "res_pred['id'] = res_pred['id'].index\n",
    "print(res_pred.shape)\n",
    "res_pred.head()"
   ]
  },
  {
   "cell_type": "code",
   "execution_count": null,
   "metadata": {
    "collapsed": true
   },
   "outputs": [],
   "source": [
    "res_pred['class_0'] = 1-result['signal']\n",
    "res_pred.loc[test['data_ind'] == 0,'class_1'] = result.loc[test['data_ind'] == 0,'signal'] / 88\n",
    "res_pred.loc[test['data_ind'] == 1,'class_1'] = result.loc[test['data_ind'] == 1,'signal'] / 85\n",
    "for i in tqdm(range(2,50)):\n",
    "    res_pred['class_%d' % i] = res_pred['class_1']"
   ]
  },
  {
   "cell_type": "code",
   "execution_count": null,
   "metadata": {
    "collapsed": true
   },
   "outputs": [],
   "source": [
    "res_pred_50 = res_pred.loc[:,'id':'class_49']\n",
    "print(res_pred_50.shape)\n",
    "res_pred_50.head()"
   ]
  },
  {
   "cell_type": "code",
   "execution_count": null,
   "metadata": {
    "collapsed": true
   },
   "outputs": [],
   "source": [
    "res_pred_50.to_csv('data/dm5/output.csv.gz', float_format='%.3f', compression='gzip', index=False)"
   ]
  },
  {
   "cell_type": "code",
   "execution_count": null,
   "metadata": {
    "collapsed": true
   },
   "outputs": [],
   "source": []
  }
 ],
 "metadata": {
  "kernelspec": {
   "display_name": "Python 3",
   "language": "python",
   "name": "python3"
  },
  "language_info": {
   "codemirror_mode": {
    "name": "ipython",
    "version": 3
   },
   "file_extension": ".py",
   "mimetype": "text/x-python",
   "name": "python",
   "nbconvert_exporter": "python",
   "pygments_lexer": "ipython3",
   "version": "3.6.2"
  }
 },
 "nbformat": 4,
 "nbformat_minor": 2
}
