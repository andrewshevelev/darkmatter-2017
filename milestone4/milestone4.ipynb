{
 "cells": [
  {
   "cell_type": "markdown",
   "metadata": {},
   "source": [
    "## Data observe"
   ]
  },
  {
   "cell_type": "code",
   "execution_count": 1,
   "metadata": {
    "collapsed": true
   },
   "outputs": [],
   "source": [
    "import pandas as pd\n",
    "import numpy as np\n",
    "from matplotlib import pyplot as plt\n",
    "from tqdm import tqdm_notebook"
   ]
  },
  {
   "cell_type": "code",
   "execution_count": 15,
   "metadata": {},
   "outputs": [],
   "source": [
    "data = pd.read_hdf('data/milestone4/open0.h5', mode='r')"
   ]
  },
  {
   "cell_type": "code",
   "execution_count": 19,
   "metadata": {
    "collapsed": true
   },
   "outputs": [],
   "source": [
    "data['index'] = np.int32(range(data.shape[0]))\n",
    "\n",
    "data['event_id'] = data['event_id'].astype(np.int32)\n",
    "data['signal'] = data['signal'].astype(np.bool)\n",
    "data['data_ind'] = data['data_ind'].astype(np.int32)"
   ]
  },
  {
   "cell_type": "code",
   "execution_count": 20,
   "metadata": {},
   "outputs": [
    {
     "name": "stdout",
     "output_type": "stream",
     "text": [
      "<class 'pandas.core.frame.DataFrame'>\n",
      "Int64Index: 698798 entries, 0 to 698797\n",
      "Data columns (total 9 columns):\n",
      "TX          698798 non-null float32\n",
      "TY          698798 non-null float32\n",
      "X           698798 non-null float32\n",
      "Y           698798 non-null float32\n",
      "Z           698798 non-null float32\n",
      "event_id    698798 non-null int32\n",
      "signal      698798 non-null bool\n",
      "data_ind    698798 non-null int32\n",
      "index       698798 non-null int32\n",
      "dtypes: bool(1), float32(5), int32(3)\n",
      "memory usage: 27.3 MB\n"
     ]
    }
   ],
   "source": [
    "data.info()"
   ]
  },
  {
   "cell_type": "code",
   "execution_count": 21,
   "metadata": {},
   "outputs": [
    {
     "data": {
      "text/html": [
       "<div>\n",
       "<style>\n",
       "    .dataframe thead tr:only-child th {\n",
       "        text-align: right;\n",
       "    }\n",
       "\n",
       "    .dataframe thead th {\n",
       "        text-align: left;\n",
       "    }\n",
       "\n",
       "    .dataframe tbody tr th {\n",
       "        vertical-align: top;\n",
       "    }\n",
       "</style>\n",
       "<table border=\"1\" class=\"dataframe\">\n",
       "  <thead>\n",
       "    <tr style=\"text-align: right;\">\n",
       "      <th></th>\n",
       "      <th>TX</th>\n",
       "      <th>TY</th>\n",
       "      <th>X</th>\n",
       "      <th>Y</th>\n",
       "      <th>Z</th>\n",
       "      <th>event_id</th>\n",
       "      <th>signal</th>\n",
       "      <th>data_ind</th>\n",
       "      <th>index</th>\n",
       "    </tr>\n",
       "  </thead>\n",
       "  <tbody>\n",
       "    <tr>\n",
       "      <th>0</th>\n",
       "      <td>-0.121689</td>\n",
       "      <td>0.357254</td>\n",
       "      <td>66494.796875</td>\n",
       "      <td>74176.140625</td>\n",
       "      <td>25860.0</td>\n",
       "      <td>-999</td>\n",
       "      <td>False</td>\n",
       "      <td>0</td>\n",
       "      <td>0</td>\n",
       "    </tr>\n",
       "    <tr>\n",
       "      <th>1</th>\n",
       "      <td>0.040179</td>\n",
       "      <td>-0.107180</td>\n",
       "      <td>47274.550781</td>\n",
       "      <td>37472.406250</td>\n",
       "      <td>18102.0</td>\n",
       "      <td>-999</td>\n",
       "      <td>False</td>\n",
       "      <td>0</td>\n",
       "      <td>1</td>\n",
       "    </tr>\n",
       "    <tr>\n",
       "      <th>2</th>\n",
       "      <td>0.228571</td>\n",
       "      <td>0.223065</td>\n",
       "      <td>49311.167969</td>\n",
       "      <td>71490.804688</td>\n",
       "      <td>63357.0</td>\n",
       "      <td>-999</td>\n",
       "      <td>False</td>\n",
       "      <td>0</td>\n",
       "      <td>2</td>\n",
       "    </tr>\n",
       "    <tr>\n",
       "      <th>3</th>\n",
       "      <td>-0.099237</td>\n",
       "      <td>-0.138337</td>\n",
       "      <td>57166.726562</td>\n",
       "      <td>55747.062500</td>\n",
       "      <td>29739.0</td>\n",
       "      <td>-999</td>\n",
       "      <td>False</td>\n",
       "      <td>0</td>\n",
       "      <td>3</td>\n",
       "    </tr>\n",
       "    <tr>\n",
       "      <th>4</th>\n",
       "      <td>0.222805</td>\n",
       "      <td>0.130636</td>\n",
       "      <td>54455.746094</td>\n",
       "      <td>30725.843750</td>\n",
       "      <td>28446.0</td>\n",
       "      <td>-999</td>\n",
       "      <td>False</td>\n",
       "      <td>0</td>\n",
       "      <td>4</td>\n",
       "    </tr>\n",
       "  </tbody>\n",
       "</table>\n",
       "</div>"
      ],
      "text/plain": [
       "         TX        TY             X             Y        Z  event_id  signal  \\\n",
       "0 -0.121689  0.357254  66494.796875  74176.140625  25860.0      -999   False   \n",
       "1  0.040179 -0.107180  47274.550781  37472.406250  18102.0      -999   False   \n",
       "2  0.228571  0.223065  49311.167969  71490.804688  63357.0      -999   False   \n",
       "3 -0.099237 -0.138337  57166.726562  55747.062500  29739.0      -999   False   \n",
       "4  0.222805  0.130636  54455.746094  30725.843750  28446.0      -999   False   \n",
       "\n",
       "   data_ind  index  \n",
       "0         0      0  \n",
       "1         0      1  \n",
       "2         0      2  \n",
       "3         0      3  \n",
       "4         0      4  "
      ]
     },
     "execution_count": 21,
     "metadata": {},
     "output_type": "execute_result"
    }
   ],
   "source": [
    "data.head()"
   ]
  },
  {
   "cell_type": "code",
   "execution_count": 22,
   "metadata": {
    "collapsed": true
   },
   "outputs": [],
   "source": [
    "def drow_brick(data, signal=None):\n",
    "    plt.figure(figsize=(16, 4))\n",
    "    for i, axis in zip([1, 2], ['X','Y']):\n",
    "        plt.subplot(1, 2, i)\n",
    "        if (signal):\n",
    "            plt.scatter(data[data.signal == signal].Z, data[data.signal == signal][axis])\n",
    "        else:\n",
    "            plt.scatter(data.Z, data[axis])\n",
    "\n",
    "        plt.title('EM shower')\n",
    "        plt.xlabel('Z')\n",
    "        plt.ylabel(axis)\n",
    "\n",
    "    plt.show()"
   ]
  },
  {
   "cell_type": "code",
   "execution_count": 31,
   "metadata": {},
   "outputs": [
    {
     "data": {
      "image/png": "[encoded data removed]",
      "text/plain": [
       "<matplotlib.figure.Figure at 0x7fbaec2cf8d0>"
      ]
     },
     "metadata": {},
     "output_type": "display_data"
    }
   ],
   "source": [
    "drow_brick(data, signal=True)"
   ]
  },
  {
   "cell_type": "code",
   "execution_count": 26,
   "metadata": {
    "collapsed": true
   },
   "outputs": [],
   "source": [
    "def draw_tan(data):\n",
    "    plt.figure(figsize=(14, 4))\n",
    "    \n",
    "    for i, axis in zip([1, 2], ['TX','TY']):\n",
    "        plt.subplot(1, 2, i)\n",
    "        plt.hist(data[data.signal == True]['TY'].dropna(), bins=50, histtype=\"step\", normed=True)\n",
    "        plt.hist(data[data.signal == False]['TY'].dropna(), bins=50, histtype=\"step\", normed=True)\n",
    "        plt.title(axis + ' hist')\n",
    "        plt.legend(['signal','background'])\n",
    "\n",
    "    plt.show()"
   ]
  },
  {
   "cell_type": "code",
   "execution_count": 27,
   "metadata": {},
   "outputs": [
    {
     "data": {
      "image/png": "[encoded data removed]",
      "text/plain": [
       "<matplotlib.figure.Figure at 0x7fbaec2b5160>"
      ]
     },
     "metadata": {},
     "output_type": "display_data"
    }
   ],
   "source": [
    "draw_tan(data)"
   ]
  },
  {
   "cell_type": "code",
   "execution_count": 28,
   "metadata": {
    "collapsed": true
   },
   "outputs": [],
   "source": [
    "def draw_axes(data):\n",
    "    plt.figure(figsize=(18, 4))\n",
    "    \n",
    "    for i, axis in zip([1, 2, 3], ['X','Y','Z']):\n",
    "        plt.subplot(1, 3, i)\n",
    "        plt.hist(data[data.signal == True][axis], bins=58, histtype=\"step\", normed=True)\n",
    "        plt.hist(data[data.signal == False][axis], bins=58, histtype=\"step\", normed=True)\n",
    "        plt.title(axis + ' hist')\n",
    "        plt.legend(['signal','background'])\n",
    "\n",
    "    plt.show()"
   ]
  },
  {
   "cell_type": "code",
   "execution_count": 29,
   "metadata": {},
   "outputs": [
    {
     "data": {
      "image/png": "[encoded data removed]",
      "text/plain": [
       "<matplotlib.figure.Figure at 0x7fbaec13de10>"
      ]
     },
     "metadata": {},
     "output_type": "display_data"
    }
   ],
   "source": [
    "draw_axes(data)"
   ]
  },
  {
   "cell_type": "code",
   "execution_count": 30,
   "metadata": {},
   "outputs": [
    {
     "data": {
      "image/png": "[encoded data removed]",
      "text/plain": [
       "<matplotlib.figure.Figure at 0x7fbaec3c0860>"
      ]
     },
     "metadata": {},
     "output_type": "display_data"
    }
   ],
   "source": [
    "draw_axes(data)"
   ]
  },
  {
   "cell_type": "markdown",
   "metadata": {},
   "source": [
    "## New features"
   ]
  },
  {
   "cell_type": "code",
   "execution_count": 151,
   "metadata": {
    "collapsed": true
   },
   "outputs": [],
   "source": [
    "#data = pd.read_hdf('data/milestone4/open10.h5', mode='r')\n",
    "#data0 = pd.read_hdf('data/milestone4/test_close0.h5', mode='r')\n",
    "data = pd.read_hdf('data/milestone4/test_close10.h5', mode='r')"
   ]
  },
  {
   "cell_type": "code",
   "execution_count": 54,
   "metadata": {},
   "outputs": [
    {
     "data": {
      "text/plain": [
       "array([ 1,  2,  3,  4,  5,  6,  7,  8,  9, 10])"
      ]
     },
     "execution_count": 54,
     "metadata": {},
     "output_type": "execute_result"
    }
   ],
   "source": [
    "np.unique(data.data_ind)"
   ]
  },
  {
   "cell_type": "code",
   "execution_count": 152,
   "metadata": {
    "collapsed": true
   },
   "outputs": [],
   "source": [
    "num_pic = 10"
   ]
  },
  {
   "cell_type": "code",
   "execution_count": 153,
   "metadata": {
    "collapsed": true
   },
   "outputs": [],
   "source": [
    "#data['index'] = np.int32(range(data.shape[0])) #700818\n",
    "data['index'] = np.int32(range(700818, 7698899)) \n",
    "data = data[(data.data_ind == num_pic) & (data.Z % 1293 == 0)]"
   ]
  },
  {
   "cell_type": "code",
   "execution_count": 154,
   "metadata": {},
   "outputs": [],
   "source": [
    "#data['event_id'] = data['event_id'].astype(np.int32)\n",
    "#data['signal'] = data['signal'].astype(np.bool)\n",
    "data['data_ind'] = data['data_ind'].astype(np.int32)"
   ]
  },
  {
   "cell_type": "code",
   "execution_count": 58,
   "metadata": {},
   "outputs": [
    {
     "data": {
      "text/html": [
       "<div>\n",
       "<style>\n",
       "    .dataframe thead tr:only-child th {\n",
       "        text-align: right;\n",
       "    }\n",
       "\n",
       "    .dataframe thead th {\n",
       "        text-align: left;\n",
       "    }\n",
       "\n",
       "    .dataframe tbody tr th {\n",
       "        vertical-align: top;\n",
       "    }\n",
       "</style>\n",
       "<table border=\"1\" class=\"dataframe\">\n",
       "  <thead>\n",
       "    <tr style=\"text-align: right;\">\n",
       "      <th></th>\n",
       "      <th>TX</th>\n",
       "      <th>TY</th>\n",
       "      <th>X</th>\n",
       "      <th>Y</th>\n",
       "      <th>Z</th>\n",
       "      <th>data_ind</th>\n",
       "      <th>index</th>\n",
       "    </tr>\n",
       "  </thead>\n",
       "  <tbody>\n",
       "    <tr>\n",
       "      <th>705172</th>\n",
       "      <td>-0.339077</td>\n",
       "      <td>0.202979</td>\n",
       "      <td>54454.609375</td>\n",
       "      <td>77671.179688</td>\n",
       "      <td>54306.0</td>\n",
       "      <td>1</td>\n",
       "      <td>1405990</td>\n",
       "    </tr>\n",
       "    <tr>\n",
       "      <th>705173</th>\n",
       "      <td>-0.052269</td>\n",
       "      <td>-0.404353</td>\n",
       "      <td>92051.218750</td>\n",
       "      <td>70988.296875</td>\n",
       "      <td>43962.0</td>\n",
       "      <td>1</td>\n",
       "      <td>1405991</td>\n",
       "    </tr>\n",
       "    <tr>\n",
       "      <th>705174</th>\n",
       "      <td>0.047828</td>\n",
       "      <td>-0.120281</td>\n",
       "      <td>36903.773438</td>\n",
       "      <td>57858.242188</td>\n",
       "      <td>68529.0</td>\n",
       "      <td>1</td>\n",
       "      <td>1405992</td>\n",
       "    </tr>\n",
       "    <tr>\n",
       "      <th>705175</th>\n",
       "      <td>0.177716</td>\n",
       "      <td>-0.013430</td>\n",
       "      <td>48049.242188</td>\n",
       "      <td>67408.203125</td>\n",
       "      <td>56892.0</td>\n",
       "      <td>1</td>\n",
       "      <td>1405993</td>\n",
       "    </tr>\n",
       "    <tr>\n",
       "      <th>705176</th>\n",
       "      <td>0.059719</td>\n",
       "      <td>0.172786</td>\n",
       "      <td>28890.453125</td>\n",
       "      <td>55440.234375</td>\n",
       "      <td>10344.0</td>\n",
       "      <td>1</td>\n",
       "      <td>1405994</td>\n",
       "    </tr>\n",
       "  </tbody>\n",
       "</table>\n",
       "</div>"
      ],
      "text/plain": [
       "              TX        TY             X             Y        Z  data_ind  \\\n",
       "705172 -0.339077  0.202979  54454.609375  77671.179688  54306.0         1   \n",
       "705173 -0.052269 -0.404353  92051.218750  70988.296875  43962.0         1   \n",
       "705174  0.047828 -0.120281  36903.773438  57858.242188  68529.0         1   \n",
       "705175  0.177716 -0.013430  48049.242188  67408.203125  56892.0         1   \n",
       "705176  0.059719  0.172786  28890.453125  55440.234375  10344.0         1   \n",
       "\n",
       "          index  \n",
       "705172  1405990  \n",
       "705173  1405991  \n",
       "705174  1405992  \n",
       "705175  1405993  \n",
       "705176  1405994  "
      ]
     },
     "execution_count": 58,
     "metadata": {},
     "output_type": "execute_result"
    }
   ],
   "source": [
    "data.tail()"
   ]
  },
  {
   "cell_type": "code",
   "execution_count": 155,
   "metadata": {
    "collapsed": true
   },
   "outputs": [],
   "source": [
    "def dmin(v, vl):\n",
    "    return np.min(np.sum((v.values - vl)**2, axis=1))\n",
    "def ddmin_f(efr, df):\n",
    "    z0 = efr.iloc[0]['Z']\n",
    "    if z0 == zmax:\n",
    "        efr['dfore'] = (np.float32)(1e6)\n",
    "    else:\n",
    "        eto = df.query(\"Z=={}\".format(z0 + dz))\n",
    "        gfr = efr[[\"X1\", \"Y1\", \"X2\", \"Y2\"]]\n",
    "        gto = eto[[\"X\", \"Y\", \"X1\", \"Y1\"]]\n",
    "        d = gfr.apply(dmin, axis=1, args=(gto.values,))\n",
    "        efr['dfore'] = d.astype(np.float32)\n",
    "    return efr\n",
    "def ddmin_b(eto, df):\n",
    "    z0 = eto.iloc[0]['Z']\n",
    "    if z0 == zmin:\n",
    "        eto['dback'] = (np.float32)(1e6)\n",
    "    else:\n",
    "        efr = df.query(\"Z=={}\".format(z0 - dz))\n",
    "        gfr = efr[[\"X1\", \"Y1\", \"X2\", \"Y2\"]]\n",
    "        gto = eto[[\"X\", \"Y\", \"X1\", \"Y1\"]]\n",
    "        d = gto.apply(dmin, axis=1, args=(gfr.values,))\n",
    "        eto['dback'] = d.astype(np.float32)\n",
    "    return eto\n",
    "def ddmin(ev, df):\n",
    "    return ddmin_b(ddmin_f(ev, df), df)\n",
    "def features(df):\n",
    "    dx = df['TX'] * dz\n",
    "    dy = df['TY'] * dz\n",
    "    df['X1'] = df['X'] + dx\n",
    "    df['Y1'] = df['Y'] + dy\n",
    "    df['X2'] = df['X1'] + dx\n",
    "    df['Y2'] = df['Y1'] + dy\n",
    "    return df.groupby(\"Z\").apply(ddmin, df)"
   ]
  },
  {
   "cell_type": "code",
   "execution_count": 156,
   "metadata": {},
   "outputs": [
    {
     "name": "stdout",
     "output_type": "stream",
     "text": [
      "zmin = 0.0\n",
      "zmax = 73701.0\n",
      "len(zl) = 58\n",
      "dz = 1293.0\n"
     ]
    }
   ],
   "source": [
    "zl = np.unique(data['Z'])\n",
    "zmin = np.min(zl)\n",
    "zmax = np.max(zl)\n",
    "dz = np.diff(zl)[0]\n",
    "print('zmin = {}'.format(zmin))\n",
    "print('zmax = {}'.format(zmax))\n",
    "print('len(zl) = {}'.format(len(zl)))\n",
    "print('dz = {}'.format(dz))"
   ]
  },
  {
   "cell_type": "code",
   "execution_count": 157,
   "metadata": {},
   "outputs": [
    {
     "name": "stdout",
     "output_type": "stream",
     "text": [
      "CPU times: user 1min 50s, sys: 208 ms, total: 1min 50s\n",
      "Wall time: 1min 50s\n"
     ]
    }
   ],
   "source": [
    "%time data_extended = features(data)"
   ]
  },
  {
   "cell_type": "code",
   "execution_count": 158,
   "metadata": {},
   "outputs": [
    {
     "name": "stdout",
     "output_type": "stream",
     "text": [
      "CPU times: user 1min 48s, sys: 124 ms, total: 1min 48s\n",
      "Wall time: 1min 48s\n"
     ]
    }
   ],
   "source": [
    "dz2 = dz*2\n",
    "def dmin(v, vl):\n",
    "    return np.min(np.sum((v.values - vl)**2, axis=1))\n",
    "def ddmin_f(efr, df):\n",
    "    z0 = efr.iloc[0]['Z']\n",
    "    if (z0 == zmax) or (z0 == (zmax - 1293)):\n",
    "        efr['dfore2'] = (np.float32)(1e6)\n",
    "    else:\n",
    "        eto = df.query(\"Z=={}\".format(z0 + dz2))\n",
    "        gfr = efr[[\"X2\", \"Y2\", \"X3\", \"Y3\"]]\n",
    "        gto = eto[[\"X\", \"Y\", \"X1\", \"Y1\"]]\n",
    "        d = gfr.apply(dmin, axis=1, args=(gto.values,))\n",
    "        efr['dfore2'] = d.astype(np.float32)\n",
    "    return efr\n",
    "def ddmin_b(eto, df):\n",
    "    z0 = eto.iloc[0]['Z']\n",
    "    if (z0 == zmin) or (z0 == (zmin + 1293)):\n",
    "        eto['dback2'] = (np.float32)(1e6)\n",
    "    else:\n",
    "        efr = df.query(\"Z=={}\".format(z0 - dz2))\n",
    "        gfr = efr[[\"X2\", \"Y2\", \"X3\", \"Y3\"]]\n",
    "        gto = eto[[\"X\", \"Y\", \"X1\", \"Y1\"]]\n",
    "        d = gto.apply(dmin, axis=1, args=(gfr.values,))\n",
    "        eto['dback2'] = d.astype(np.float32)\n",
    "    return eto\n",
    "def ddmin(ev, df):\n",
    "    return ddmin_b(ddmin_f(ev, df), df)\n",
    "def features_2_layer(df):\n",
    "    dx = df['TX'] * dz\n",
    "    dy = df['TY'] * dz\n",
    "    #df['X1'] = df['X'] + dx\n",
    "    #df['Y1'] = df['Y'] + dy\n",
    "    #df['X2'] = df['X1'] + dx\n",
    "    #df['Y2'] = df['Y1'] + dy\n",
    "    \n",
    "    df['X3'] = df['X2'] + dx\n",
    "    df['Y3'] = df['Y2'] + dy\n",
    "    \n",
    "    return df.groupby(\"Z\").apply(ddmin, df)\n",
    "\n",
    "\n",
    "%time data_extended2 = features_2_layer(data_extended)"
   ]
  },
  {
   "cell_type": "code",
   "execution_count": 159,
   "metadata": {},
   "outputs": [
    {
     "name": "stdout",
     "output_type": "stream",
     "text": [
      "CPU times: user 1min 18s, sys: 160 ms, total: 1min 18s\n",
      "Wall time: 1min 18s\n"
     ]
    }
   ],
   "source": [
    "def dmin(v, vl):\n",
    "    return np.min(np.sum((v.values - vl)**2, axis=1))\n",
    "def ddmin_f(efr, df):\n",
    "    z0 = efr.iloc[0]['Z']\n",
    "    if (z0 == zmax):\n",
    "        efr['dfore_simp'] = (np.float32)(1e6)\n",
    "    else:\n",
    "        eto = df.query(\"Z=={}\".format(z0 + dz))\n",
    "        gfr = efr[[\"X1\", \"Y1\"]]\n",
    "        gto = eto[[\"X\", \"Y\"]]\n",
    "        d = gfr.apply(dmin, axis=1, args=(gto.values,))\n",
    "        efr['dfore_simp'] = d.astype(np.float32)\n",
    "    return efr\n",
    "def ddmin_b(eto, df):\n",
    "    z0 = eto.iloc[0]['Z']\n",
    "    if (z0 == zmin):\n",
    "        eto['dback_simp'] = (np.float32)(1e6)\n",
    "    else:\n",
    "        efr = df.query(\"Z=={}\".format(z0 - dz))\n",
    "        gfr = efr[[\"X1\", \"Y1\"]]\n",
    "        gto = eto[[\"X\", \"Y\"]]\n",
    "        d = gto.apply(dmin, axis=1, args=(gfr.values,))\n",
    "        eto['dback_simp'] = d.astype(np.float32)\n",
    "    return eto\n",
    "def ddmin(ev, df):\n",
    "    return ddmin_b(ddmin_f(ev, df), df)\n",
    "def features_simp(df):\n",
    "    return df.groupby(\"Z\").apply(ddmin, df)\n",
    "\n",
    "\n",
    "%time data_extended3 = features_simp(data_extended2)"
   ]
  },
  {
   "cell_type": "code",
   "execution_count": null,
   "metadata": {},
   "outputs": [],
   "source": [
    "data_extended3.info()"
   ]
  },
  {
   "cell_type": "code",
   "execution_count": 349,
   "metadata": {},
   "outputs": [
    {
     "data": {
      "text/html": [
       "<div>\n",
       "<style>\n",
       "    .dataframe thead tr:only-child th {\n",
       "        text-align: right;\n",
       "    }\n",
       "\n",
       "    .dataframe thead th {\n",
       "        text-align: left;\n",
       "    }\n",
       "\n",
       "    .dataframe tbody tr th {\n",
       "        vertical-align: top;\n",
       "    }\n",
       "</style>\n",
       "<table border=\"1\" class=\"dataframe\">\n",
       "  <thead>\n",
       "    <tr style=\"text-align: right;\">\n",
       "      <th></th>\n",
       "      <th>TX</th>\n",
       "      <th>TY</th>\n",
       "      <th>X</th>\n",
       "      <th>Y</th>\n",
       "      <th>Z</th>\n",
       "      <th>data_ind</th>\n",
       "      <th>index</th>\n",
       "      <th>X1</th>\n",
       "      <th>Y1</th>\n",
       "      <th>X2</th>\n",
       "      <th>Y2</th>\n",
       "      <th>dfore</th>\n",
       "      <th>dback</th>\n",
       "      <th>X3</th>\n",
       "      <th>Y3</th>\n",
       "      <th>dfore2</th>\n",
       "      <th>dback2</th>\n",
       "      <th>dfore_simp</th>\n",
       "      <th>dback_simp</th>\n",
       "    </tr>\n",
       "  </thead>\n",
       "  <tbody>\n",
       "    <tr>\n",
       "      <th>4913000</th>\n",
       "      <td>0.032682</td>\n",
       "      <td>0.001637</td>\n",
       "      <td>33329.046875</td>\n",
       "      <td>45709.785156</td>\n",
       "      <td>15516.0</td>\n",
       "      <td>8</td>\n",
       "      <td>5613817</td>\n",
       "      <td>33371.304688</td>\n",
       "      <td>45711.902344</td>\n",
       "      <td>33413.562500</td>\n",
       "      <td>45714.019531</td>\n",
       "      <td>606548.062500</td>\n",
       "      <td>162819.50000</td>\n",
       "      <td>33455.820312</td>\n",
       "      <td>45716.136719</td>\n",
       "      <td>3.889101e+05</td>\n",
       "      <td>168392.53125</td>\n",
       "      <td>214533.093750</td>\n",
       "      <td>20230.628906</td>\n",
       "    </tr>\n",
       "    <tr>\n",
       "      <th>4913001</th>\n",
       "      <td>0.075558</td>\n",
       "      <td>-0.292736</td>\n",
       "      <td>40998.109375</td>\n",
       "      <td>29701.566406</td>\n",
       "      <td>55599.0</td>\n",
       "      <td>8</td>\n",
       "      <td>5613818</td>\n",
       "      <td>41095.804688</td>\n",
       "      <td>29323.058594</td>\n",
       "      <td>41193.500000</td>\n",
       "      <td>28944.550781</td>\n",
       "      <td>244159.734375</td>\n",
       "      <td>281761.81250</td>\n",
       "      <td>41291.195312</td>\n",
       "      <td>28566.042969</td>\n",
       "      <td>3.829907e+05</td>\n",
       "      <td>660103.18750</td>\n",
       "      <td>7602.037109</td>\n",
       "      <td>12887.770508</td>\n",
       "    </tr>\n",
       "    <tr>\n",
       "      <th>4913002</th>\n",
       "      <td>-0.160324</td>\n",
       "      <td>0.312165</td>\n",
       "      <td>58496.679688</td>\n",
       "      <td>71954.109375</td>\n",
       "      <td>73701.0</td>\n",
       "      <td>8</td>\n",
       "      <td>5613819</td>\n",
       "      <td>58289.382812</td>\n",
       "      <td>72357.742188</td>\n",
       "      <td>58082.085938</td>\n",
       "      <td>72761.375000</td>\n",
       "      <td>1000000.000000</td>\n",
       "      <td>481576.31250</td>\n",
       "      <td>57874.789062</td>\n",
       "      <td>73165.007812</td>\n",
       "      <td>1.000000e+06</td>\n",
       "      <td>337076.09375</td>\n",
       "      <td>1000000.000000</td>\n",
       "      <td>209786.921875</td>\n",
       "    </tr>\n",
       "    <tr>\n",
       "      <th>4913003</th>\n",
       "      <td>0.334896</td>\n",
       "      <td>-0.314555</td>\n",
       "      <td>84209.351562</td>\n",
       "      <td>19539.511719</td>\n",
       "      <td>31032.0</td>\n",
       "      <td>8</td>\n",
       "      <td>5613820</td>\n",
       "      <td>84642.375000</td>\n",
       "      <td>19132.791016</td>\n",
       "      <td>85075.398438</td>\n",
       "      <td>18726.070312</td>\n",
       "      <td>332944.468750</td>\n",
       "      <td>884669.18750</td>\n",
       "      <td>85508.421875</td>\n",
       "      <td>18319.349609</td>\n",
       "      <td>2.016408e+06</td>\n",
       "      <td>287981.06250</td>\n",
       "      <td>2170.766357</td>\n",
       "      <td>169729.093750</td>\n",
       "    </tr>\n",
       "    <tr>\n",
       "      <th>4913004</th>\n",
       "      <td>-0.209747</td>\n",
       "      <td>0.368397</td>\n",
       "      <td>76537.914062</td>\n",
       "      <td>26630.697266</td>\n",
       "      <td>64650.0</td>\n",
       "      <td>8</td>\n",
       "      <td>5613821</td>\n",
       "      <td>76266.710938</td>\n",
       "      <td>27107.033203</td>\n",
       "      <td>75995.507812</td>\n",
       "      <td>27583.369141</td>\n",
       "      <td>644783.187500</td>\n",
       "      <td>161536.53125</td>\n",
       "      <td>75724.304688</td>\n",
       "      <td>28059.705078</td>\n",
       "      <td>1.853726e+05</td>\n",
       "      <td>376198.59375</td>\n",
       "      <td>194383.171875</td>\n",
       "      <td>72766.984375</td>\n",
       "    </tr>\n",
       "  </tbody>\n",
       "</table>\n",
       "</div>"
      ],
      "text/plain": [
       "               TX        TY             X             Y        Z  data_ind  \\\n",
       "4913000  0.032682  0.001637  33329.046875  45709.785156  15516.0         8   \n",
       "4913001  0.075558 -0.292736  40998.109375  29701.566406  55599.0         8   \n",
       "4913002 -0.160324  0.312165  58496.679688  71954.109375  73701.0         8   \n",
       "4913003  0.334896 -0.314555  84209.351562  19539.511719  31032.0         8   \n",
       "4913004 -0.209747  0.368397  76537.914062  26630.697266  64650.0         8   \n",
       "\n",
       "           index            X1            Y1            X2            Y2  \\\n",
       "4913000  5613817  33371.304688  45711.902344  33413.562500  45714.019531   \n",
       "4913001  5613818  41095.804688  29323.058594  41193.500000  28944.550781   \n",
       "4913002  5613819  58289.382812  72357.742188  58082.085938  72761.375000   \n",
       "4913003  5613820  84642.375000  19132.791016  85075.398438  18726.070312   \n",
       "4913004  5613821  76266.710938  27107.033203  75995.507812  27583.369141   \n",
       "\n",
       "                  dfore         dback            X3            Y3  \\\n",
       "4913000   606548.062500  162819.50000  33455.820312  45716.136719   \n",
       "4913001   244159.734375  281761.81250  41291.195312  28566.042969   \n",
       "4913002  1000000.000000  481576.31250  57874.789062  73165.007812   \n",
       "4913003   332944.468750  884669.18750  85508.421875  18319.349609   \n",
       "4913004   644783.187500  161536.53125  75724.304688  28059.705078   \n",
       "\n",
       "               dfore2        dback2      dfore_simp     dback_simp  \n",
       "4913000  3.889101e+05  168392.53125   214533.093750   20230.628906  \n",
       "4913001  3.829907e+05  660103.18750     7602.037109   12887.770508  \n",
       "4913002  1.000000e+06  337076.09375  1000000.000000  209786.921875  \n",
       "4913003  2.016408e+06  287981.06250     2170.766357  169729.093750  \n",
       "4913004  1.853726e+05  376198.59375   194383.171875   72766.984375  "
      ]
     },
     "execution_count": 349,
     "metadata": {},
     "output_type": "execute_result"
    }
   ],
   "source": [
    "data_extended3.head()"
   ]
  },
  {
   "cell_type": "code",
   "execution_count": 160,
   "metadata": {
    "collapsed": true
   },
   "outputs": [],
   "source": [
    "#data_extended3.to_hdf('data/milestone4/open{}_extended3.h5'.format(num_pic), 'key_to_store', mode='w')\n",
    "data_extended3.to_hdf('data/milestone4/close{}_extended3.h5'.format(num_pic), 'key_to_store', mode='w')"
   ]
  },
  {
   "cell_type": "code",
   "execution_count": 161,
   "metadata": {},
   "outputs": [
    {
     "data": {
      "text/plain": [
       "10"
      ]
     },
     "execution_count": 161,
     "metadata": {},
     "output_type": "execute_result"
    }
   ],
   "source": [
    "num_pic"
   ]
  },
  {
   "cell_type": "markdown",
   "metadata": {},
   "source": [
    "## CatBoost"
   ]
  },
  {
   "cell_type": "code",
   "execution_count": 4,
   "metadata": {
    "collapsed": true
   },
   "outputs": [],
   "source": [
    "#data0 = pd.read_hdf('data/milestone4/open0_extended3.h5', mode='r')\n",
    "data1 = pd.read_hdf('data/milestone4/open1_extended3.h5', mode='r')\n",
    "data2 = pd.read_hdf('data/milestone4/open2_extended3.h5', mode='r')\n",
    "data3 = pd.read_hdf('data/milestone4/open3_extended3.h5', mode='r')\n",
    "data4 = pd.read_hdf('data/milestone4/open4_extended3.h5', mode='r')\n",
    "data5 = pd.read_hdf('data/milestone4/open5_extended3.h5', mode='r')"
   ]
  },
  {
   "cell_type": "code",
   "execution_count": 5,
   "metadata": {
    "collapsed": true
   },
   "outputs": [],
   "source": [
    "data = pd.concat([data1, data2, data3, data4, data5])"
   ]
  },
  {
   "cell_type": "code",
   "execution_count": 7,
   "metadata": {},
   "outputs": [
    {
     "name": "stderr",
     "output_type": "stream",
     "text": [
      "/opt/conda/anaconda3/lib/python3.6/importlib/_bootstrap.py:205: RuntimeWarning: compiletime version 3.5 of module '_catboost' does not match runtime version 3.6\n",
      "  return f(*args, **kwds)\n"
     ]
    }
   ],
   "source": [
    "from catboost import CatBoostClassifier"
   ]
  },
  {
   "cell_type": "code",
   "execution_count": 20,
   "metadata": {},
   "outputs": [
    {
     "name": "stdout",
     "output_type": "stream",
     "text": [
      "Borders generated\n",
      "0:\tlearn 0.4826380087passed: 1.67 sec\ttotal: 1m 53s\tremaining: 15h 42m 45s\n",
      "1:\tlearn 0.3610237556passed: 1.7 sec\ttotal: 1m 55s\tremaining: 7h 57m 30s\n",
      "2:\tlearn 0.2862961276passed: 1.6 sec\ttotal: 1m 56s\tremaining: 5h 22m 6s\n",
      "3:\tlearn 0.2369442941passed: 1.67 sec\ttotal: 1m 58s\tremaining: 4h 4m 32s\n",
      "4:\tlearn 0.2025860583passed: 1.75 sec\ttotal: 2m\tremaining: 3h 18m 7s\n",
      "5:\tlearn 0.1774591525passed: 1.61 sec\ttotal: 2m 1s\tremaining: 2h 46m 59s\n",
      "6:\tlearn 0.158462167passed: 1.57 sec\ttotal: 2m 3s\tremaining: 2h 24m 41s\n",
      "7:\tlearn 0.14351349passed: 1.8 sec\ttotal: 2m 5s\tremaining: 2h 8m 11s\n",
      "8:\tlearn 0.131659724passed: 1.74 sec\ttotal: 2m 6s\tremaining: 1h 55m 17s\n",
      "9:\tlearn 0.1217919964passed: 1.67 sec\ttotal: 2m 8s\tremaining: 1h 44m 55s\n",
      "10:\tlearn 0.1136341647passed: 1.68 sec\ttotal: 2m 10s\tremaining: 1h 36m 26s\n",
      "11:\tlearn 0.1067019969passed: 1.78 sec\ttotal: 2m 11s\tremaining: 1h 29m 25s\n",
      "12:\tlearn 0.1008578733passed: 1.68 sec\ttotal: 2m 13s\tremaining: 1h 23m 25s\n",
      "13:\tlearn 0.09573012969passed: 1.57 sec\ttotal: 2m 15s\tremaining: 1h 18m 13s\n",
      "14:\tlearn 0.09129879555passed: 1.64 sec\ttotal: 2m 16s\tremaining: 1h 13m 44s\n",
      "15:\tlearn 0.08734934404passed: 1.6 sec\ttotal: 2m 18s\tremaining: 1h 9m 47s\n",
      "16:\tlearn 0.08387418637passed: 1.7 sec\ttotal: 2m 20s\tremaining: 1h 6m 21s\n",
      "17:\tlearn 0.08073499289passed: 1.65 sec\ttotal: 2m 21s\tremaining: 1h 3m 16s\n",
      "18:\tlearn 0.07792638226passed: 1.62 sec\ttotal: 2m 23s\tremaining: 1h 30s\n",
      "19:\tlearn 0.07541249328passed: 1.7 sec\ttotal: 2m 25s\tremaining: 58m 2s\n",
      "20:\tlearn 0.07313031288passed: 1.74 sec\ttotal: 2m 26s\tremaining: 55m 49s\n",
      "21:\tlearn 0.07106218586passed: 1.7 sec\ttotal: 2m 28s\tremaining: 53m 47s\n",
      "22:\tlearn 0.06915745276passed: 1.66 sec\ttotal: 2m 30s\tremaining: 51m 54s\n",
      "23:\tlearn 0.067411353passed: 1.71 sec\ttotal: 2m 31s\tremaining: 50m 12s\n",
      "24:\tlearn 0.06581212998passed: 1.72 sec\ttotal: 2m 33s\tremaining: 48m 38s\n",
      "25:\tlearn 0.06432981776passed: 1.61 sec\ttotal: 2m 35s\tremaining: 47m 10s\n",
      "26:\tlearn 0.06293777095passed: 1.79 sec\ttotal: 2m 37s\tremaining: 45m 51s\n",
      "27:\tlearn 0.0616670945passed: 1.64 sec\ttotal: 2m 38s\tremaining: 44m 34s\n",
      "28:\tlearn 0.06044394641passed: 1.73 sec\ttotal: 2m 40s\tremaining: 43m 25s\n",
      "29:\tlearn 0.05933656737passed: 1.64 sec\ttotal: 2m 42s\tremaining: 42m 18s\n",
      "30:\tlearn 0.05826253442passed: 1.69 sec\ttotal: 2m 43s\tremaining: 41m 17s\n",
      "31:\tlearn 0.05729195463passed: 1.61 sec\ttotal: 2m 45s\tremaining: 40m 18s\n",
      "32:\tlearn 0.05635878168passed: 1.58 sec\ttotal: 2m 46s\tremaining: 39m 22s\n",
      "33:\tlearn 0.05549273366passed: 1.63 sec\ttotal: 2m 48s\tremaining: 38m 30s\n",
      "34:\tlearn 0.05468690221passed: 1.71 sec\ttotal: 2m 50s\tremaining: 37m 42s\n",
      "35:\tlearn 0.05389973952passed: 1.62 sec\ttotal: 2m 51s\tremaining: 36m 55s\n",
      "36:\tlearn 0.05315754998passed: 1.61 sec\ttotal: 2m 53s\tremaining: 36m 11s\n",
      "37:\tlearn 0.0524604181passed: 1.63 sec\ttotal: 2m 55s\tremaining: 35m 29s\n",
      "38:\tlearn 0.05179028534passed: 1.58 sec\ttotal: 2m 56s\tremaining: 34m 48s\n",
      "39:\tlearn 0.05116058554passed: 1.74 sec\ttotal: 2m 58s\tremaining: 34m 12s\n",
      "40:\tlearn 0.05057509515passed: 1.62 sec\ttotal: 3m\tremaining: 33m 35s\n",
      "41:\tlearn 0.05001394632passed: 1.56 sec\ttotal: 3m 1s\tremaining: 33m\n",
      "42:\tlearn 0.04946289715passed: 1.73 sec\ttotal: 3m 3s\tremaining: 32m 28s\n",
      "43:\tlearn 0.04891656778passed: 1.55 sec\ttotal: 3m 4s\tremaining: 31m 56s\n",
      "44:\tlearn 0.04840434449passed: 1.76 sec\ttotal: 3m 6s\tremaining: 31m 27s\n",
      "45:\tlearn 0.04792682805passed: 1.6 sec\ttotal: 3m 8s\tremaining: 30m 58s\n",
      "46:\tlearn 0.04747306561passed: 1.76 sec\ttotal: 3m 10s\tremaining: 30m 31s\n",
      "47:\tlearn 0.04704847821passed: 1.55 sec\ttotal: 3m 11s\tremaining: 30m 3s\n",
      "48:\tlearn 0.04664076211passed: 1.57 sec\ttotal: 3m 13s\tremaining: 29m 37s\n",
      "49:\tlearn 0.046235925passed: 1.58 sec\ttotal: 3m 14s\tremaining: 29m 12s\n",
      "50:\tlearn 0.04584569573passed: 1.83 sec\ttotal: 3m 16s\tremaining: 28m 50s\n",
      "51:\tlearn 0.04547961355passed: 1.7 sec\ttotal: 3m 18s\tremaining: 28m 27s\n",
      "52:\tlearn 0.04511495253passed: 1.72 sec\ttotal: 3m 19s\tremaining: 28m 6s\n",
      "53:\tlearn 0.04476454786passed: 1.58 sec\ttotal: 3m 21s\tremaining: 27m 44s\n",
      "54:\tlearn 0.04443838738passed: 1.73 sec\ttotal: 3m 23s\tremaining: 27m 24s\n",
      "55:\tlearn 0.04412818005passed: 1.64 sec\ttotal: 3m 24s\tremaining: 27m 4s\n",
      "56:\tlearn 0.04381009467passed: 1.51 sec\ttotal: 3m 26s\tremaining: 26m 44s\n",
      "57:\tlearn 0.0435070028passed: 1.76 sec\ttotal: 3m 28s\tremaining: 26m 26s\n",
      "58:\tlearn 0.04321723597passed: 1.56 sec\ttotal: 3m 29s\tremaining: 26m 7s\n",
      "59:\tlearn 0.04294398561passed: 1.63 sec\ttotal: 3m 31s\tremaining: 25m 50s\n",
      "60:\tlearn 0.04267390007passed: 1.71 sec\ttotal: 3m 33s\tremaining: 25m 33s\n",
      "61:\tlearn 0.04237914475passed: 1.6 sec\ttotal: 3m 34s\tremaining: 25m 16s\n",
      "62:\tlearn 0.0420977129passed: 1.64 sec\ttotal: 3m 36s\tremaining: 25m\n",
      "63:\tlearn 0.04185108782passed: 1.58 sec\ttotal: 3m 37s\tremaining: 24m 44s\n",
      "64:\tlearn 0.0416151417passed: 1.83 sec\ttotal: 3m 39s\tremaining: 24m 30s\n",
      "65:\tlearn 0.04138655895passed: 1.66 sec\ttotal: 3m 41s\tremaining: 24m 15s\n",
      "66:\tlearn 0.04115926822passed: 1.63 sec\ttotal: 3m 43s\tremaining: 24m 1s\n",
      "67:\tlearn 0.0409410429passed: 1.81 sec\ttotal: 3m 44s\tremaining: 23m 48s\n",
      "68:\tlearn 0.04073118201passed: 1.68 sec\ttotal: 3m 46s\tremaining: 23m 35s\n",
      "69:\tlearn 0.04051622545passed: 1.84 sec\ttotal: 3m 48s\tremaining: 23m 22s\n",
      "70:\tlearn 0.04032002392passed: 1.8 sec\ttotal: 3m 50s\tremaining: 23m 10s\n",
      "71:\tlearn 0.04010043621passed: 1.67 sec\ttotal: 3m 51s\tremaining: 22m 58s\n",
      "72:\tlearn 0.03991536617passed: 1.82 sec\ttotal: 3m 53s\tremaining: 22m 46s\n",
      "73:\tlearn 0.03971742359passed: 1.61 sec\ttotal: 3m 55s\tremaining: 22m 34s\n",
      "74:\tlearn 0.03953995929passed: 1.55 sec\ttotal: 3m 56s\tremaining: 22m 22s\n",
      "75:\tlearn 0.03935124189passed: 1.78 sec\ttotal: 3m 58s\tremaining: 22m 11s\n",
      "76:\tlearn 0.03918311214passed: 1.6 sec\ttotal: 4m\tremaining: 21m 59s\n",
      "77:\tlearn 0.03902170589passed: 1.58 sec\ttotal: 4m 1s\tremaining: 21m 48s\n",
      "78:\tlearn 0.03885824017passed: 1.65 sec\ttotal: 4m 3s\tremaining: 21m 37s\n",
      "79:\tlearn 0.03869661143passed: 1.73 sec\ttotal: 4m 5s\tremaining: 21m 27s\n",
      "80:\tlearn 0.03853795422passed: 1.6 sec\ttotal: 4m 6s\tremaining: 21m 16s\n",
      "81:\tlearn 0.0383772892passed: 1.64 sec\ttotal: 4m 8s\tremaining: 21m 6s\n",
      "82:\tlearn 0.03822721283passed: 1.71 sec\ttotal: 4m 10s\tremaining: 20m 56s\n",
      "83:\tlearn 0.03808370986passed: 1.68 sec\ttotal: 4m 11s\tremaining: 20m 47s\n",
      "84:\tlearn 0.03794769404passed: 1.69 sec\ttotal: 4m 13s\tremaining: 20m 37s\n",
      "85:\tlearn 0.03781257124passed: 1.84 sec\ttotal: 4m 15s\tremaining: 20m 29s\n",
      "86:\tlearn 0.03767843472passed: 1.85 sec\ttotal: 4m 17s\tremaining: 20m 20s\n",
      "87:\tlearn 0.03754729507passed: 1.6 sec\ttotal: 4m 18s\tremaining: 20m 11s\n",
      "88:\tlearn 0.03741477364passed: 1.78 sec\ttotal: 4m 20s\tremaining: 20m 3s\n",
      "89:\tlearn 0.03728624936passed: 1.84 sec\ttotal: 4m 22s\tremaining: 19m 55s\n",
      "90:\tlearn 0.03716278058passed: 1.69 sec\ttotal: 4m 24s\tremaining: 19m 47s\n",
      "91:\tlearn 0.03704809685passed: 1.6 sec\ttotal: 4m 25s\tremaining: 19m 38s\n",
      "92:\tlearn 0.03690409047passed: 1.86 sec\ttotal: 4m 27s\tremaining: 19m 30s\n",
      "93:\tlearn 0.03678776353passed: 1.82 sec\ttotal: 4m 29s\tremaining: 19m 23s\n",
      "94:\tlearn 0.0366709134passed: 1.56 sec\ttotal: 4m 30s\tremaining: 19m 15s\n",
      "95:\tlearn 0.03656472933passed: 1.6 sec\ttotal: 4m 32s\tremaining: 19m 6s\n",
      "96:\tlearn 0.03645502791passed: 1.75 sec\ttotal: 4m 34s\tremaining: 18m 59s\n",
      "97:\tlearn 0.03634753153passed: 1.63 sec\ttotal: 4m 35s\tremaining: 18m 51s\n",
      "98:\tlearn 0.03624533328passed: 1.65 sec\ttotal: 4m 37s\tremaining: 18m 44s\n",
      "99:\tlearn 0.03614567906passed: 1.66 sec\ttotal: 4m 39s\tremaining: 18m 36s\n",
      "100:\tlearn 0.03605218905passed: 1.69 sec\ttotal: 4m 40s\tremaining: 18m 29s\n",
      "101:\tlearn 0.03594658195passed: 1.9 sec\ttotal: 4m 42s\tremaining: 18m 23s\n",
      "102:\tlearn 0.03583989988passed: 1.65 sec\ttotal: 4m 44s\tremaining: 18m 16s\n",
      "103:\tlearn 0.03573951669passed: 1.87 sec\ttotal: 4m 46s\tremaining: 18m 10s\n",
      "104:\tlearn 0.03563135332passed: 1.73 sec\ttotal: 4m 48s\tremaining: 18m 3s\n",
      "105:\tlearn 0.03554331259passed: 1.53 sec\ttotal: 4m 49s\tremaining: 17m 56s\n",
      "106:\tlearn 0.03544759907passed: 1.66 sec\ttotal: 4m 51s\tremaining: 17m 49s\n",
      "107:\tlearn 0.03535411425passed: 1.73 sec\ttotal: 4m 52s\tremaining: 17m 43s\n",
      "108:\tlearn 0.03525610599passed: 1.65 sec\ttotal: 4m 54s\tremaining: 17m 36s\n",
      "109:\tlearn 0.03516940416passed: 1.76 sec\ttotal: 4m 56s\tremaining: 17m 30s\n",
      "110:\tlearn 0.03508956132passed: 1.54 sec\ttotal: 4m 57s\tremaining: 17m 24s\n",
      "111:\tlearn 0.03501223958passed: 1.66 sec\ttotal: 4m 59s\tremaining: 17m 17s\n",
      "112:\tlearn 0.03493264015passed: 1.76 sec\ttotal: 5m 1s\tremaining: 17m 12s\n"
     ]
    },
    {
     "name": "stdout",
     "output_type": "stream",
     "text": [
      "113:\tlearn 0.03484454831passed: 1.7 sec\ttotal: 5m 3s\tremaining: 17m 6s\n",
      "114:\tlearn 0.03476782213passed: 1.69 sec\ttotal: 5m 4s\tremaining: 17m\n",
      "115:\tlearn 0.03469301141passed: 1.67 sec\ttotal: 5m 6s\tremaining: 16m 54s\n",
      "116:\tlearn 0.03460639587passed: 1.63 sec\ttotal: 5m 8s\tremaining: 16m 48s\n",
      "117:\tlearn 0.03453198684passed: 1.66 sec\ttotal: 5m 9s\tremaining: 16m 42s\n",
      "118:\tlearn 0.03445779713passed: 1.65 sec\ttotal: 5m 11s\tremaining: 16m 36s\n",
      "119:\tlearn 0.03438798546passed: 1.71 sec\ttotal: 5m 13s\tremaining: 16m 31s\n",
      "120:\tlearn 0.03432258594passed: 1.54 sec\ttotal: 5m 14s\tremaining: 16m 25s\n",
      "121:\tlearn 0.03425750507passed: 1.63 sec\ttotal: 5m 16s\tremaining: 16m 19s\n",
      "122:\tlearn 0.0341749817passed: 1.55 sec\ttotal: 5m 17s\tremaining: 16m 14s\n",
      "123:\tlearn 0.0341055141passed: 1.7 sec\ttotal: 5m 19s\tremaining: 16m 8s\n",
      "124:\tlearn 0.03404233207passed: 1.55 sec\ttotal: 5m 21s\tremaining: 16m 3s\n",
      "125:\tlearn 0.03398092517passed: 1.48 sec\ttotal: 5m 22s\tremaining: 15m 57s\n",
      "126:\tlearn 0.03391566533passed: 1.77 sec\ttotal: 5m 24s\tremaining: 15m 52s\n",
      "127:\tlearn 0.03384983925passed: 1.65 sec\ttotal: 5m 25s\tremaining: 15m 47s\n",
      "128:\tlearn 0.03378293443passed: 1.86 sec\ttotal: 5m 27s\tremaining: 15m 42s\n",
      "129:\tlearn 0.03371818545passed: 1.68 sec\ttotal: 5m 29s\tremaining: 15m 37s\n",
      "130:\tlearn 0.03365548652passed: 1.71 sec\ttotal: 5m 31s\tremaining: 15m 32s\n",
      "131:\tlearn 0.03359701568passed: 1.51 sec\ttotal: 5m 32s\tremaining: 15m 27s\n",
      "132:\tlearn 0.03353405679passed: 1.58 sec\ttotal: 5m 34s\tremaining: 15m 22s\n",
      "133:\tlearn 0.0334807143passed: 1.68 sec\ttotal: 5m 35s\tremaining: 15m 17s\n",
      "134:\tlearn 0.03342026047passed: 1.86 sec\ttotal: 5m 37s\tremaining: 15m 13s\n",
      "135:\tlearn 0.03336039885passed: 1.58 sec\ttotal: 5m 39s\tremaining: 15m 8s\n",
      "136:\tlearn 0.03330245126passed: 1.68 sec\ttotal: 5m 41s\tremaining: 15m 3s\n",
      "137:\tlearn 0.03325107306passed: 1.61 sec\ttotal: 5m 42s\tremaining: 14m 59s\n",
      "138:\tlearn 0.03319771532passed: 1.67 sec\ttotal: 5m 44s\tremaining: 14m 54s\n",
      "139:\tlearn 0.03314637998passed: 1.54 sec\ttotal: 5m 45s\tremaining: 14m 49s\n",
      "140:\tlearn 0.03309492107passed: 1.51 sec\ttotal: 5m 47s\tremaining: 14m 44s\n",
      "141:\tlearn 0.03304189128passed: 1.71 sec\ttotal: 5m 49s\tremaining: 14m 40s\n",
      "142:\tlearn 0.03298937452passed: 1.72 sec\ttotal: 5m 50s\tremaining: 14m 35s\n",
      "143:\tlearn 0.0329355464passed: 1.6 sec\ttotal: 5m 52s\tremaining: 14m 31s\n",
      "144:\tlearn 0.03288753572passed: 1.64 sec\ttotal: 5m 54s\tremaining: 14m 26s\n",
      "145:\tlearn 0.03282057399passed: 1.6 sec\ttotal: 5m 55s\tremaining: 14m 22s\n",
      "146:\tlearn 0.03275886516passed: 1.58 sec\ttotal: 5m 57s\tremaining: 14m 18s\n",
      "147:\tlearn 0.03270889376passed: 1.55 sec\ttotal: 5m 58s\tremaining: 14m 13s\n",
      "148:\tlearn 0.03265994067passed: 1.61 sec\ttotal: 6m\tremaining: 14m 9s\n",
      "149:\tlearn 0.03261290689passed: 1.66 sec\ttotal: 6m 2s\tremaining: 14m 4s\n",
      "150:\tlearn 0.03256629228passed: 1.58 sec\ttotal: 6m 3s\tremaining: 14m\n",
      "151:\tlearn 0.03251166714passed: 1.65 sec\ttotal: 6m 5s\tremaining: 13m 56s\n",
      "152:\tlearn 0.0324685687passed: 1.56 sec\ttotal: 6m 6s\tremaining: 13m 52s\n",
      "153:\tlearn 0.03242699649passed: 1.59 sec\ttotal: 6m 8s\tremaining: 13m 47s\n",
      "154:\tlearn 0.03237199671passed: 1.6 sec\ttotal: 6m 10s\tremaining: 13m 43s\n",
      "155:\tlearn 0.03232893589passed: 1.52 sec\ttotal: 6m 11s\tremaining: 13m 39s\n",
      "156:\tlearn 0.03228571537passed: 1.73 sec\ttotal: 6m 13s\tremaining: 13m 35s\n",
      "157:\tlearn 0.03223320202passed: 1.53 sec\ttotal: 6m 14s\tremaining: 13m 31s\n",
      "158:\tlearn 0.03218326793passed: 1.6 sec\ttotal: 6m 16s\tremaining: 13m 27s\n",
      "159:\tlearn 0.03213882346passed: 1.59 sec\ttotal: 6m 18s\tremaining: 13m 23s\n",
      "160:\tlearn 0.03209193889passed: 1.63 sec\ttotal: 6m 19s\tremaining: 13m 19s\n",
      "161:\tlearn 0.0320526436passed: 1.61 sec\ttotal: 6m 21s\tremaining: 13m 15s\n",
      "162:\tlearn 0.03201402232passed: 1.62 sec\ttotal: 6m 22s\tremaining: 13m 11s\n",
      "163:\tlearn 0.0319740779passed: 1.54 sec\ttotal: 6m 24s\tremaining: 13m 7s\n",
      "164:\tlearn 0.03192283022passed: 1.62 sec\ttotal: 6m 26s\tremaining: 13m 3s\n",
      "165:\tlearn 0.0318831711passed: 1.63 sec\ttotal: 6m 27s\tremaining: 13m\n",
      "166:\tlearn 0.03184038218passed: 1.63 sec\ttotal: 6m 29s\tremaining: 12m 56s\n",
      "167:\tlearn 0.03180354857passed: 1.66 sec\ttotal: 6m 31s\tremaining: 12m 52s\n",
      "168:\tlearn 0.03176570353passed: 1.59 sec\ttotal: 6m 32s\tremaining: 12m 48s\n",
      "169:\tlearn 0.03172518785passed: 1.79 sec\ttotal: 6m 34s\tremaining: 12m 45s\n",
      "170:\tlearn 0.03168505263passed: 1.68 sec\ttotal: 6m 36s\tremaining: 12m 42s\n",
      "171:\tlearn 0.03164701675passed: 1.68 sec\ttotal: 6m 37s\tremaining: 12m 38s\n",
      "172:\tlearn 0.03161361589passed: 1.56 sec\ttotal: 6m 39s\tremaining: 12m 34s\n",
      "173:\tlearn 0.03158044545passed: 1.58 sec\ttotal: 6m 40s\tremaining: 12m 31s\n",
      "174:\tlearn 0.0315466805passed: 1.6 sec\ttotal: 6m 42s\tremaining: 12m 27s\n",
      "175:\tlearn 0.03149840855passed: 1.64 sec\ttotal: 6m 44s\tremaining: 12m 24s\n",
      "176:\tlearn 0.03146225088passed: 1.68 sec\ttotal: 6m 45s\tremaining: 12m 20s\n",
      "177:\tlearn 0.03142652699passed: 1.73 sec\ttotal: 6m 47s\tremaining: 12m 17s\n",
      "178:\tlearn 0.03138757309passed: 1.63 sec\ttotal: 6m 49s\tremaining: 12m 13s\n",
      "179:\tlearn 0.03134681363passed: 1.63 sec\ttotal: 6m 50s\tremaining: 12m 10s\n",
      "180:\tlearn 0.03131571874passed: 1.61 sec\ttotal: 6m 52s\tremaining: 12m 6s\n",
      "181:\tlearn 0.03127747502passed: 1.75 sec\ttotal: 6m 54s\tremaining: 12m 3s\n",
      "182:\tlearn 0.03124532063passed: 1.62 sec\ttotal: 6m 55s\tremaining: 12m\n",
      "183:\tlearn 0.03120682578passed: 1.5 sec\ttotal: 6m 57s\tremaining: 11m 56s\n",
      "184:\tlearn 0.03117308026passed: 1.65 sec\ttotal: 6m 58s\tremaining: 11m 53s\n",
      "185:\tlearn 0.03114304556passed: 1.48 sec\ttotal: 7m\tremaining: 11m 49s\n",
      "186:\tlearn 0.03109859019passed: 1.63 sec\ttotal: 7m 2s\tremaining: 11m 46s\n",
      "187:\tlearn 0.03105638253passed: 1.56 sec\ttotal: 7m 3s\tremaining: 11m 43s\n",
      "188:\tlearn 0.03102552877passed: 1.48 sec\ttotal: 7m 5s\tremaining: 11m 39s\n",
      "189:\tlearn 0.03099586278passed: 1.53 sec\ttotal: 7m 6s\tremaining: 11m 36s\n",
      "190:\tlearn 0.03096092712passed: 1.59 sec\ttotal: 7m 8s\tremaining: 11m 32s\n",
      "191:\tlearn 0.03092847322passed: 1.58 sec\ttotal: 7m 9s\tremaining: 11m 29s\n",
      "192:\tlearn 0.03089417938passed: 1.59 sec\ttotal: 7m 11s\tremaining: 11m 26s\n",
      "193:\tlearn 0.03086038619passed: 1.63 sec\ttotal: 7m 13s\tremaining: 11m 23s\n",
      "194:\tlearn 0.0308300666passed: 1.61 sec\ttotal: 7m 14s\tremaining: 11m 19s\n",
      "195:\tlearn 0.03080136506passed: 1.76 sec\ttotal: 7m 16s\tremaining: 11m 16s\n",
      "196:\tlearn 0.03077320902passed: 1.66 sec\ttotal: 7m 18s\tremaining: 11m 13s\n",
      "197:\tlearn 0.03074811682passed: 1.65 sec\ttotal: 7m 19s\tremaining: 11m 10s\n",
      "198:\tlearn 0.03072250503passed: 1.63 sec\ttotal: 7m 21s\tremaining: 11m 7s\n",
      "199:\tlearn 0.03068867914passed: 1.8 sec\ttotal: 7m 23s\tremaining: 11m 4s\n",
      "200:\tlearn 0.03066161547passed: 1.72 sec\ttotal: 7m 24s\tremaining: 11m 1s\n",
      "201:\tlearn 0.03062940224passed: 1.63 sec\ttotal: 7m 26s\tremaining: 10m 58s\n",
      "202:\tlearn 0.03060252284passed: 1.67 sec\ttotal: 7m 28s\tremaining: 10m 55s\n",
      "203:\tlearn 0.0305734346passed: 1.6 sec\ttotal: 7m 29s\tremaining: 10m 52s\n",
      "204:\tlearn 0.03054823633passed: 1.73 sec\ttotal: 7m 31s\tremaining: 10m 49s\n",
      "205:\tlearn 0.03052281113passed: 1.54 sec\ttotal: 7m 33s\tremaining: 10m 46s\n",
      "206:\tlearn 0.03049389296passed: 1.66 sec\ttotal: 7m 34s\tremaining: 10m 43s\n",
      "207:\tlearn 0.03046649381passed: 1.58 sec\ttotal: 7m 36s\tremaining: 10m 40s\n",
      "208:\tlearn 0.03043294071passed: 1.58 sec\ttotal: 7m 37s\tremaining: 10m 37s\n",
      "209:\tlearn 0.03040853828passed: 1.52 sec\ttotal: 7m 39s\tremaining: 10m 34s\n",
      "210:\tlearn 0.03038043714passed: 1.62 sec\ttotal: 7m 41s\tremaining: 10m 31s\n",
      "211:\tlearn 0.03034962773passed: 1.63 sec\ttotal: 7m 42s\tremaining: 10m 28s\n",
      "212:\tlearn 0.0303262941passed: 1.74 sec\ttotal: 7m 44s\tremaining: 10m 25s\n",
      "213:\tlearn 0.03030282653passed: 1.62 sec\ttotal: 7m 46s\tremaining: 10m 22s\n",
      "214:\tlearn 0.03027897221passed: 1.48 sec\ttotal: 7m 47s\tremaining: 10m 19s\n",
      "215:\tlearn 0.03025025254passed: 1.59 sec\ttotal: 7m 49s\tremaining: 10m 16s\n",
      "216:\tlearn 0.03022543587passed: 1.74 sec\ttotal: 7m 50s\tremaining: 10m 14s\n",
      "217:\tlearn 0.03020032141passed: 1.6 sec\ttotal: 7m 52s\tremaining: 10m 11s\n",
      "218:\tlearn 0.03016990137passed: 1.59 sec\ttotal: 7m 54s\tremaining: 10m 8s\n",
      "219:\tlearn 0.03014561255passed: 1.53 sec\ttotal: 7m 55s\tremaining: 10m 5s\n",
      "220:\tlearn 0.03012089297passed: 1.51 sec\ttotal: 7m 57s\tremaining: 10m 2s\n",
      "221:\tlearn 0.03009978794passed: 1.89 sec\ttotal: 7m 58s\tremaining: 9m 59s\n",
      "222:\tlearn 0.03007615993passed: 1.51 sec\ttotal: 8m\tremaining: 9m 56s\n",
      "223:\tlearn 0.0300564493passed: 1.51 sec\ttotal: 8m 1s\tremaining: 9m 53s\n",
      "224:\tlearn 0.03003243399passed: 1.56 sec\ttotal: 8m 3s\tremaining: 9m 51s\n"
     ]
    },
    {
     "name": "stdout",
     "output_type": "stream",
     "text": [
      "225:\tlearn 0.03000604904passed: 1.51 sec\ttotal: 8m 5s\tremaining: 9m 48s\n",
      "226:\tlearn 0.02998410538passed: 1.65 sec\ttotal: 8m 6s\tremaining: 9m 45s\n",
      "227:\tlearn 0.02996394086passed: 1.5 sec\ttotal: 8m 8s\tremaining: 9m 42s\n",
      "228:\tlearn 0.02994021104passed: 1.7 sec\ttotal: 8m 9s\tremaining: 9m 39s\n",
      "229:\tlearn 0.02991638639passed: 1.52 sec\ttotal: 8m 11s\tremaining: 9m 36s\n",
      "230:\tlearn 0.02989652492passed: 1.66 sec\ttotal: 8m 13s\tremaining: 9m 34s\n",
      "231:\tlearn 0.02987646904passed: 1.7 sec\ttotal: 8m 14s\tremaining: 9m 31s\n",
      "232:\tlearn 0.02985618146passed: 1.7 sec\ttotal: 8m 16s\tremaining: 9m 28s\n",
      "233:\tlearn 0.0298259532passed: 1.71 sec\ttotal: 8m 18s\tremaining: 9m 26s\n",
      "234:\tlearn 0.02980635623passed: 1.65 sec\ttotal: 8m 19s\tremaining: 9m 23s\n",
      "235:\tlearn 0.0297819276passed: 1.71 sec\ttotal: 8m 21s\tremaining: 9m 21s\n",
      "236:\tlearn 0.02976210622passed: 1.82 sec\ttotal: 8m 23s\tremaining: 9m 18s\n",
      "237:\tlearn 0.02974273078passed: 1.66 sec\ttotal: 8m 25s\tremaining: 9m 15s\n",
      "238:\tlearn 0.029708602passed: 1.65 sec\ttotal: 8m 26s\tremaining: 9m 13s\n",
      "239:\tlearn 0.02968647784passed: 1.9 sec\ttotal: 8m 28s\tremaining: 9m 10s\n",
      "240:\tlearn 0.02966113442passed: 1.68 sec\ttotal: 8m 30s\tremaining: 9m 8s\n",
      "241:\tlearn 0.0296437455passed: 1.62 sec\ttotal: 8m 31s\tremaining: 9m 5s\n",
      "242:\tlearn 0.02962233856passed: 1.89 sec\ttotal: 8m 33s\tremaining: 9m 3s\n",
      "243:\tlearn 0.02960294536passed: 1.6 sec\ttotal: 8m 35s\tremaining: 9m\n",
      "244:\tlearn 0.02957107611passed: 1.59 sec\ttotal: 8m 36s\tremaining: 8m 58s\n",
      "245:\tlearn 0.02954681774passed: 1.55 sec\ttotal: 8m 38s\tremaining: 8m 55s\n",
      "246:\tlearn 0.02952569368passed: 1.59 sec\ttotal: 8m 40s\tremaining: 8m 52s\n",
      "247:\tlearn 0.02950790766passed: 1.57 sec\ttotal: 8m 41s\tremaining: 8m 50s\n",
      "248:\tlearn 0.02948002572passed: 1.67 sec\ttotal: 8m 43s\tremaining: 8m 47s\n",
      "249:\tlearn 0.02945795532passed: 1.57 sec\ttotal: 8m 44s\tremaining: 8m 44s\n",
      "250:\tlearn 0.02943243851passed: 1.56 sec\ttotal: 8m 46s\tremaining: 8m 42s\n",
      "251:\tlearn 0.02941705947passed: 1.56 sec\ttotal: 8m 48s\tremaining: 8m 39s\n",
      "252:\tlearn 0.02939095849passed: 1.72 sec\ttotal: 8m 49s\tremaining: 8m 37s\n",
      "253:\tlearn 0.02937351695passed: 1.65 sec\ttotal: 8m 51s\tremaining: 8m 34s\n",
      "254:\tlearn 0.02934747215passed: 1.5 sec\ttotal: 8m 52s\tremaining: 8m 32s\n",
      "255:\tlearn 0.02932927925passed: 1.78 sec\ttotal: 8m 54s\tremaining: 8m 29s\n",
      "256:\tlearn 0.0293120466passed: 1.51 sec\ttotal: 8m 56s\tremaining: 8m 27s\n",
      "257:\tlearn 0.02929507176passed: 1.5 sec\ttotal: 8m 57s\tremaining: 8m 24s\n",
      "258:\tlearn 0.02927953881passed: 1.59 sec\ttotal: 8m 59s\tremaining: 8m 21s\n",
      "259:\tlearn 0.02925706585passed: 1.71 sec\ttotal: 9m 1s\tremaining: 8m 19s\n",
      "260:\tlearn 0.0292382857passed: 1.66 sec\ttotal: 9m 2s\tremaining: 8m 16s\n",
      "261:\tlearn 0.02922209088passed: 1.45 sec\ttotal: 9m 4s\tremaining: 8m 14s\n",
      "262:\tlearn 0.02920747718passed: 1.69 sec\ttotal: 9m 5s\tremaining: 8m 11s\n",
      "263:\tlearn 0.02918504273passed: 1.44 sec\ttotal: 9m 7s\tremaining: 8m 9s\n",
      "264:\tlearn 0.02916898851passed: 1.47 sec\ttotal: 9m 8s\tremaining: 8m 6s\n",
      "265:\tlearn 0.02915373202passed: 1.5 sec\ttotal: 9m 10s\tremaining: 8m 4s\n",
      "266:\tlearn 0.02913705517passed: 1.73 sec\ttotal: 9m 11s\tremaining: 8m 1s\n",
      "267:\tlearn 0.02911518229passed: 1.71 sec\ttotal: 9m 13s\tremaining: 7m 59s\n",
      "268:\tlearn 0.02909306108passed: 1.56 sec\ttotal: 9m 15s\tremaining: 7m 56s\n",
      "269:\tlearn 0.02907524251passed: 1.53 sec\ttotal: 9m 16s\tremaining: 7m 54s\n",
      "270:\tlearn 0.02905809647passed: 1.52 sec\ttotal: 9m 18s\tremaining: 7m 51s\n",
      "271:\tlearn 0.02904233929passed: 1.61 sec\ttotal: 9m 19s\tremaining: 7m 49s\n",
      "272:\tlearn 0.02902568592passed: 1.79 sec\ttotal: 9m 21s\tremaining: 7m 47s\n",
      "273:\tlearn 0.02900552073passed: 1.52 sec\ttotal: 9m 23s\tremaining: 7m 44s\n",
      "274:\tlearn 0.02898290233passed: 1.52 sec\ttotal: 9m 24s\tremaining: 7m 42s\n",
      "275:\tlearn 0.02896585014passed: 1.62 sec\ttotal: 9m 26s\tremaining: 7m 39s\n",
      "276:\tlearn 0.02894282911passed: 1.72 sec\ttotal: 9m 28s\tremaining: 7m 37s\n",
      "277:\tlearn 0.02892965107passed: 1.61 sec\ttotal: 9m 29s\tremaining: 7m 34s\n",
      "278:\tlearn 0.02891409823passed: 1.66 sec\ttotal: 9m 31s\tremaining: 7m 32s\n",
      "279:\tlearn 0.02889889692passed: 1.67 sec\ttotal: 9m 33s\tremaining: 7m 30s\n",
      "280:\tlearn 0.02888031874passed: 1.69 sec\ttotal: 9m 34s\tremaining: 7m 27s\n",
      "281:\tlearn 0.02886481696passed: 1.53 sec\ttotal: 9m 36s\tremaining: 7m 25s\n",
      "282:\tlearn 0.02884635283passed: 1.67 sec\ttotal: 9m 37s\tremaining: 7m 23s\n",
      "283:\tlearn 0.02883342612passed: 1.71 sec\ttotal: 9m 39s\tremaining: 7m 20s\n",
      "284:\tlearn 0.02881771888passed: 1.6 sec\ttotal: 9m 41s\tremaining: 7m 18s\n",
      "285:\tlearn 0.02880227613passed: 1.59 sec\ttotal: 9m 42s\tremaining: 7m 16s\n",
      "286:\tlearn 0.02878879918passed: 1.83 sec\ttotal: 9m 44s\tremaining: 7m 13s\n",
      "287:\tlearn 0.02876850464passed: 1.78 sec\ttotal: 9m 46s\tremaining: 7m 11s\n",
      "288:\tlearn 0.02875426092passed: 1.57 sec\ttotal: 9m 47s\tremaining: 7m 9s\n",
      "289:\tlearn 0.02874095393passed: 1.65 sec\ttotal: 9m 49s\tremaining: 7m 6s\n",
      "290:\tlearn 0.02872534365passed: 1.55 sec\ttotal: 9m 51s\tremaining: 7m 4s\n",
      "291:\tlearn 0.0287133076passed: 1.57 sec\ttotal: 9m 52s\tremaining: 7m 2s\n",
      "292:\tlearn 0.0286991207passed: 1.67 sec\ttotal: 9m 54s\tremaining: 6m 59s\n",
      "293:\tlearn 0.02868192618passed: 1.55 sec\ttotal: 9m 55s\tremaining: 6m 57s\n",
      "294:\tlearn 0.02866823015passed: 1.55 sec\ttotal: 9m 57s\tremaining: 6m 55s\n",
      "295:\tlearn 0.02865185043passed: 1.59 sec\ttotal: 9m 59s\tremaining: 6m 52s\n",
      "296:\tlearn 0.02863650057passed: 1.52 sec\ttotal: 10m\tremaining: 6m 50s\n",
      "297:\tlearn 0.02861681366passed: 1.59 sec\ttotal: 10m 2s\tremaining: 6m 48s\n",
      "298:\tlearn 0.02860162261passed: 1.64 sec\ttotal: 10m 3s\tremaining: 6m 45s\n",
      "299:\tlearn 0.0285879467passed: 1.57 sec\ttotal: 10m 5s\tremaining: 6m 43s\n",
      "300:\tlearn 0.02857664156passed: 1.75 sec\ttotal: 10m 7s\tremaining: 6m 41s\n",
      "301:\tlearn 0.02856431608passed: 1.77 sec\ttotal: 10m 8s\tremaining: 6m 39s\n",
      "302:\tlearn 0.02855292523passed: 1.57 sec\ttotal: 10m 10s\tremaining: 6m 36s\n",
      "303:\tlearn 0.02854022744passed: 1.6 sec\ttotal: 10m 12s\tremaining: 6m 34s\n",
      "304:\tlearn 0.02852844878passed: 1.62 sec\ttotal: 10m 13s\tremaining: 6m 32s\n",
      "305:\tlearn 0.02851789215passed: 1.5 sec\ttotal: 10m 15s\tremaining: 6m 30s\n",
      "306:\tlearn 0.02850514059passed: 1.5 sec\ttotal: 10m 16s\tremaining: 6m 27s\n",
      "307:\tlearn 0.02849172975passed: 1.66 sec\ttotal: 10m 18s\tremaining: 6m 25s\n",
      "308:\tlearn 0.02847999194passed: 1.57 sec\ttotal: 10m 19s\tremaining: 6m 23s\n",
      "309:\tlearn 0.0284590821passed: 1.58 sec\ttotal: 10m 21s\tremaining: 6m 20s\n",
      "310:\tlearn 0.02844302627passed: 1.71 sec\ttotal: 10m 23s\tremaining: 6m 18s\n",
      "311:\tlearn 0.0284274949passed: 1.54 sec\ttotal: 10m 24s\tremaining: 6m 16s\n",
      "312:\tlearn 0.02841344516passed: 1.55 sec\ttotal: 10m 26s\tremaining: 6m 14s\n",
      "313:\tlearn 0.02839662855passed: 1.59 sec\ttotal: 10m 27s\tremaining: 6m 11s\n",
      "314:\tlearn 0.02838474177passed: 1.54 sec\ttotal: 10m 29s\tremaining: 6m 9s\n",
      "315:\tlearn 0.02837156887passed: 1.68 sec\ttotal: 10m 31s\tremaining: 6m 7s\n",
      "316:\tlearn 0.0283487347passed: 1.52 sec\ttotal: 10m 32s\tremaining: 6m 5s\n",
      "317:\tlearn 0.02833751974passed: 1.55 sec\ttotal: 10m 34s\tremaining: 6m 3s\n",
      "318:\tlearn 0.02832704626passed: 1.63 sec\ttotal: 10m 35s\tremaining: 6m\n",
      "319:\tlearn 0.02831323771passed: 1.72 sec\ttotal: 10m 37s\tremaining: 5m 58s\n",
      "320:\tlearn 0.02830044824passed: 1.57 sec\ttotal: 10m 39s\tremaining: 5m 56s\n",
      "321:\tlearn 0.0282885202passed: 1.65 sec\ttotal: 10m 40s\tremaining: 5m 54s\n",
      "322:\tlearn 0.02827100368passed: 1.52 sec\ttotal: 10m 42s\tremaining: 5m 52s\n",
      "323:\tlearn 0.02825818074passed: 1.58 sec\ttotal: 10m 43s\tremaining: 5m 49s\n",
      "324:\tlearn 0.02824598339passed: 1.53 sec\ttotal: 10m 45s\tremaining: 5m 47s\n",
      "325:\tlearn 0.02822554206passed: 1.61 sec\ttotal: 10m 47s\tremaining: 5m 45s\n",
      "326:\tlearn 0.02821115174passed: 1.56 sec\ttotal: 10m 48s\tremaining: 5m 43s\n",
      "327:\tlearn 0.02819855079passed: 1.64 sec\ttotal: 10m 50s\tremaining: 5m 41s\n",
      "328:\tlearn 0.02818448999passed: 1.59 sec\ttotal: 10m 51s\tremaining: 5m 38s\n",
      "329:\tlearn 0.02817332467passed: 1.72 sec\ttotal: 10m 53s\tremaining: 5m 36s\n",
      "330:\tlearn 0.02815234822passed: 1.62 sec\ttotal: 10m 55s\tremaining: 5m 34s\n",
      "331:\tlearn 0.02814135102passed: 1.59 sec\ttotal: 10m 56s\tremaining: 5m 32s\n",
      "332:\tlearn 0.02812849978passed: 1.59 sec\ttotal: 10m 58s\tremaining: 5m 30s\n",
      "333:\tlearn 0.02811579703passed: 1.73 sec\ttotal: 11m\tremaining: 5m 28s\n",
      "334:\tlearn 0.02810618714passed: 1.57 sec\ttotal: 11m 1s\tremaining: 5m 25s\n",
      "335:\tlearn 0.02809590801passed: 1.49 sec\ttotal: 11m 3s\tremaining: 5m 23s\n",
      "336:\tlearn 0.02808059552passed: 1.72 sec\ttotal: 11m 4s\tremaining: 5m 21s\n",
      "337:\tlearn 0.02806073036passed: 1.64 sec\ttotal: 11m 6s\tremaining: 5m 19s\n"
     ]
    },
    {
     "name": "stdout",
     "output_type": "stream",
     "text": [
      "338:\tlearn 0.02805179745passed: 1.59 sec\ttotal: 11m 8s\tremaining: 5m 17s\n",
      "339:\tlearn 0.02803519939passed: 1.6 sec\ttotal: 11m 9s\tremaining: 5m 15s\n",
      "340:\tlearn 0.02802431705passed: 1.59 sec\ttotal: 11m 11s\tremaining: 5m 13s\n",
      "341:\tlearn 0.02800658706passed: 1.6 sec\ttotal: 11m 12s\tremaining: 5m 10s\n",
      "342:\tlearn 0.02799486829passed: 1.73 sec\ttotal: 11m 14s\tremaining: 5m 8s\n",
      "343:\tlearn 0.02798411517passed: 1.6 sec\ttotal: 11m 16s\tremaining: 5m 6s\n",
      "344:\tlearn 0.02797242077passed: 1.76 sec\ttotal: 11m 18s\tremaining: 5m 4s\n",
      "345:\tlearn 0.02796047536passed: 1.58 sec\ttotal: 11m 19s\tremaining: 5m 2s\n",
      "346:\tlearn 0.0279445481passed: 1.59 sec\ttotal: 11m 21s\tremaining: 5m\n",
      "347:\tlearn 0.02793420863passed: 1.54 sec\ttotal: 11m 22s\tremaining: 4m 58s\n",
      "348:\tlearn 0.02792120428passed: 1.83 sec\ttotal: 11m 24s\tremaining: 4m 56s\n",
      "349:\tlearn 0.02790831222passed: 1.62 sec\ttotal: 11m 26s\tremaining: 4m 54s\n",
      "350:\tlearn 0.02789185264passed: 1.71 sec\ttotal: 11m 27s\tremaining: 4m 52s\n",
      "351:\tlearn 0.02787859412passed: 1.64 sec\ttotal: 11m 29s\tremaining: 4m 49s\n",
      "352:\tlearn 0.02786727921passed: 1.59 sec\ttotal: 11m 31s\tremaining: 4m 47s\n",
      "353:\tlearn 0.02785453881passed: 1.62 sec\ttotal: 11m 32s\tremaining: 4m 45s\n",
      "354:\tlearn 0.02784250593passed: 1.55 sec\ttotal: 11m 34s\tremaining: 4m 43s\n",
      "355:\tlearn 0.02783279378passed: 1.67 sec\ttotal: 11m 36s\tremaining: 4m 41s\n",
      "356:\tlearn 0.02782172525passed: 1.6 sec\ttotal: 11m 37s\tremaining: 4m 39s\n",
      "357:\tlearn 0.02780799004passed: 1.62 sec\ttotal: 11m 39s\tremaining: 4m 37s\n",
      "358:\tlearn 0.02779918176passed: 1.52 sec\ttotal: 11m 40s\tremaining: 4m 35s\n",
      "359:\tlearn 0.02778958228passed: 1.71 sec\ttotal: 11m 42s\tremaining: 4m 33s\n",
      "360:\tlearn 0.02777935393passed: 1.64 sec\ttotal: 11m 44s\tremaining: 4m 31s\n",
      "361:\tlearn 0.02776739015passed: 1.59 sec\ttotal: 11m 45s\tremaining: 4m 29s\n",
      "362:\tlearn 0.02775132612passed: 1.63 sec\ttotal: 11m 47s\tremaining: 4m 26s\n",
      "363:\tlearn 0.02774326828passed: 1.71 sec\ttotal: 11m 49s\tremaining: 4m 24s\n",
      "364:\tlearn 0.02773158175passed: 1.53 sec\ttotal: 11m 50s\tremaining: 4m 22s\n",
      "365:\tlearn 0.02771588912passed: 1.57 sec\ttotal: 11m 52s\tremaining: 4m 20s\n",
      "366:\tlearn 0.02770764442passed: 1.54 sec\ttotal: 11m 53s\tremaining: 4m 18s\n",
      "367:\tlearn 0.02769840659passed: 1.66 sec\ttotal: 11m 55s\tremaining: 4m 16s\n",
      "368:\tlearn 0.02768867906passed: 1.44 sec\ttotal: 11m 56s\tremaining: 4m 14s\n",
      "369:\tlearn 0.02767906475passed: 1.53 sec\ttotal: 11m 58s\tremaining: 4m 12s\n",
      "370:\tlearn 0.02766281656passed: 1.69 sec\ttotal: 12m\tremaining: 4m 10s\n",
      "371:\tlearn 0.02765099626passed: 1.57 sec\ttotal: 12m 1s\tremaining: 4m 8s\n",
      "372:\tlearn 0.02764070787passed: 1.53 sec\ttotal: 12m 3s\tremaining: 4m 6s\n",
      "373:\tlearn 0.02762663733passed: 1.54 sec\ttotal: 12m 4s\tremaining: 4m 4s\n",
      "374:\tlearn 0.0276160569passed: 1.65 sec\ttotal: 12m 6s\tremaining: 4m 2s\n",
      "375:\tlearn 0.02760462081passed: 1.49 sec\ttotal: 12m 7s\tremaining: 4m\n",
      "376:\tlearn 0.02759487793passed: 1.6 sec\ttotal: 12m 9s\tremaining: 3m 57s\n",
      "377:\tlearn 0.02758651639passed: 1.53 sec\ttotal: 12m 10s\tremaining: 3m 55s\n",
      "378:\tlearn 0.02757361619passed: 1.53 sec\ttotal: 12m 12s\tremaining: 3m 53s\n",
      "379:\tlearn 0.02755883099passed: 1.66 sec\ttotal: 12m 14s\tremaining: 3m 51s\n",
      "380:\tlearn 0.02755172436passed: 1.61 sec\ttotal: 12m 15s\tremaining: 3m 49s\n",
      "381:\tlearn 0.02753975958passed: 1.59 sec\ttotal: 12m 17s\tremaining: 3m 47s\n",
      "382:\tlearn 0.02752443609passed: 1.58 sec\ttotal: 12m 18s\tremaining: 3m 45s\n",
      "383:\tlearn 0.02751397744passed: 1.58 sec\ttotal: 12m 20s\tremaining: 3m 43s\n",
      "384:\tlearn 0.02750223629passed: 1.64 sec\ttotal: 12m 22s\tremaining: 3m 41s\n",
      "385:\tlearn 0.02748938657passed: 1.54 sec\ttotal: 12m 23s\tremaining: 3m 39s\n",
      "386:\tlearn 0.02747835187passed: 1.56 sec\ttotal: 12m 25s\tremaining: 3m 37s\n",
      "387:\tlearn 0.02747006009passed: 1.62 sec\ttotal: 12m 26s\tremaining: 3m 35s\n",
      "388:\tlearn 0.0274623559passed: 1.71 sec\ttotal: 12m 28s\tremaining: 3m 33s\n",
      "389:\tlearn 0.02745043367passed: 1.55 sec\ttotal: 12m 30s\tremaining: 3m 31s\n",
      "390:\tlearn 0.02744214888passed: 1.5 sec\ttotal: 12m 31s\tremaining: 3m 29s\n",
      "391:\tlearn 0.02742935308passed: 1.6 sec\ttotal: 12m 33s\tremaining: 3m 27s\n",
      "392:\tlearn 0.02742019357passed: 1.66 sec\ttotal: 12m 34s\tremaining: 3m 25s\n",
      "393:\tlearn 0.0274109839passed: 1.52 sec\ttotal: 12m 36s\tremaining: 3m 23s\n",
      "394:\tlearn 0.0274022902passed: 1.51 sec\ttotal: 12m 37s\tremaining: 3m 21s\n",
      "395:\tlearn 0.02739185868passed: 1.6 sec\ttotal: 12m 39s\tremaining: 3m 19s\n",
      "396:\tlearn 0.02737987436passed: 1.65 sec\ttotal: 12m 41s\tremaining: 3m 17s\n",
      "397:\tlearn 0.02737104313passed: 1.68 sec\ttotal: 12m 42s\tremaining: 3m 15s\n",
      "398:\tlearn 0.02736061007passed: 1.62 sec\ttotal: 12m 44s\tremaining: 3m 13s\n",
      "399:\tlearn 0.02734994207passed: 1.56 sec\ttotal: 12m 46s\tremaining: 3m 11s\n",
      "400:\tlearn 0.02733676649passed: 1.5 sec\ttotal: 12m 47s\tremaining: 3m 9s\n",
      "401:\tlearn 0.02732758633passed: 1.62 sec\ttotal: 12m 49s\tremaining: 3m 7s\n",
      "402:\tlearn 0.02731777699passed: 1.7 sec\ttotal: 12m 50s\tremaining: 3m 5s\n",
      "403:\tlearn 0.02731003351passed: 1.74 sec\ttotal: 12m 52s\tremaining: 3m 3s\n",
      "404:\tlearn 0.02729667422passed: 1.53 sec\ttotal: 12m 54s\tremaining: 3m 1s\n",
      "405:\tlearn 0.02728103387passed: 1.61 sec\ttotal: 12m 55s\tremaining: 2m 59s\n",
      "406:\tlearn 0.02727391097passed: 1.85 sec\ttotal: 12m 57s\tremaining: 2m 57s\n",
      "407:\tlearn 0.02726189857passed: 1.59 sec\ttotal: 12m 59s\tremaining: 2m 55s\n",
      "408:\tlearn 0.02725294261passed: 1.59 sec\ttotal: 13m\tremaining: 2m 53s\n",
      "409:\tlearn 0.02724535307passed: 1.52 sec\ttotal: 13m 2s\tremaining: 2m 51s\n",
      "410:\tlearn 0.02723881223passed: 1.57 sec\ttotal: 13m 3s\tremaining: 2m 49s\n",
      "411:\tlearn 0.02722723648passed: 1.63 sec\ttotal: 13m 5s\tremaining: 2m 47s\n",
      "412:\tlearn 0.0272181174passed: 1.67 sec\ttotal: 13m 7s\tremaining: 2m 45s\n",
      "413:\tlearn 0.02720794645passed: 1.74 sec\ttotal: 13m 8s\tremaining: 2m 43s\n",
      "414:\tlearn 0.02719927903passed: 1.45 sec\ttotal: 13m 10s\tremaining: 2m 41s\n",
      "415:\tlearn 0.02719273271passed: 1.56 sec\ttotal: 13m 11s\tremaining: 2m 39s\n",
      "416:\tlearn 0.02718389647passed: 1.56 sec\ttotal: 13m 13s\tremaining: 2m 37s\n",
      "417:\tlearn 0.02717602485passed: 1.57 sec\ttotal: 13m 15s\tremaining: 2m 35s\n",
      "418:\tlearn 0.02716550239passed: 1.5 sec\ttotal: 13m 16s\tremaining: 2m 33s\n",
      "419:\tlearn 0.02715800502passed: 1.62 sec\ttotal: 13m 18s\tremaining: 2m 32s\n",
      "420:\tlearn 0.02714733846passed: 1.66 sec\ttotal: 13m 19s\tremaining: 2m 30s\n",
      "421:\tlearn 0.02714001621passed: 1.62 sec\ttotal: 13m 21s\tremaining: 2m 28s\n",
      "422:\tlearn 0.02713085673passed: 1.62 sec\ttotal: 13m 23s\tremaining: 2m 26s\n",
      "423:\tlearn 0.02712321352passed: 1.51 sec\ttotal: 13m 24s\tremaining: 2m 24s\n",
      "424:\tlearn 0.02711223843passed: 1.48 sec\ttotal: 13m 26s\tremaining: 2m 22s\n",
      "425:\tlearn 0.02710074269passed: 1.59 sec\ttotal: 13m 27s\tremaining: 2m 20s\n",
      "426:\tlearn 0.02709252824passed: 1.61 sec\ttotal: 13m 29s\tremaining: 2m 18s\n",
      "427:\tlearn 0.02708456063passed: 1.55 sec\ttotal: 13m 30s\tremaining: 2m 16s\n",
      "428:\tlearn 0.02707587688passed: 1.48 sec\ttotal: 13m 32s\tremaining: 2m 14s\n",
      "429:\tlearn 0.02706856128passed: 1.58 sec\ttotal: 13m 33s\tremaining: 2m 12s\n",
      "430:\tlearn 0.02705501751passed: 1.61 sec\ttotal: 13m 35s\tremaining: 2m 10s\n",
      "431:\tlearn 0.02704488254passed: 1.75 sec\ttotal: 13m 37s\tremaining: 2m 8s\n",
      "432:\tlearn 0.0270369429passed: 1.55 sec\ttotal: 13m 38s\tremaining: 2m 6s\n",
      "433:\tlearn 0.02703121792passed: 1.53 sec\ttotal: 13m 40s\tremaining: 2m 4s\n",
      "434:\tlearn 0.02702403367passed: 1.55 sec\ttotal: 13m 41s\tremaining: 2m 2s\n",
      "435:\tlearn 0.02701256103passed: 1.58 sec\ttotal: 13m 43s\tremaining: 2m\n",
      "436:\tlearn 0.02700437573passed: 1.78 sec\ttotal: 13m 45s\tremaining: 1m 58s\n",
      "437:\tlearn 0.02698762975passed: 1.58 sec\ttotal: 13m 46s\tremaining: 1m 57s\n",
      "438:\tlearn 0.02698203089passed: 1.58 sec\ttotal: 13m 48s\tremaining: 1m 55s\n",
      "439:\tlearn 0.02697205586passed: 1.73 sec\ttotal: 13m 50s\tremaining: 1m 53s\n",
      "440:\tlearn 0.02696464078passed: 1.66 sec\ttotal: 13m 51s\tremaining: 1m 51s\n",
      "441:\tlearn 0.02695502355passed: 1.54 sec\ttotal: 13m 53s\tremaining: 1m 49s\n",
      "442:\tlearn 0.02694730493passed: 1.5 sec\ttotal: 13m 54s\tremaining: 1m 47s\n",
      "443:\tlearn 0.02693937904passed: 1.54 sec\ttotal: 13m 56s\tremaining: 1m 45s\n",
      "444:\tlearn 0.02693096099passed: 1.69 sec\ttotal: 13m 58s\tremaining: 1m 43s\n",
      "445:\tlearn 0.02692358082passed: 1.53 sec\ttotal: 13m 59s\tremaining: 1m 41s\n",
      "446:\tlearn 0.02691484448passed: 1.61 sec\ttotal: 14m 1s\tremaining: 1m 39s\n",
      "447:\tlearn 0.0269084282passed: 1.58 sec\ttotal: 14m 2s\tremaining: 1m 37s\n",
      "448:\tlearn 0.02690080286passed: 1.89 sec\ttotal: 14m 4s\tremaining: 1m 35s\n",
      "449:\tlearn 0.02689279316passed: 1.61 sec\ttotal: 14m 6s\tremaining: 1m 34s\n"
     ]
    },
    {
     "name": "stdout",
     "output_type": "stream",
     "text": [
      "450:\tlearn 0.02688487686passed: 1.62 sec\ttotal: 14m 7s\tremaining: 1m 32s\n",
      "451:\tlearn 0.02687796957passed: 1.62 sec\ttotal: 14m 9s\tremaining: 1m 30s\n",
      "452:\tlearn 0.02686827465passed: 1.54 sec\ttotal: 14m 11s\tremaining: 1m 28s\n",
      "453:\tlearn 0.02685725378passed: 1.7 sec\ttotal: 14m 12s\tremaining: 1m 26s\n",
      "454:\tlearn 0.02685144759passed: 1.72 sec\ttotal: 14m 14s\tremaining: 1m 24s\n",
      "455:\tlearn 0.02684235463passed: 1.63 sec\ttotal: 14m 16s\tremaining: 1m 22s\n",
      "456:\tlearn 0.02683500457passed: 1.57 sec\ttotal: 14m 17s\tremaining: 1m 20s\n",
      "457:\tlearn 0.02682508386passed: 1.69 sec\ttotal: 14m 19s\tremaining: 1m 18s\n",
      "458:\tlearn 0.02681975636passed: 1.77 sec\ttotal: 14m 21s\tremaining: 1m 16s\n",
      "459:\tlearn 0.02681330638passed: 1.55 sec\ttotal: 14m 22s\tremaining: 1m 15s\n",
      "460:\tlearn 0.02680310545passed: 1.86 sec\ttotal: 14m 24s\tremaining: 1m 13s\n",
      "461:\tlearn 0.02679575082passed: 1.57 sec\ttotal: 14m 26s\tremaining: 1m 11s\n",
      "462:\tlearn 0.02678965478passed: 1.75 sec\ttotal: 14m 27s\tremaining: 1m 9s\n",
      "463:\tlearn 0.02678456683passed: 1.69 sec\ttotal: 14m 29s\tremaining: 1m 7s\n",
      "464:\tlearn 0.02677515717passed: 1.59 sec\ttotal: 14m 31s\tremaining: 1m 5s\n",
      "465:\tlearn 0.02676803672passed: 1.59 sec\ttotal: 14m 32s\tremaining: 1m 3s\n",
      "466:\tlearn 0.02675813523passed: 1.55 sec\ttotal: 14m 34s\tremaining: 1m 1s\n",
      "467:\tlearn 0.02675193848passed: 1.61 sec\ttotal: 14m 35s\tremaining: 59.9s\n",
      "468:\tlearn 0.02674292528passed: 1.65 sec\ttotal: 14m 37s\tremaining: 58s\n",
      "469:\tlearn 0.02673365135passed: 1.58 sec\ttotal: 14m 39s\tremaining: 56.1s\n",
      "470:\tlearn 0.02672718774passed: 1.64 sec\ttotal: 14m 40s\tremaining: 54.2s\n",
      "471:\tlearn 0.02672008021passed: 1.53 sec\ttotal: 14m 42s\tremaining: 52.3s\n",
      "472:\tlearn 0.02671252819passed: 1.63 sec\ttotal: 14m 43s\tremaining: 50.5s\n",
      "473:\tlearn 0.02670719483passed: 1.61 sec\ttotal: 14m 45s\tremaining: 48.6s\n",
      "474:\tlearn 0.02670112998passed: 1.48 sec\ttotal: 14m 47s\tremaining: 46.7s\n",
      "475:\tlearn 0.02669463908passed: 1.73 sec\ttotal: 14m 48s\tremaining: 44.8s\n",
      "476:\tlearn 0.02668787481passed: 1.58 sec\ttotal: 14m 50s\tremaining: 42.9s\n",
      "477:\tlearn 0.02667702734passed: 1.68 sec\ttotal: 14m 52s\tremaining: 41.1s\n",
      "478:\tlearn 0.02667108972passed: 1.63 sec\ttotal: 14m 53s\tremaining: 39.2s\n",
      "479:\tlearn 0.02666397492passed: 1.69 sec\ttotal: 14m 55s\tremaining: 37.3s\n",
      "480:\tlearn 0.02665855288passed: 1.51 sec\ttotal: 14m 56s\tremaining: 35.4s\n",
      "481:\tlearn 0.0266504914passed: 1.58 sec\ttotal: 14m 58s\tremaining: 33.6s\n",
      "482:\tlearn 0.02664410803passed: 1.63 sec\ttotal: 15m\tremaining: 31.7s\n",
      "483:\tlearn 0.02663674234passed: 1.68 sec\ttotal: 15m 1s\tremaining: 29.8s\n",
      "484:\tlearn 0.02663091506passed: 1.65 sec\ttotal: 15m 3s\tremaining: 27.9s\n",
      "485:\tlearn 0.02662186861passed: 1.55 sec\ttotal: 15m 4s\tremaining: 26.1s\n",
      "486:\tlearn 0.02661474722passed: 1.56 sec\ttotal: 15m 6s\tremaining: 24.2s\n",
      "487:\tlearn 0.02660907397passed: 1.74 sec\ttotal: 15m 8s\tremaining: 22.3s\n",
      "488:\tlearn 0.02660288081passed: 1.55 sec\ttotal: 15m 9s\tremaining: 20.5s\n",
      "489:\tlearn 0.02659368279passed: 1.66 sec\ttotal: 15m 11s\tremaining: 18.6s\n",
      "490:\tlearn 0.02658350132passed: 1.6 sec\ttotal: 15m 13s\tremaining: 16.7s\n",
      "491:\tlearn 0.02657840082passed: 1.7 sec\ttotal: 15m 14s\tremaining: 14.9s\n",
      "492:\tlearn 0.02656996918passed: 1.82 sec\ttotal: 15m 16s\tremaining: 13s\n",
      "493:\tlearn 0.02656378426passed: 1.7 sec\ttotal: 15m 18s\tremaining: 11.2s\n",
      "494:\tlearn 0.02655298218passed: 1.69 sec\ttotal: 15m 19s\tremaining: 9.29s\n",
      "495:\tlearn 0.02654825817passed: 1.9 sec\ttotal: 15m 21s\tremaining: 7.43s\n",
      "496:\tlearn 0.02654280046passed: 1.57 sec\ttotal: 15m 23s\tremaining: 5.57s\n",
      "497:\tlearn 0.02653826063passed: 1.43 sec\ttotal: 15m 24s\tremaining: 3.71s\n",
      "498:\tlearn 0.02653091562passed: 1.71 sec\ttotal: 15m 26s\tremaining: 1.86s\n",
      "499:\tlearn 0.02652297398passed: 1.64 sec\ttotal: 15m 28s\tremaining: 0us\n",
      "CPU times: user 1h 26min 19s, sys: 7min 8s, total: 1h 33min 27s\n",
      "Wall time: 15min 39s\n"
     ]
    },
    {
     "data": {
      "text/plain": [
       "<catboost.core.CatBoostClassifier at 0x7f904d278860>"
      ]
     },
     "execution_count": 20,
     "metadata": {},
     "output_type": "execute_result"
    }
   ],
   "source": [
    "model = CatBoostClassifier(iterations=500, depth=10, learning_rate=1,\n",
    "                           loss_function='CrossEntropy', logging_level='Verbose', random_seed=42, verbose=True)\n",
    "\n",
    "#%time model.fit(X_train.values, y_train)\n",
    "%time model.fit(data.drop(['event_id','signal','data_ind','index'], axis=1).values, data.signal)"
   ]
  },
  {
   "cell_type": "markdown",
   "metadata": {},
   "source": [
    "## Open test"
   ]
  },
  {
   "cell_type": "code",
   "execution_count": 12,
   "metadata": {
    "collapsed": true
   },
   "outputs": [],
   "source": [
    "from sklearn.metrics import roc_auc_score"
   ]
  },
  {
   "cell_type": "code",
   "execution_count": 8,
   "metadata": {
    "collapsed": true
   },
   "outputs": [],
   "source": [
    "data6 = pd.read_hdf('data/milestone4/open6_extended3.h5', mode='r')\n",
    "data7 = pd.read_hdf('data/milestone4/open7_extended3.h5', mode='r')\n",
    "data8 = pd.read_hdf('data/milestone4/open8_extended3.h5', mode='r')\n",
    "data9 = pd.read_hdf('data/milestone4/open9_extended3.h5', mode='r')\n",
    "data10 = pd.read_hdf('data/milestone4/open10_extended3.h5', mode='r')"
   ]
  },
  {
   "cell_type": "code",
   "execution_count": 9,
   "metadata": {
    "collapsed": true
   },
   "outputs": [],
   "source": [
    "data_test = pd.concat([data6, data7, data8, data9, data10])"
   ]
  },
  {
   "cell_type": "code",
   "execution_count": 21,
   "metadata": {},
   "outputs": [
    {
     "name": "stdout",
     "output_type": "stream",
     "text": [
      "CPU times: user 1min 9s, sys: 3.14 s, total: 1min 12s\n",
      "Wall time: 1min 12s\n",
      "CPU times: user 1.24 s, sys: 4 ms, total: 1.24 s\n",
      "Wall time: 1.24 s\n"
     ]
    },
    {
     "data": {
      "text/plain": [
       "0.97535604915987806"
      ]
     },
     "execution_count": 21,
     "metadata": {},
     "output_type": "execute_result"
    }
   ],
   "source": [
    "%time predict = model.predict_proba(data_test.drop(['event_id','signal','data_ind','index'], axis=1).values)[:,1]\n",
    "%time roc_auc_score(data_test.signal, predict)"
   ]
  },
  {
   "cell_type": "markdown",
   "metadata": {},
   "source": [
    "0.95375680185860001 iter=20, depth=3, 10% signals\n",
    "0.97075916276167629 iter=20, depth=8, 10% signals\n",
    "0.9727042293224768 iter=20, depth=10, 10% signals\n",
    "0.97535604915987806 "
   ]
  },
  {
   "cell_type": "markdown",
   "metadata": {},
   "source": [
    "## Close test"
   ]
  },
  {
   "cell_type": "code",
   "execution_count": 162,
   "metadata": {
    "collapsed": true
   },
   "outputs": [],
   "source": [
    "data0 = pd.read_hdf('data/milestone4/close0_extended3.h5', mode='r')\n",
    "data1 = pd.read_hdf('data/milestone4/close1_extended3.h5', mode='r')\n",
    "data2 = pd.read_hdf('data/milestone4/close2_extended3.h5', mode='r')\n",
    "data3 = pd.read_hdf('data/milestone4/close3_extended3.h5', mode='r')\n",
    "data4 = pd.read_hdf('data/milestone4/close4_extended3.h5', mode='r')\n",
    "data5 = pd.read_hdf('data/milestone4/close5_extended3.h5', mode='r')\n",
    "data6 = pd.read_hdf('data/milestone4/close6_extended3.h5', mode='r')\n",
    "data7 = pd.read_hdf('data/milestone4/close7_extended3.h5', mode='r')\n",
    "data8 = pd.read_hdf('data/milestone4/close8_extended3.h5', mode='r')\n",
    "data9 = pd.read_hdf('data/milestone4/close9_extended3.h5', mode='r')\n",
    "data10 = pd.read_hdf('data/milestone4/close10_extended3.h5', mode='r')"
   ]
  },
  {
   "cell_type": "code",
   "execution_count": 163,
   "metadata": {
    "collapsed": true
   },
   "outputs": [],
   "source": [
    "df_test = pd.concat([data0, data1, data2, data3, data4, data5, data6, data7, data8, data9, data10 ])"
   ]
  },
  {
   "cell_type": "code",
   "execution_count": 164,
   "metadata": {},
   "outputs": [
    {
     "name": "stdout",
     "output_type": "stream",
     "text": [
      "<class 'pandas.core.frame.DataFrame'>\n",
      "Int64Index: 7698763 entries, 0 to 6998080\n",
      "Data columns (total 19 columns):\n",
      "TX            float32\n",
      "TY            float32\n",
      "X             float32\n",
      "Y             float32\n",
      "Z             float32\n",
      "data_ind      int32\n",
      "index         int32\n",
      "X1            float32\n",
      "Y1            float32\n",
      "X2            float32\n",
      "Y2            float32\n",
      "dfore         float32\n",
      "dback         float32\n",
      "X3            float32\n",
      "Y3            float32\n",
      "dfore2        float32\n",
      "dback2        float32\n",
      "dfore_simp    float32\n",
      "dback_simp    float32\n",
      "dtypes: float32(17), int32(2)\n",
      "memory usage: 616.7 MB\n"
     ]
    }
   ],
   "source": [
    "df_test.info()"
   ]
  },
  {
   "cell_type": "code",
   "execution_count": 169,
   "metadata": {},
   "outputs": [
    {
     "name": "stdout",
     "output_type": "stream",
     "text": [
      "CPU times: user 2min 31s, sys: 25.1 s, total: 2min 56s\n",
      "Wall time: 2min 56s\n"
     ]
    }
   ],
   "source": [
    "%time df_test['signal'] = model.predict_proba(df_test.drop(['data_ind','index'], axis=1).values)[:,1]"
   ]
  },
  {
   "cell_type": "code",
   "execution_count": 258,
   "metadata": {},
   "outputs": [
    {
     "name": "stdout",
     "output_type": "stream",
     "text": [
      "CPU times: user 2min 25s, sys: 22.6 s, total: 2min 48s\n",
      "Wall time: 2min 48s\n"
     ]
    }
   ],
   "source": [
    "%time df_test['signal'] = model.predict_proba(df_test.drop(['data_ind','index','signal'], axis=1).values)[:,1]"
   ]
  },
  {
   "cell_type": "code",
   "execution_count": 170,
   "metadata": {
    "collapsed": true
   },
   "outputs": [],
   "source": [
    "result = pd.DataFrame()\n",
    "result['index'] = range(7698899)"
   ]
  },
  {
   "cell_type": "code",
   "execution_count": 171,
   "metadata": {
    "collapsed": true
   },
   "outputs": [],
   "source": [
    "result = pd.merge(result, df_test[['index','signal']], how='left', on='index')\n",
    "result = result.fillna(1.0)"
   ]
  },
  {
   "cell_type": "code",
   "execution_count": 178,
   "metadata": {
    "collapsed": true
   },
   "outputs": [],
   "source": [
    "result = result.rename(columns={'index': 'id'})"
   ]
  },
  {
   "cell_type": "code",
   "execution_count": 172,
   "metadata": {},
   "outputs": [
    {
     "name": "stdout",
     "output_type": "stream",
     "text": [
      "<class 'pandas.core.frame.DataFrame'>\n",
      "Int64Index: 7698899 entries, 0 to 7698898\n",
      "Data columns (total 2 columns):\n",
      "index     int64\n",
      "signal    float64\n",
      "dtypes: float64(1), int64(1)\n",
      "memory usage: 176.2 MB\n"
     ]
    }
   ],
   "source": [
    "result.info()"
   ]
  },
  {
   "cell_type": "code",
   "execution_count": 179,
   "metadata": {},
   "outputs": [
    {
     "data": {
      "text/html": [
       "<div>\n",
       "<style>\n",
       "    .dataframe thead tr:only-child th {\n",
       "        text-align: right;\n",
       "    }\n",
       "\n",
       "    .dataframe thead th {\n",
       "        text-align: left;\n",
       "    }\n",
       "\n",
       "    .dataframe tbody tr th {\n",
       "        vertical-align: top;\n",
       "    }\n",
       "</style>\n",
       "<table border=\"1\" class=\"dataframe\">\n",
       "  <thead>\n",
       "    <tr style=\"text-align: right;\">\n",
       "      <th></th>\n",
       "      <th>id</th>\n",
       "      <th>signal</th>\n",
       "    </tr>\n",
       "  </thead>\n",
       "  <tbody>\n",
       "    <tr>\n",
       "      <th>0</th>\n",
       "      <td>0</td>\n",
       "      <td>0.003854</td>\n",
       "    </tr>\n",
       "    <tr>\n",
       "      <th>1</th>\n",
       "      <td>1</td>\n",
       "      <td>0.001983</td>\n",
       "    </tr>\n",
       "    <tr>\n",
       "      <th>2</th>\n",
       "      <td>2</td>\n",
       "      <td>0.002301</td>\n",
       "    </tr>\n",
       "    <tr>\n",
       "      <th>3</th>\n",
       "      <td>3</td>\n",
       "      <td>0.002867</td>\n",
       "    </tr>\n",
       "    <tr>\n",
       "      <th>4</th>\n",
       "      <td>4</td>\n",
       "      <td>0.002015</td>\n",
       "    </tr>\n",
       "  </tbody>\n",
       "</table>\n",
       "</div>"
      ],
      "text/plain": [
       "   id    signal\n",
       "0   0  0.003854\n",
       "1   1  0.001983\n",
       "2   2  0.002301\n",
       "3   3  0.002867\n",
       "4   4  0.002015"
      ]
     },
     "execution_count": 179,
     "metadata": {},
     "output_type": "execute_result"
    }
   ],
   "source": [
    "result.head()"
   ]
  },
  {
   "cell_type": "code",
   "execution_count": 180,
   "metadata": {
    "collapsed": true
   },
   "outputs": [],
   "source": [
    "result.to_csv('~/data/milestone4/result.csv', index=False)"
   ]
  },
  {
   "cell_type": "markdown",
   "metadata": {},
   "source": [
    "public: 0.95882 privat: 0.95452"
   ]
  }
 ],
 "metadata": {
  "kernelspec": {
   "display_name": "Python 3",
   "language": "python",
   "name": "python3"
  },
  "language_info": {
   "codemirror_mode": {
    "name": "ipython",
    "version": 3
   },
   "file_extension": ".py",
   "mimetype": "text/x-python",
   "name": "python",
   "nbconvert_exporter": "python",
   "pygments_lexer": "ipython3",
   "version": "3.6.2"
  }
 },
 "nbformat": 4,
 "nbformat_minor": 2
}
