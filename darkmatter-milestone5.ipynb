{
 "cells": [
  {
   "cell_type": "code",
   "execution_count": 1,
   "metadata": {
    "collapsed": true
   },
   "outputs": [],
   "source": [
    "import pandas as pd\n",
    "import glob\n",
    "import numpy as np\n",
    "from sklearn.neighbors import BallTree, KDTree, DistanceMetric\n",
    "import lightgbm as lgb\n",
    "import matplotlib.pyplot as plt\n",
    "import matplotlib.lines as lines\n",
    "import matplotlib as mpl\n",
    "from mpl_toolkits.mplot3d import Axes3D\n",
    "import subprocess\n",
    "from scipy.spatial import distance\n",
    "\n",
    "from tqdm import tqdm_notebook as tqdm\n",
    "\n",
    "from tqdm import tnrange as trange"
   ]
  },
  {
   "cell_type": "code",
   "execution_count": 2,
   "metadata": {},
   "outputs": [
    {
     "name": "stdout",
     "output_type": "stream",
     "text": [
      "(2958072, 7)\n"
     ]
    },
    {
     "data": {
      "text/html": [
       "<div>\n",
       "<style>\n",
       "    .dataframe thead tr:only-child th {\n",
       "        text-align: right;\n",
       "    }\n",
       "\n",
       "    .dataframe thead th {\n",
       "        text-align: left;\n",
       "    }\n",
       "\n",
       "    .dataframe tbody tr th {\n",
       "        vertical-align: top;\n",
       "    }\n",
       "</style>\n",
       "<table border=\"1\" class=\"dataframe\">\n",
       "  <thead>\n",
       "    <tr style=\"text-align: right;\">\n",
       "      <th></th>\n",
       "      <th>id</th>\n",
       "      <th>TX</th>\n",
       "      <th>TY</th>\n",
       "      <th>X</th>\n",
       "      <th>Y</th>\n",
       "      <th>Z</th>\n",
       "      <th>data_ind</th>\n",
       "    </tr>\n",
       "  </thead>\n",
       "  <tbody>\n",
       "    <tr>\n",
       "      <th>0</th>\n",
       "      <td>0</td>\n",
       "      <td>-0.243285</td>\n",
       "      <td>0.034970</td>\n",
       "      <td>49282.421875</td>\n",
       "      <td>49359.332031</td>\n",
       "      <td>40083.0</td>\n",
       "      <td>0</td>\n",
       "    </tr>\n",
       "    <tr>\n",
       "      <th>1</th>\n",
       "      <td>1</td>\n",
       "      <td>-0.111049</td>\n",
       "      <td>0.052493</td>\n",
       "      <td>41839.175781</td>\n",
       "      <td>21390.554688</td>\n",
       "      <td>33618.0</td>\n",
       "      <td>0</td>\n",
       "    </tr>\n",
       "    <tr>\n",
       "      <th>2</th>\n",
       "      <td>2</td>\n",
       "      <td>-0.047433</td>\n",
       "      <td>-0.269513</td>\n",
       "      <td>60404.886719</td>\n",
       "      <td>28631.410156</td>\n",
       "      <td>42669.0</td>\n",
       "      <td>0</td>\n",
       "    </tr>\n",
       "    <tr>\n",
       "      <th>3</th>\n",
       "      <td>3</td>\n",
       "      <td>-0.081808</td>\n",
       "      <td>0.022675</td>\n",
       "      <td>31875.050781</td>\n",
       "      <td>30950.125000</td>\n",
       "      <td>62064.0</td>\n",
       "      <td>0</td>\n",
       "    </tr>\n",
       "    <tr>\n",
       "      <th>4</th>\n",
       "      <td>4</td>\n",
       "      <td>0.386942</td>\n",
       "      <td>-0.271280</td>\n",
       "      <td>36173.644531</td>\n",
       "      <td>25627.705078</td>\n",
       "      <td>36204.0</td>\n",
       "      <td>0</td>\n",
       "    </tr>\n",
       "  </tbody>\n",
       "</table>\n",
       "</div>"
      ],
      "text/plain": [
       "   id        TX        TY             X             Y        Z  data_ind\n",
       "0   0 -0.243285  0.034970  49282.421875  49359.332031  40083.0         0\n",
       "1   1 -0.111049  0.052493  41839.175781  21390.554688  33618.0         0\n",
       "2   2 -0.047433 -0.269513  60404.886719  28631.410156  42669.0         0\n",
       "3   3 -0.081808  0.022675  31875.050781  30950.125000  62064.0         0\n",
       "4   4  0.386942 -0.271280  36173.644531  25627.705078  36204.0         0"
      ]
     },
     "execution_count": 2,
     "metadata": {},
     "output_type": "execute_result"
    }
   ],
   "source": [
    "test_data = pd.read_csv('data/dm5/test_data13_changed_50.csv.zip')\n",
    "print(test_data.shape)\n",
    "test_data.head()"
   ]
  },
  {
   "cell_type": "code",
   "execution_count": 3,
   "metadata": {},
   "outputs": [
    {
     "name": "stdout",
     "output_type": "stream",
     "text": [
      "(2958072, 51)\n"
     ]
    },
    {
     "data": {
      "text/html": [
       "<div>\n",
       "<style>\n",
       "    .dataframe thead tr:only-child th {\n",
       "        text-align: right;\n",
       "    }\n",
       "\n",
       "    .dataframe thead th {\n",
       "        text-align: left;\n",
       "    }\n",
       "\n",
       "    .dataframe tbody tr th {\n",
       "        vertical-align: top;\n",
       "    }\n",
       "</style>\n",
       "<table border=\"1\" class=\"dataframe\">\n",
       "  <thead>\n",
       "    <tr style=\"text-align: right;\">\n",
       "      <th></th>\n",
       "      <th>id</th>\n",
       "      <th>class_0</th>\n",
       "      <th>class_1</th>\n",
       "      <th>class_2</th>\n",
       "      <th>class_3</th>\n",
       "      <th>class_4</th>\n",
       "      <th>class_5</th>\n",
       "      <th>class_6</th>\n",
       "      <th>class_7</th>\n",
       "      <th>class_8</th>\n",
       "      <th>...</th>\n",
       "      <th>class_40</th>\n",
       "      <th>class_41</th>\n",
       "      <th>class_42</th>\n",
       "      <th>class_43</th>\n",
       "      <th>class_44</th>\n",
       "      <th>class_45</th>\n",
       "      <th>class_46</th>\n",
       "      <th>class_47</th>\n",
       "      <th>class_48</th>\n",
       "      <th>class_49</th>\n",
       "    </tr>\n",
       "  </thead>\n",
       "  <tbody>\n",
       "    <tr>\n",
       "      <th>0</th>\n",
       "      <td>0</td>\n",
       "      <td>0.0</td>\n",
       "      <td>0.0</td>\n",
       "      <td>0.0</td>\n",
       "      <td>0.0</td>\n",
       "      <td>0.0</td>\n",
       "      <td>0.0</td>\n",
       "      <td>0.0</td>\n",
       "      <td>0.0</td>\n",
       "      <td>0.0</td>\n",
       "      <td>...</td>\n",
       "      <td>0.0</td>\n",
       "      <td>0.0</td>\n",
       "      <td>0.0</td>\n",
       "      <td>0.0</td>\n",
       "      <td>0.0</td>\n",
       "      <td>0.0</td>\n",
       "      <td>0.0</td>\n",
       "      <td>0.0</td>\n",
       "      <td>0.0</td>\n",
       "      <td>0.0</td>\n",
       "    </tr>\n",
       "    <tr>\n",
       "      <th>1</th>\n",
       "      <td>1</td>\n",
       "      <td>0.0</td>\n",
       "      <td>0.0</td>\n",
       "      <td>0.0</td>\n",
       "      <td>0.0</td>\n",
       "      <td>0.0</td>\n",
       "      <td>0.0</td>\n",
       "      <td>0.0</td>\n",
       "      <td>0.0</td>\n",
       "      <td>0.0</td>\n",
       "      <td>...</td>\n",
       "      <td>0.0</td>\n",
       "      <td>0.0</td>\n",
       "      <td>0.0</td>\n",
       "      <td>0.0</td>\n",
       "      <td>0.0</td>\n",
       "      <td>0.0</td>\n",
       "      <td>0.0</td>\n",
       "      <td>0.0</td>\n",
       "      <td>0.0</td>\n",
       "      <td>0.0</td>\n",
       "    </tr>\n",
       "    <tr>\n",
       "      <th>2</th>\n",
       "      <td>2</td>\n",
       "      <td>0.0</td>\n",
       "      <td>0.0</td>\n",
       "      <td>0.0</td>\n",
       "      <td>0.0</td>\n",
       "      <td>0.0</td>\n",
       "      <td>0.0</td>\n",
       "      <td>0.0</td>\n",
       "      <td>0.0</td>\n",
       "      <td>0.0</td>\n",
       "      <td>...</td>\n",
       "      <td>0.0</td>\n",
       "      <td>0.0</td>\n",
       "      <td>0.0</td>\n",
       "      <td>0.0</td>\n",
       "      <td>0.0</td>\n",
       "      <td>0.0</td>\n",
       "      <td>0.0</td>\n",
       "      <td>0.0</td>\n",
       "      <td>0.0</td>\n",
       "      <td>0.0</td>\n",
       "    </tr>\n",
       "    <tr>\n",
       "      <th>3</th>\n",
       "      <td>3</td>\n",
       "      <td>0.0</td>\n",
       "      <td>0.0</td>\n",
       "      <td>0.0</td>\n",
       "      <td>0.0</td>\n",
       "      <td>0.0</td>\n",
       "      <td>0.0</td>\n",
       "      <td>0.0</td>\n",
       "      <td>0.0</td>\n",
       "      <td>0.0</td>\n",
       "      <td>...</td>\n",
       "      <td>0.0</td>\n",
       "      <td>0.0</td>\n",
       "      <td>0.0</td>\n",
       "      <td>0.0</td>\n",
       "      <td>0.0</td>\n",
       "      <td>0.0</td>\n",
       "      <td>0.0</td>\n",
       "      <td>0.0</td>\n",
       "      <td>0.0</td>\n",
       "      <td>0.0</td>\n",
       "    </tr>\n",
       "    <tr>\n",
       "      <th>4</th>\n",
       "      <td>4</td>\n",
       "      <td>0.0</td>\n",
       "      <td>0.0</td>\n",
       "      <td>0.0</td>\n",
       "      <td>0.0</td>\n",
       "      <td>0.0</td>\n",
       "      <td>0.0</td>\n",
       "      <td>0.0</td>\n",
       "      <td>0.0</td>\n",
       "      <td>0.0</td>\n",
       "      <td>...</td>\n",
       "      <td>0.0</td>\n",
       "      <td>0.0</td>\n",
       "      <td>0.0</td>\n",
       "      <td>0.0</td>\n",
       "      <td>0.0</td>\n",
       "      <td>0.0</td>\n",
       "      <td>0.0</td>\n",
       "      <td>0.0</td>\n",
       "      <td>0.0</td>\n",
       "      <td>0.0</td>\n",
       "    </tr>\n",
       "  </tbody>\n",
       "</table>\n",
       "<p>5 rows × 51 columns</p>\n",
       "</div>"
      ],
      "text/plain": [
       "   id  class_0  class_1  class_2  class_3  class_4  class_5  class_6  class_7  \\\n",
       "0   0      0.0      0.0      0.0      0.0      0.0      0.0      0.0      0.0   \n",
       "1   1      0.0      0.0      0.0      0.0      0.0      0.0      0.0      0.0   \n",
       "2   2      0.0      0.0      0.0      0.0      0.0      0.0      0.0      0.0   \n",
       "3   3      0.0      0.0      0.0      0.0      0.0      0.0      0.0      0.0   \n",
       "4   4      0.0      0.0      0.0      0.0      0.0      0.0      0.0      0.0   \n",
       "\n",
       "   class_8    ...     class_40  class_41  class_42  class_43  class_44  \\\n",
       "0      0.0    ...          0.0       0.0       0.0       0.0       0.0   \n",
       "1      0.0    ...          0.0       0.0       0.0       0.0       0.0   \n",
       "2      0.0    ...          0.0       0.0       0.0       0.0       0.0   \n",
       "3      0.0    ...          0.0       0.0       0.0       0.0       0.0   \n",
       "4      0.0    ...          0.0       0.0       0.0       0.0       0.0   \n",
       "\n",
       "   class_45  class_46  class_47  class_48  class_49  \n",
       "0       0.0       0.0       0.0       0.0       0.0  \n",
       "1       0.0       0.0       0.0       0.0       0.0  \n",
       "2       0.0       0.0       0.0       0.0       0.0  \n",
       "3       0.0       0.0       0.0       0.0       0.0  \n",
       "4       0.0       0.0       0.0       0.0       0.0  \n",
       "\n",
       "[5 rows x 51 columns]"
      ]
     },
     "execution_count": 3,
     "metadata": {},
     "output_type": "execute_result"
    }
   ],
   "source": [
    "test_example = pd.read_csv('data/dm5/test_example13_changed_50.csv.zip')\n",
    "print(test_example.shape)\n",
    "test_example.head()"
   ]
  },
  {
   "cell_type": "code",
   "execution_count": 4,
   "metadata": {},
   "outputs": [
    {
     "name": "stderr",
     "output_type": "stream",
     "text": [
      "Widget Javascript not detected.  It may not be installed or enabled properly.\n"
     ]
    },
    {
     "data": {
      "application/vnd.jupyter.widget-view+json": {
       "model_id": "25a25b89e18240a8887c47392b9c6bec"
      }
     },
     "metadata": {},
     "output_type": "display_data"
    },
    {
     "name": "stdout",
     "output_type": "stream",
     "text": [
      "data/dm5/open/open30.h5\n",
      "data/dm5/open/open0.h5\n",
      "data/dm5/open/open40.h5\n",
      "data/dm5/open/open10.h5\n",
      "data/dm5/open/open70.h5\n",
      "data/dm5/open/open80.h5\n",
      "data/dm5/open/open50.h5\n",
      "data/dm5/open/open20.h5\n",
      "data/dm5/open/open60.h5\n",
      "\n",
      "(120421126, 8)\n"
     ]
    },
    {
     "data": {
      "text/html": [
       "<div>\n",
       "<style>\n",
       "    .dataframe thead tr:only-child th {\n",
       "        text-align: right;\n",
       "    }\n",
       "\n",
       "    .dataframe thead th {\n",
       "        text-align: left;\n",
       "    }\n",
       "\n",
       "    .dataframe tbody tr th {\n",
       "        vertical-align: top;\n",
       "    }\n",
       "</style>\n",
       "<table border=\"1\" class=\"dataframe\">\n",
       "  <thead>\n",
       "    <tr style=\"text-align: right;\">\n",
       "      <th></th>\n",
       "      <th>TX</th>\n",
       "      <th>TY</th>\n",
       "      <th>X</th>\n",
       "      <th>Y</th>\n",
       "      <th>Z</th>\n",
       "      <th>event_id</th>\n",
       "      <th>signal</th>\n",
       "      <th>data_ind</th>\n",
       "    </tr>\n",
       "  </thead>\n",
       "  <tbody>\n",
       "    <tr>\n",
       "      <th>0</th>\n",
       "      <td>-0.043787</td>\n",
       "      <td>0.149312</td>\n",
       "      <td>37343.636719</td>\n",
       "      <td>57321.039062</td>\n",
       "      <td>25860.0</td>\n",
       "      <td>-999.0</td>\n",
       "      <td>0.0</td>\n",
       "      <td>21</td>\n",
       "    </tr>\n",
       "    <tr>\n",
       "      <th>1</th>\n",
       "      <td>-0.238449</td>\n",
       "      <td>-0.369275</td>\n",
       "      <td>38199.117188</td>\n",
       "      <td>14818.970703</td>\n",
       "      <td>72408.0</td>\n",
       "      <td>-999.0</td>\n",
       "      <td>0.0</td>\n",
       "      <td>21</td>\n",
       "    </tr>\n",
       "    <tr>\n",
       "      <th>2</th>\n",
       "      <td>0.312426</td>\n",
       "      <td>-0.253441</td>\n",
       "      <td>36330.500000</td>\n",
       "      <td>31390.966797</td>\n",
       "      <td>69822.0</td>\n",
       "      <td>-999.0</td>\n",
       "      <td>0.0</td>\n",
       "      <td>21</td>\n",
       "    </tr>\n",
       "    <tr>\n",
       "      <th>3</th>\n",
       "      <td>0.028330</td>\n",
       "      <td>-0.237798</td>\n",
       "      <td>43192.093750</td>\n",
       "      <td>46829.191406</td>\n",
       "      <td>18102.0</td>\n",
       "      <td>-999.0</td>\n",
       "      <td>0.0</td>\n",
       "      <td>21</td>\n",
       "    </tr>\n",
       "    <tr>\n",
       "      <th>4</th>\n",
       "      <td>0.318769</td>\n",
       "      <td>-0.355580</td>\n",
       "      <td>44290.164062</td>\n",
       "      <td>71907.625000</td>\n",
       "      <td>18102.0</td>\n",
       "      <td>-999.0</td>\n",
       "      <td>0.0</td>\n",
       "      <td>21</td>\n",
       "    </tr>\n",
       "  </tbody>\n",
       "</table>\n",
       "</div>"
      ],
      "text/plain": [
       "         TX        TY             X             Y        Z  event_id  signal  \\\n",
       "0 -0.043787  0.149312  37343.636719  57321.039062  25860.0    -999.0     0.0   \n",
       "1 -0.238449 -0.369275  38199.117188  14818.970703  72408.0    -999.0     0.0   \n",
       "2  0.312426 -0.253441  36330.500000  31390.966797  69822.0    -999.0     0.0   \n",
       "3  0.028330 -0.237798  43192.093750  46829.191406  18102.0    -999.0     0.0   \n",
       "4  0.318769 -0.355580  44290.164062  71907.625000  18102.0    -999.0     0.0   \n",
       "\n",
       "   data_ind  \n",
       "0        21  \n",
       "1        21  \n",
       "2        21  \n",
       "3        21  \n",
       "4        21  "
      ]
     },
     "execution_count": 4,
     "metadata": {},
     "output_type": "execute_result"
    }
   ],
   "source": [
    "train = pd.DataFrame()\n",
    "i = 0\n",
    "for f in tqdm(glob.glob('data/dm5/open/open*.h5')):\n",
    "    chunk = pd.read_hdf(f)\n",
    "    train = train.append(chunk, ignore_index=True)\n",
    "    i += 1\n",
    "    print(f)\n",
    "print(train.shape)\n",
    "train.head()"
   ]
  },
  {
   "cell_type": "code",
   "execution_count": 5,
   "metadata": {},
   "outputs": [
    {
     "name": "stderr",
     "output_type": "stream",
     "text": [
      "Widget Javascript not detected.  It may not be installed or enabled properly.\n"
     ]
    },
    {
     "data": {
      "application/vnd.jupyter.widget-view+json": {
       "model_id": "a2329e2442dd4cdead2d5e6ad0926996"
      }
     },
     "metadata": {},
     "output_type": "display_data"
    },
    {
     "name": "stdout",
     "output_type": "stream",
     "text": [
      "88\n",
      "85\n",
      "\n"
     ]
    }
   ],
   "source": [
    "for data_ind in tqdm(test_data.data_ind.unique()):\n",
    "    brick = test_data.loc[test_data['data_ind'] == data_ind]\n",
    "    print(brick.loc[np.ceil(brick['Z']/1293) != brick['Z']/1293].shape[0])"
   ]
  },
  {
   "cell_type": "code",
   "execution_count": 6,
   "metadata": {
    "scrolled": true
   },
   "outputs": [
    {
     "name": "stderr",
     "output_type": "stream",
     "text": [
      "Widget Javascript not detected.  It may not be installed or enabled properly.\n"
     ]
    },
    {
     "data": {
      "application/vnd.jupyter.widget-view+json": {
       "model_id": "40db7dcb7d524b12ba7a5e1811512180"
      }
     },
     "metadata": {},
     "output_type": "display_data"
    },
    {
     "name": "stdout",
     "output_type": "stream",
     "text": [
      "0\n",
      "0\n",
      "0\n",
      "0\n",
      "0\n",
      "0\n",
      "0\n",
      "0\n",
      "0\n",
      "0\n",
      "0\n",
      "0\n",
      "0\n",
      "0\n",
      "0\n",
      "0\n",
      "0\n",
      "0\n",
      "0\n",
      "0\n",
      "0\n",
      "0\n",
      "0\n",
      "0\n",
      "0\n",
      "0\n",
      "0\n",
      "0\n",
      "0\n",
      "0\n",
      "0\n",
      "0\n",
      "0\n",
      "0\n",
      "0\n",
      "0\n",
      "0\n",
      "0\n",
      "0\n",
      "0\n",
      "0\n",
      "0\n",
      "0\n",
      "0\n",
      "0\n",
      "0\n",
      "0\n",
      "0\n",
      "0\n",
      "0\n",
      "0\n",
      "0\n",
      "0\n",
      "0\n",
      "0\n",
      "0\n",
      "0\n",
      "0\n",
      "0\n",
      "0\n",
      "0\n",
      "0\n",
      "0\n",
      "0\n",
      "0\n",
      "0\n",
      "0\n",
      "0\n",
      "0\n",
      "0\n",
      "0\n",
      "0\n",
      "0\n",
      "0\n",
      "0\n",
      "0\n",
      "0\n",
      "0\n",
      "0\n",
      "0\n",
      "0\n",
      "\n"
     ]
    }
   ],
   "source": [
    "for data_ind in tqdm(train.data_ind.unique()):\n",
    "    brick = train.loc[train['data_ind'] == data_ind]\n",
    "    print(brick.event_id.nunique() - 1 - brick.loc[np.ceil(brick['Z']/1293) != brick['Z']/1293].shape[0])"
   ]
  },
  {
   "cell_type": "code",
   "execution_count": null,
   "metadata": {
    "collapsed": true
   },
   "outputs": [],
   "source": [
    "while 0:\n",
    "    for data_ind in tqdm(train.data_ind.unique()):\n",
    "        brick = train.loc[train['data_ind'] == data_ind]\n",
    "        brick_signal = brick.loc[brick['signal'] == 1]\n",
    "        for event_id in brick_signal['event_id'].unique():\n",
    "            event = brick.loc[brick['event_id'] == event_id]\n",
    "            frac_index = event.loc[np.ceil(event['Z']/1293) != event['Z']/1293].index[0]\n",
    "            origin_index = event.Z.idxmin()\n",
    "            if (frac_index != origin_index):\n",
    "                if (not(event.loc[frac_index].Z - 1293 < event.loc[origin_index].Z <= event.loc[frac_index].Z)):\n",
    "                    origin = event.loc[origin_index]\n",
    "                    frac = event.loc[frac_index]\n",
    "                    if (event.loc[origin_index].event_id != event.loc[frac_index].event_id):\n",
    "                        print('200')\n",
    "                    #print(event.loc[frac_index].Z- event.loc[origin_index].Z)\n",
    "                    print('------')\n",
    "                    print(event.loc[origin_index].TX, event.loc[origin_index].TY,\n",
    "                          event.loc[origin_index].X, event.loc[origin_index].Y, event.loc[origin_index].Z)\n",
    "                    print(event.loc[frac_index].TX, event.loc[frac_index].TY,\n",
    "                          event.loc[frac_index].X, event.loc[frac_index].Y, event.loc[frac_index].Z)\n",
    "                    fig = plt.figure()\n",
    "                    ax = fig.gca(projection='3d')\n",
    "                    ax.view_init(elev=10, azim=-85)    \n",
    "                    ax.quiver(event['Z'], event['Y'], event['X'], 1293, 1293*event['TY'], 1293*event['TX'],\n",
    "                              arrow_length_ratio=0, linewidths=0.7)\n",
    "                    plt.show()\n",
    "    break"
   ]
  },
  {
   "cell_type": "code",
   "execution_count": null,
   "metadata": {},
   "outputs": [
    {
     "name": "stderr",
     "output_type": "stream",
     "text": [
      "Widget Javascript not detected.  It may not be installed or enabled properly.\n"
     ]
    },
    {
     "data": {
      "application/vnd.jupyter.widget-view+json": {
       "model_id": "80aae18b1b6a409386b04f4db87a9f4b"
      }
     },
     "metadata": {},
     "output_type": "display_data"
    },
    {
     "name": "stderr",
     "output_type": "stream",
     "text": [
      "Widget Javascript not detected.  It may not be installed or enabled properly.\n"
     ]
    },
    {
     "data": {
      "application/vnd.jupyter.widget-view+json": {
       "model_id": "a3ee89cabc464bd3a55fd0f8c202855a"
      }
     },
     "metadata": {},
     "output_type": "display_data"
    },
    {
     "name": "stderr",
     "output_type": "stream",
     "text": [
      "Widget Javascript not detected.  It may not be installed or enabled properly.\n"
     ]
    },
    {
     "data": {
      "application/vnd.jupyter.widget-view+json": {
       "model_id": "636adf9091b74543a00555e303f794a4"
      }
     },
     "metadata": {},
     "output_type": "display_data"
    },
    {
     "name": "stderr",
     "output_type": "stream",
     "text": [
      "Widget Javascript not detected.  It may not be installed or enabled properly.\n"
     ]
    },
    {
     "data": {
      "application/vnd.jupyter.widget-view+json": {
       "model_id": "57755e3317f649c48abd3e3d1320d3d4"
      }
     },
     "metadata": {},
     "output_type": "display_data"
    },
    {
     "name": "stderr",
     "output_type": "stream",
     "text": [
      "Widget Javascript not detected.  It may not be installed or enabled properly.\n"
     ]
    },
    {
     "data": {
      "application/vnd.jupyter.widget-view+json": {
       "model_id": "be6537f4bef44fddbccc1d967b0764ed"
      }
     },
     "metadata": {},
     "output_type": "display_data"
    },
    {
     "name": "stderr",
     "output_type": "stream",
     "text": [
      "Widget Javascript not detected.  It may not be installed or enabled properly.\n"
     ]
    },
    {
     "data": {
      "application/vnd.jupyter.widget-view+json": {
       "model_id": "39056303d32a47cea743043d52a19a3b"
      }
     },
     "metadata": {},
     "output_type": "display_data"
    },
    {
     "name": "stderr",
     "output_type": "stream",
     "text": [
      "Widget Javascript not detected.  It may not be installed or enabled properly.\n"
     ]
    },
    {
     "data": {
      "application/vnd.jupyter.widget-view+json": {
       "model_id": "8c77e57d7a304dc5bcc807cdd6d67cd7"
      }
     },
     "metadata": {},
     "output_type": "display_data"
    },
    {
     "name": "stderr",
     "output_type": "stream",
     "text": [
      "Widget Javascript not detected.  It may not be installed or enabled properly.\n"
     ]
    },
    {
     "data": {
      "application/vnd.jupyter.widget-view+json": {
       "model_id": "013cff46cbfa4b6f9732c6fdb31720d7"
      }
     },
     "metadata": {},
     "output_type": "display_data"
    },
    {
     "name": "stderr",
     "output_type": "stream",
     "text": [
      "Widget Javascript not detected.  It may not be installed or enabled properly.\n"
     ]
    },
    {
     "data": {
      "application/vnd.jupyter.widget-view+json": {
       "model_id": "01702a592e6b4eea8d10b21f24acd211"
      }
     },
     "metadata": {},
     "output_type": "display_data"
    },
    {
     "name": "stderr",
     "output_type": "stream",
     "text": [
      "Widget Javascript not detected.  It may not be installed or enabled properly.\n"
     ]
    },
    {
     "data": {
      "application/vnd.jupyter.widget-view+json": {
       "model_id": "7928da8a9a08431096e81eaaf40bbe45"
      }
     },
     "metadata": {},
     "output_type": "display_data"
    },
    {
     "name": "stderr",
     "output_type": "stream",
     "text": [
      "Widget Javascript not detected.  It may not be installed or enabled properly.\n"
     ]
    },
    {
     "data": {
      "application/vnd.jupyter.widget-view+json": {
       "model_id": "c6f15634be264f1db34a832eb0e56cd2"
      }
     },
     "metadata": {},
     "output_type": "display_data"
    },
    {
     "name": "stderr",
     "output_type": "stream",
     "text": [
      "Widget Javascript not detected.  It may not be installed or enabled properly.\n"
     ]
    },
    {
     "data": {
      "application/vnd.jupyter.widget-view+json": {
       "model_id": "841852c305294554aa34dd69c50f6736"
      }
     },
     "metadata": {},
     "output_type": "display_data"
    },
    {
     "name": "stderr",
     "output_type": "stream",
     "text": [
      "Widget Javascript not detected.  It may not be installed or enabled properly.\n"
     ]
    },
    {
     "data": {
      "application/vnd.jupyter.widget-view+json": {
       "model_id": "e71b09cf84ba4db08202ef5b1734f2d9"
      }
     },
     "metadata": {},
     "output_type": "display_data"
    },
    {
     "name": "stderr",
     "output_type": "stream",
     "text": [
      "Widget Javascript not detected.  It may not be installed or enabled properly.\n"
     ]
    },
    {
     "data": {
      "application/vnd.jupyter.widget-view+json": {
       "model_id": "fa43ab045eda42e5a95031935431d202"
      }
     },
     "metadata": {},
     "output_type": "display_data"
    },
    {
     "name": "stderr",
     "output_type": "stream",
     "text": [
      "Widget Javascript not detected.  It may not be installed or enabled properly.\n"
     ]
    },
    {
     "data": {
      "application/vnd.jupyter.widget-view+json": {
       "model_id": "bd2bcfcad4b647ffa9e6dbc8c12c38b9"
      }
     },
     "metadata": {},
     "output_type": "display_data"
    },
    {
     "name": "stderr",
     "output_type": "stream",
     "text": [
      "Widget Javascript not detected.  It may not be installed or enabled properly.\n"
     ]
    },
    {
     "data": {
      "application/vnd.jupyter.widget-view+json": {
       "model_id": "9bf72f96edd2486d91c7a33e9253ee2b"
      }
     },
     "metadata": {},
     "output_type": "display_data"
    },
    {
     "name": "stderr",
     "output_type": "stream",
     "text": [
      "Widget Javascript not detected.  It may not be installed or enabled properly.\n"
     ]
    },
    {
     "data": {
      "application/vnd.jupyter.widget-view+json": {
       "model_id": "131c0ad49ab1445a87d8102804f832ae"
      }
     },
     "metadata": {},
     "output_type": "display_data"
    },
    {
     "name": "stderr",
     "output_type": "stream",
     "text": [
      "Widget Javascript not detected.  It may not be installed or enabled properly.\n"
     ]
    },
    {
     "data": {
      "application/vnd.jupyter.widget-view+json": {
       "model_id": "ee1a17b149344fffb9d629ffe6affa92"
      }
     },
     "metadata": {},
     "output_type": "display_data"
    },
    {
     "name": "stderr",
     "output_type": "stream",
     "text": [
      "Widget Javascript not detected.  It may not be installed or enabled properly.\n"
     ]
    },
    {
     "data": {
      "application/vnd.jupyter.widget-view+json": {
       "model_id": "52135188d37f4cbca4e4ee4a7bdfee24"
      }
     },
     "metadata": {},
     "output_type": "display_data"
    },
    {
     "name": "stderr",
     "output_type": "stream",
     "text": [
      "Widget Javascript not detected.  It may not be installed or enabled properly.\n"
     ]
    },
    {
     "data": {
      "application/vnd.jupyter.widget-view+json": {
       "model_id": "858b6f5451c147fcb8d4897d3bbdd523"
      }
     },
     "metadata": {},
     "output_type": "display_data"
    },
    {
     "name": "stderr",
     "output_type": "stream",
     "text": [
      "Widget Javascript not detected.  It may not be installed or enabled properly.\n"
     ]
    },
    {
     "data": {
      "application/vnd.jupyter.widget-view+json": {
       "model_id": "5000af4869c24dc4b1cfb8bb8f936bf2"
      }
     },
     "metadata": {},
     "output_type": "display_data"
    },
    {
     "name": "stderr",
     "output_type": "stream",
     "text": [
      "Widget Javascript not detected.  It may not be installed or enabled properly.\n"
     ]
    },
    {
     "data": {
      "application/vnd.jupyter.widget-view+json": {
       "model_id": "a4736eed9766460980ade813b47f78c0"
      }
     },
     "metadata": {},
     "output_type": "display_data"
    },
    {
     "name": "stderr",
     "output_type": "stream",
     "text": [
      "Widget Javascript not detected.  It may not be installed or enabled properly.\n"
     ]
    },
    {
     "data": {
      "application/vnd.jupyter.widget-view+json": {
       "model_id": "193ec517c1944debad94ad2bba92c199"
      }
     },
     "metadata": {},
     "output_type": "display_data"
    },
    {
     "name": "stderr",
     "output_type": "stream",
     "text": [
      "Widget Javascript not detected.  It may not be installed or enabled properly.\n"
     ]
    },
    {
     "data": {
      "application/vnd.jupyter.widget-view+json": {
       "model_id": "db39fb1e999c4c99aed900c2ee90bf39"
      }
     },
     "metadata": {},
     "output_type": "display_data"
    },
    {
     "name": "stderr",
     "output_type": "stream",
     "text": [
      "Widget Javascript not detected.  It may not be installed or enabled properly.\n"
     ]
    },
    {
     "data": {
      "application/vnd.jupyter.widget-view+json": {
       "model_id": "31eb150a78fb44a49bfb0eb129d9be41"
      }
     },
     "metadata": {},
     "output_type": "display_data"
    },
    {
     "name": "stderr",
     "output_type": "stream",
     "text": [
      "Widget Javascript not detected.  It may not be installed or enabled properly.\n"
     ]
    },
    {
     "data": {
      "application/vnd.jupyter.widget-view+json": {
       "model_id": "f39334b4037f43a1a9eb549ecd9bb20c"
      }
     },
     "metadata": {},
     "output_type": "display_data"
    },
    {
     "name": "stderr",
     "output_type": "stream",
     "text": [
      "Widget Javascript not detected.  It may not be installed or enabled properly.\n"
     ]
    },
    {
     "data": {
      "application/vnd.jupyter.widget-view+json": {
       "model_id": "2310b46888264e66a7ae4874eceb8039"
      }
     },
     "metadata": {},
     "output_type": "display_data"
    },
    {
     "name": "stderr",
     "output_type": "stream",
     "text": [
      "Widget Javascript not detected.  It may not be installed or enabled properly.\n"
     ]
    },
    {
     "data": {
      "application/vnd.jupyter.widget-view+json": {
       "model_id": "d99d45bb0f6e4b97b0b7e86705960f89"
      }
     },
     "metadata": {},
     "output_type": "display_data"
    },
    {
     "name": "stderr",
     "output_type": "stream",
     "text": [
      "Widget Javascript not detected.  It may not be installed or enabled properly.\n"
     ]
    },
    {
     "data": {
      "application/vnd.jupyter.widget-view+json": {
       "model_id": "026443e083634ffa9de4d10c39302148"
      }
     },
     "metadata": {},
     "output_type": "display_data"
    },
    {
     "name": "stderr",
     "output_type": "stream",
     "text": [
      "Widget Javascript not detected.  It may not be installed or enabled properly.\n"
     ]
    },
    {
     "data": {
      "application/vnd.jupyter.widget-view+json": {
       "model_id": "3d3e8fb28db8422d9b3d01640c5d95b1"
      }
     },
     "metadata": {},
     "output_type": "display_data"
    },
    {
     "name": "stderr",
     "output_type": "stream",
     "text": [
      "Widget Javascript not detected.  It may not be installed or enabled properly.\n"
     ]
    },
    {
     "data": {
      "application/vnd.jupyter.widget-view+json": {
       "model_id": "c1f72861eeae42699c45d2abf690c5b5"
      }
     },
     "metadata": {},
     "output_type": "display_data"
    },
    {
     "name": "stderr",
     "output_type": "stream",
     "text": [
      "Widget Javascript not detected.  It may not be installed or enabled properly.\n"
     ]
    },
    {
     "data": {
      "application/vnd.jupyter.widget-view+json": {
       "model_id": "69899f6471a9484e8bf5316d0f8abc1a"
      }
     },
     "metadata": {},
     "output_type": "display_data"
    }
   ],
   "source": [
    "real_train_data_list = []\n",
    "\n",
    "for data_ind in tqdm(train.data_ind.unique()):\n",
    "    brick = train.loc[train['data_ind'] == data_ind]\n",
    "    brick_signal = brick.loc[brick['signal'] == 1]\n",
    "    real_train_data_temp = pd.DataFrame()\n",
    "    for event_id in tqdm(brick_signal['event_id'].unique(),leave=False):\n",
    "        event = brick.loc[brick['event_id'] == event_id]\n",
    "        frac_index = event.loc[np.ceil(event['Z']/1293) != event['Z']/1293].index[0]\n",
    "        # Добавка\n",
    "        f = event.loc[frac_index][['TX','TY','X','Y','Z']].values.reshape(1,5)\n",
    "        # Добавляем сигнальные треки\n",
    "        new_brick = pd.DataFrame()\n",
    "        new_brick[['TX','TY','X','Y','Z']] = event[['TX','TY','X','Y','Z']].reset_index(drop=True)\n",
    "        new_brick[['DTX','DTY','DX','DY','DZ']] = pd.DataFrame(new_brick.values-f)\n",
    "        new_brick['S'] = 1\n",
    "        real_train_data_temp = real_train_data_temp.append(new_brick, ignore_index=True)\n",
    "        # Добавляем не сигнальные треки\n",
    "        not_event = brick_signal.loc[brick['event_id'] != event_id].sample(n=event.shape[0])\n",
    "        new_brick = pd.DataFrame()\n",
    "        new_brick[['TX','TY','X','Y','Z']] = not_event[['TX','TY','X','Y','Z']].reset_index(drop=True)\n",
    "        new_brick[['DTX','DTY','DX','DY','DZ']] = pd.DataFrame(new_brick.values-f)\n",
    "        new_brick['S'] = 0\n",
    "        real_train_data_temp = real_train_data_temp.append(new_brick, ignore_index=True)\n",
    "    real_train_data_list.append(real_train_data_temp)\n",
    "\n",
    "real_train_data = pd.concat(real_train_data_list, ignore_index=True)\n",
    "real_train_data_list = []"
   ]
  },
  {
   "cell_type": "code",
   "execution_count": null,
   "metadata": {
    "collapsed": true
   },
   "outputs": [],
   "source": [
    "print(real_train_data.shape)\n",
    "real_train_data.head()"
   ]
  },
  {
   "cell_type": "code",
   "execution_count": null,
   "metadata": {
    "collapsed": true
   },
   "outputs": [],
   "source": [
    "X_train = real_train_data.drop(['S'],axis=1)\n",
    "y_train = real_train_data['S']\n",
    "lgb_train = lgb.Dataset(X_train, y_train)\n",
    "params = {\n",
    "    'boosting_type': 'gbdt',\n",
    "    'objective': 'binary',\n",
    "    'metric': 'binary_logloss',\n",
    "    'num_leaves': 31,\n",
    "    'learning_rate': 0.03,\n",
    "    'max_depth': 15,\n",
    "    'feature_fraction': 0.7,\n",
    "    'bagging_fraction': 0.7,\n",
    "    'bagging_freq': 4,\n",
    "    'early_stopping_round': 100\n",
    "}"
   ]
  },
  {
   "cell_type": "code",
   "execution_count": null,
   "metadata": {
    "collapsed": true
   },
   "outputs": [],
   "source": [
    "num_round = 10\n",
    "lgb.cv(params, lgb_train, num_round, nfold=3)"
   ]
  },
  {
   "cell_type": "code",
   "execution_count": null,
   "metadata": {
    "collapsed": true
   },
   "outputs": [],
   "source": [
    "num_round = 4000\n",
    "bst = lgb.train(params, lgb_train, num_round)"
   ]
  },
  {
   "cell_type": "code",
   "execution_count": null,
   "metadata": {
    "collapsed": true
   },
   "outputs": [],
   "source": [
    "cols = ['id'] + ['class_%d' % (i) for i in range(100)]\n",
    "res_pred = pd.DataFrame(0, index=np.arange(test_data.shape[0]), columns=cols)\n",
    "res_pred['id'] = res_pred['id'].index\n",
    "print(res_pred.shape)\n",
    "res_pred.head()"
   ]
  },
  {
   "cell_type": "code",
   "execution_count": null,
   "metadata": {
    "collapsed": true
   },
   "outputs": [],
   "source": [
    "for data_ind in tqdm(test_data.data_ind.unique()):\n",
    "    brick = test_data.loc[test_data['data_ind'] == data_ind]\n",
    "    fracs = brick.loc[np.ceil(brick['Z']/1293) != brick['Z']/1293]\n",
    "    # ищем центр кирпича\n",
    "    center = ((brick[['X','Y','Z']].min() + brick[['X','Y','Z']].max()) / 2).values.tolist()\n",
    "    dists = []\n",
    "    for i in range(fracs.shape[0]):\n",
    "        # distance\n",
    "        dist = distance.euclidean(fracs.iloc[i][['X','Y','Z']].values.tolist(), center)\n",
    "        dists.append(dist)\n",
    "    fracs.insert(fracs.columns.shape[0],'DISTS', dists)\n",
    "    fracs = fracs.sort_values('DISTS')\n",
    "    for i in tqdm(range(fracs.shape[0]),leave=False):\n",
    "        # Добавка\n",
    "        f = fracs.iloc[i][['TX','TY','X','Y','Z']].values\n",
    "        # Добавляем сигнальные треки\n",
    "        new_brick = pd.DataFrame()\n",
    "        new_brick[['TX','TY','X','Y','Z']] = brick[['TX','TY','X','Y','Z']].reset_index(drop=True)\n",
    "        new_brick[['DTX','DTY','DX','DY','DZ']] = pd.DataFrame(new_brick.values-f)\n",
    "        # классифицируем\n",
    "        ypred = bst.predict(new_brick)\n",
    "        res_pred.loc[brick['id'],'class_%d' % (i+1)] = ypred\n",
    "        res_pred.loc[brick['id'],'class_0'] += (1 - ypred) / fracs.shape[0]"
   ]
  },
  {
   "cell_type": "code",
   "execution_count": 23,
   "metadata": {},
   "outputs": [
    {
     "data": {
      "application/vnd.jupyter.widget-view+json": {
       "model_id": "fc906b1c71fc4297b3fb57b4fd99b476"
      }
     },
     "metadata": {},
     "output_type": "display_data"
    },
    {
     "name": "stdout",
     "output_type": "stream",
     "text": [
      "\n"
     ]
    }
   ],
   "source": [
    "for data_ind in tqdm(test_data.data_ind.unique()):\n",
    "    brick = test_data.loc[test_data['data_ind'] == data_ind]\n",
    "    fracs = brick.loc[np.ceil(brick['Z']/1293) != brick['Z']/1293]\n",
    "    res_pred.loc[brick['id'],'class_0'] = 1 - res_pred.loc[:,'class_1':'class_99'].sum(axis=1) / fracs.shape[0]"
   ]
  },
  {
   "cell_type": "code",
   "execution_count": 24,
   "metadata": {},
   "outputs": [
    {
     "name": "stdout",
     "output_type": "stream",
     "text": [
      "(2958072, 51)\n"
     ]
    },
    {
     "data": {
      "text/html": [
       "<div>\n",
       "<style>\n",
       "    .dataframe thead tr:only-child th {\n",
       "        text-align: right;\n",
       "    }\n",
       "\n",
       "    .dataframe thead th {\n",
       "        text-align: left;\n",
       "    }\n",
       "\n",
       "    .dataframe tbody tr th {\n",
       "        vertical-align: top;\n",
       "    }\n",
       "</style>\n",
       "<table border=\"1\" class=\"dataframe\">\n",
       "  <thead>\n",
       "    <tr style=\"text-align: right;\">\n",
       "      <th></th>\n",
       "      <th>id</th>\n",
       "      <th>class_0</th>\n",
       "      <th>class_1</th>\n",
       "      <th>class_2</th>\n",
       "      <th>class_3</th>\n",
       "      <th>class_4</th>\n",
       "      <th>class_5</th>\n",
       "      <th>class_6</th>\n",
       "      <th>class_7</th>\n",
       "      <th>class_8</th>\n",
       "      <th>...</th>\n",
       "      <th>class_40</th>\n",
       "      <th>class_41</th>\n",
       "      <th>class_42</th>\n",
       "      <th>class_43</th>\n",
       "      <th>class_44</th>\n",
       "      <th>class_45</th>\n",
       "      <th>class_46</th>\n",
       "      <th>class_47</th>\n",
       "      <th>class_48</th>\n",
       "      <th>class_49</th>\n",
       "    </tr>\n",
       "  </thead>\n",
       "  <tbody>\n",
       "    <tr>\n",
       "      <th>0</th>\n",
       "      <td>0</td>\n",
       "      <td>0.952682</td>\n",
       "      <td>5.915180e-07</td>\n",
       "      <td>2.881952e-06</td>\n",
       "      <td>0.002092</td>\n",
       "      <td>9.574932e-01</td>\n",
       "      <td>0.000087</td>\n",
       "      <td>2.224064e-11</td>\n",
       "      <td>6.150174e-05</td>\n",
       "      <td>3.022469e-67</td>\n",
       "      <td>...</td>\n",
       "      <td>2.877712e-21</td>\n",
       "      <td>2.279555e-16</td>\n",
       "      <td>1.494452e-19</td>\n",
       "      <td>3.784262e-25</td>\n",
       "      <td>0.000014</td>\n",
       "      <td>1.478341e-18</td>\n",
       "      <td>2.054059e-04</td>\n",
       "      <td>4.372139e-04</td>\n",
       "      <td>3.475600e-03</td>\n",
       "      <td>3.778448e-52</td>\n",
       "    </tr>\n",
       "    <tr>\n",
       "      <th>1</th>\n",
       "      <td>1</td>\n",
       "      <td>0.992670</td>\n",
       "      <td>5.065678e-06</td>\n",
       "      <td>2.469770e-10</td>\n",
       "      <td>0.000008</td>\n",
       "      <td>1.474520e-07</td>\n",
       "      <td>0.000015</td>\n",
       "      <td>7.791927e-12</td>\n",
       "      <td>1.742771e-08</td>\n",
       "      <td>9.795850e-09</td>\n",
       "      <td>...</td>\n",
       "      <td>1.979419e-15</td>\n",
       "      <td>3.355900e-08</td>\n",
       "      <td>2.211401e-04</td>\n",
       "      <td>7.215956e-12</td>\n",
       "      <td>0.005317</td>\n",
       "      <td>7.897169e-49</td>\n",
       "      <td>5.775081e-81</td>\n",
       "      <td>1.883314e-20</td>\n",
       "      <td>7.571001e-17</td>\n",
       "      <td>1.138275e-09</td>\n",
       "    </tr>\n",
       "    <tr>\n",
       "      <th>2</th>\n",
       "      <td>2</td>\n",
       "      <td>0.985115</td>\n",
       "      <td>5.147873e-06</td>\n",
       "      <td>6.688174e-05</td>\n",
       "      <td>0.000033</td>\n",
       "      <td>3.356106e-04</td>\n",
       "      <td>0.000003</td>\n",
       "      <td>6.338171e-02</td>\n",
       "      <td>1.996580e-05</td>\n",
       "      <td>5.575104e-06</td>\n",
       "      <td>...</td>\n",
       "      <td>1.431211e-05</td>\n",
       "      <td>1.749606e-03</td>\n",
       "      <td>5.015541e-07</td>\n",
       "      <td>4.152475e-07</td>\n",
       "      <td>0.000501</td>\n",
       "      <td>3.316892e-58</td>\n",
       "      <td>1.241312e-03</td>\n",
       "      <td>5.894975e-123</td>\n",
       "      <td>5.370899e-06</td>\n",
       "      <td>1.072215e-03</td>\n",
       "    </tr>\n",
       "    <tr>\n",
       "      <th>3</th>\n",
       "      <td>3</td>\n",
       "      <td>0.944560</td>\n",
       "      <td>9.531241e-05</td>\n",
       "      <td>1.673217e-04</td>\n",
       "      <td>0.000269</td>\n",
       "      <td>1.391569e-04</td>\n",
       "      <td>0.001063</td>\n",
       "      <td>1.527854e-06</td>\n",
       "      <td>8.593282e-04</td>\n",
       "      <td>2.742755e-06</td>\n",
       "      <td>...</td>\n",
       "      <td>1.014487e-09</td>\n",
       "      <td>3.983288e-06</td>\n",
       "      <td>5.320639e-03</td>\n",
       "      <td>1.267416e-06</td>\n",
       "      <td>0.025800</td>\n",
       "      <td>5.895632e-33</td>\n",
       "      <td>2.734471e-07</td>\n",
       "      <td>2.851174e-06</td>\n",
       "      <td>6.580263e-04</td>\n",
       "      <td>1.115936e-06</td>\n",
       "    </tr>\n",
       "    <tr>\n",
       "      <th>4</th>\n",
       "      <td>4</td>\n",
       "      <td>0.955457</td>\n",
       "      <td>4.121226e-06</td>\n",
       "      <td>1.014579e-07</td>\n",
       "      <td>0.000015</td>\n",
       "      <td>2.495934e-06</td>\n",
       "      <td>0.000025</td>\n",
       "      <td>1.535638e-51</td>\n",
       "      <td>5.653034e-07</td>\n",
       "      <td>5.087832e-08</td>\n",
       "      <td>...</td>\n",
       "      <td>1.159048e-129</td>\n",
       "      <td>4.224819e-08</td>\n",
       "      <td>3.348050e-04</td>\n",
       "      <td>4.776805e-11</td>\n",
       "      <td>0.069378</td>\n",
       "      <td>8.727850e-113</td>\n",
       "      <td>2.839436e-35</td>\n",
       "      <td>5.492553e-18</td>\n",
       "      <td>2.451626e-42</td>\n",
       "      <td>1.881957e-08</td>\n",
       "    </tr>\n",
       "  </tbody>\n",
       "</table>\n",
       "<p>5 rows × 51 columns</p>\n",
       "</div>"
      ],
      "text/plain": [
       "   id   class_0       class_1       class_2   class_3       class_4   class_5  \\\n",
       "0   0  0.952682  5.915180e-07  2.881952e-06  0.002092  9.574932e-01  0.000087   \n",
       "1   1  0.992670  5.065678e-06  2.469770e-10  0.000008  1.474520e-07  0.000015   \n",
       "2   2  0.985115  5.147873e-06  6.688174e-05  0.000033  3.356106e-04  0.000003   \n",
       "3   3  0.944560  9.531241e-05  1.673217e-04  0.000269  1.391569e-04  0.001063   \n",
       "4   4  0.955457  4.121226e-06  1.014579e-07  0.000015  2.495934e-06  0.000025   \n",
       "\n",
       "        class_6       class_7       class_8      ...            class_40  \\\n",
       "0  2.224064e-11  6.150174e-05  3.022469e-67      ...        2.877712e-21   \n",
       "1  7.791927e-12  1.742771e-08  9.795850e-09      ...        1.979419e-15   \n",
       "2  6.338171e-02  1.996580e-05  5.575104e-06      ...        1.431211e-05   \n",
       "3  1.527854e-06  8.593282e-04  2.742755e-06      ...        1.014487e-09   \n",
       "4  1.535638e-51  5.653034e-07  5.087832e-08      ...       1.159048e-129   \n",
       "\n",
       "       class_41      class_42      class_43  class_44       class_45  \\\n",
       "0  2.279555e-16  1.494452e-19  3.784262e-25  0.000014   1.478341e-18   \n",
       "1  3.355900e-08  2.211401e-04  7.215956e-12  0.005317   7.897169e-49   \n",
       "2  1.749606e-03  5.015541e-07  4.152475e-07  0.000501   3.316892e-58   \n",
       "3  3.983288e-06  5.320639e-03  1.267416e-06  0.025800   5.895632e-33   \n",
       "4  4.224819e-08  3.348050e-04  4.776805e-11  0.069378  8.727850e-113   \n",
       "\n",
       "       class_46       class_47      class_48      class_49  \n",
       "0  2.054059e-04   4.372139e-04  3.475600e-03  3.778448e-52  \n",
       "1  5.775081e-81   1.883314e-20  7.571001e-17  1.138275e-09  \n",
       "2  1.241312e-03  5.894975e-123  5.370899e-06  1.072215e-03  \n",
       "3  2.734471e-07   2.851174e-06  6.580263e-04  1.115936e-06  \n",
       "4  2.839436e-35   5.492553e-18  2.451626e-42  1.881957e-08  \n",
       "\n",
       "[5 rows x 51 columns]"
      ]
     },
     "execution_count": 24,
     "metadata": {},
     "output_type": "execute_result"
    }
   ],
   "source": [
    "res_pred_50 = res_pred.loc[:,'id':'class_49']\n",
    "print(res_pred_50.shape)\n",
    "res_pred_50.head()"
   ]
  },
  {
   "cell_type": "code",
   "execution_count": 25,
   "metadata": {
    "collapsed": true
   },
   "outputs": [],
   "source": [
    "res_pred_50.to_csv('data/dm5/output.csv.gz', float_format='%.3f', compression='gzip', index=False)"
   ]
  },
  {
   "cell_type": "code",
   "execution_count": 27,
   "metadata": {},
   "outputs": [
    {
     "data": {
      "text/plain": [
       "1"
      ]
     },
     "execution_count": 27,
     "metadata": {},
     "output_type": "execute_result"
    }
   ],
   "source": [
    "1"
   ]
  },
  {
   "cell_type": "code",
   "execution_count": null,
   "metadata": {
    "collapsed": true
   },
   "outputs": [],
   "source": []
  }
 ],
 "metadata": {
  "kernelspec": {
   "display_name": "Python 3",
   "language": "python",
   "name": "python3"
  },
  "language_info": {
   "codemirror_mode": {
    "name": "ipython",
    "version": 3
   },
   "file_extension": ".py",
   "mimetype": "text/x-python",
   "name": "python",
   "nbconvert_exporter": "python",
   "pygments_lexer": "ipython3",
   "version": "3.6.2"
  }
 },
 "nbformat": 4,
 "nbformat_minor": 2
}
