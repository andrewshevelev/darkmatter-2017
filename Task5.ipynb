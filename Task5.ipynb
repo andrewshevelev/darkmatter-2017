{
 "cells": [
  {
   "cell_type": "markdown",
   "metadata": {},
   "source": [
    "1. Определить, является ли бэйстрэк сигналом или фоном\n",
    "2. Сгруппировать бейстреки по ливням\n",
    "3. Оценить порядковые номера этих ливней и расставить вероятности принадлежности бейстреков каждому из ливней\n",
    "\n",
    "Продолжаем идею с предыдущего задания, плюс добавляется уровень сложности, связанный с разбиением ливней по кучкам\n",
    "\n",
    "Разбиваем объем на последовательности и используем xgboost, в качестве фиг к которому идут фичи-последовательности.\n",
    "\n",
    "modelgym - набор классов, который позволяет упростить подготовку к обучению параметров моделей параллельно или последовательно\n",
    "\n",
    "Не надо знать, какие сигнальные, какие не сигнальные бэйстрэки, просто пользуемся осмысленной метрикой расстояния, которая учитывает расстояния и углы.\n",
    "Алгоритмы пространственной индексации: KD-trees или Ball-trees\n",
    "\n",
    "https://habrahabr.ru/post/312882/\n",
    "\n",
    "http://scikit-learn.org/stable/modules/generated/sklearn.neighbors.BallTree.html\n",
    "\n",
    "http://scikit-learn.org/stable/modules/classes.html#module-sklearn.neighbors\n",
    "\n",
    "Задача метрики расстояния: насобирать, несильно увеличивая размер выборки (остаться в пространстве осмысленного набора признаков), обучить классификатор. Т.е. переход от отдельных треков к парам не взорвет машину (все поместится в оперативную память)"
   ]
  },
  {
   "cell_type": "markdown",
   "metadata": {},
   "source": [
    "data_ind - идентификатор кирпича\n",
    "\n",
    "там несколько кирпичей\n",
    "\n",
    "class_id - ливень\n",
    "\n",
    "ливни внутри кирпича\n",
    "\n",
    "принадлежность классу номер i считается по расстоянию вершины ливня до точки (0, 0, 0) в порядке увеличения этого расстояния\n",
    "\n",
    "берем все начала ливней, считаем расстояние до начала координат, упорядочиваем\n",
    "\n",
    "и номер в этом упорядоченном списке - номер класса (с 1, 0 - фон)\n",
    "\n",
    "id,Usage,class_0,class_1 ... class_49, где class_0 -- шум. берутся первые 50 ближайших к центру кирпича ливни\n",
    "\n",
    "центр определять как в файлике sort_by_distance\n",
    "\n",
    "расстояние до ливня - расстояние до его вершины (самая маленькая по Z)"
   ]
  },
  {
   "cell_type": "code",
   "execution_count": 1,
   "metadata": {},
   "outputs": [],
   "source": [
    "import pandas as pd\n",
    "import numpy as np\n",
    "import glob\n",
    "from scipy.spatial import distance\n",
    "from sklearn.neighbors import BallTree\n",
    "import lightgbm as lgb\n",
    "import matplotlib.pyplot as plt\n",
    "from mpl_toolkits.mplot3d import Axes3D\n",
    "from tqdm import tqdm"
   ]
  },
  {
   "cell_type": "code",
   "execution_count": 111,
   "metadata": {},
   "outputs": [],
   "source": [
    "train_data = pd.read_hdf('../ivanov.pub/data/dm5/open/open30.h5')"
   ]
  },
  {
   "cell_type": "code",
   "execution_count": 112,
   "metadata": {},
   "outputs": [
    {
     "data": {
      "text/html": [
       "<div>\n",
       "<style scoped>\n",
       "    .dataframe tbody tr th:only-of-type {\n",
       "        vertical-align: middle;\n",
       "    }\n",
       "\n",
       "    .dataframe tbody tr th {\n",
       "        vertical-align: top;\n",
       "    }\n",
       "\n",
       "    .dataframe thead th {\n",
       "        text-align: right;\n",
       "    }\n",
       "</style>\n",
       "<table border=\"1\" class=\"dataframe\">\n",
       "  <thead>\n",
       "    <tr style=\"text-align: right;\">\n",
       "      <th></th>\n",
       "      <th>TX</th>\n",
       "      <th>TY</th>\n",
       "      <th>X</th>\n",
       "      <th>Y</th>\n",
       "      <th>Z</th>\n",
       "      <th>event_id</th>\n",
       "      <th>signal</th>\n",
       "      <th>data_ind</th>\n",
       "    </tr>\n",
       "  </thead>\n",
       "  <tbody>\n",
       "    <tr>\n",
       "      <th>0</th>\n",
       "      <td>-0.043787</td>\n",
       "      <td>0.149312</td>\n",
       "      <td>37343.636719</td>\n",
       "      <td>57321.039062</td>\n",
       "      <td>25860.0</td>\n",
       "      <td>-999.0</td>\n",
       "      <td>0.0</td>\n",
       "      <td>21</td>\n",
       "    </tr>\n",
       "    <tr>\n",
       "      <th>1</th>\n",
       "      <td>-0.238449</td>\n",
       "      <td>-0.369275</td>\n",
       "      <td>38199.117188</td>\n",
       "      <td>14818.970703</td>\n",
       "      <td>72408.0</td>\n",
       "      <td>-999.0</td>\n",
       "      <td>0.0</td>\n",
       "      <td>21</td>\n",
       "    </tr>\n",
       "    <tr>\n",
       "      <th>2</th>\n",
       "      <td>0.312426</td>\n",
       "      <td>-0.253441</td>\n",
       "      <td>36330.500000</td>\n",
       "      <td>31390.966797</td>\n",
       "      <td>69822.0</td>\n",
       "      <td>-999.0</td>\n",
       "      <td>0.0</td>\n",
       "      <td>21</td>\n",
       "    </tr>\n",
       "    <tr>\n",
       "      <th>3</th>\n",
       "      <td>0.028330</td>\n",
       "      <td>-0.237798</td>\n",
       "      <td>43192.093750</td>\n",
       "      <td>46829.191406</td>\n",
       "      <td>18102.0</td>\n",
       "      <td>-999.0</td>\n",
       "      <td>0.0</td>\n",
       "      <td>21</td>\n",
       "    </tr>\n",
       "    <tr>\n",
       "      <th>4</th>\n",
       "      <td>0.318769</td>\n",
       "      <td>-0.355580</td>\n",
       "      <td>44290.164062</td>\n",
       "      <td>71907.625000</td>\n",
       "      <td>18102.0</td>\n",
       "      <td>-999.0</td>\n",
       "      <td>0.0</td>\n",
       "      <td>21</td>\n",
       "    </tr>\n",
       "  </tbody>\n",
       "</table>\n",
       "</div>"
      ],
      "text/plain": [
       "         TX        TY             X             Y        Z  event_id  signal  \\\n",
       "0 -0.043787  0.149312  37343.636719  57321.039062  25860.0    -999.0     0.0   \n",
       "1 -0.238449 -0.369275  38199.117188  14818.970703  72408.0    -999.0     0.0   \n",
       "2  0.312426 -0.253441  36330.500000  31390.966797  69822.0    -999.0     0.0   \n",
       "3  0.028330 -0.237798  43192.093750  46829.191406  18102.0    -999.0     0.0   \n",
       "4  0.318769 -0.355580  44290.164062  71907.625000  18102.0    -999.0     0.0   \n",
       "\n",
       "   data_ind  \n",
       "0        21  \n",
       "1        21  \n",
       "2        21  \n",
       "3        21  \n",
       "4        21  "
      ]
     },
     "execution_count": 112,
     "metadata": {},
     "output_type": "execute_result"
    }
   ],
   "source": [
    "train_data.head()"
   ]
  },
  {
   "cell_type": "code",
   "execution_count": 113,
   "metadata": {},
   "outputs": [
    {
     "data": {
      "text/plain": [
       "(14881844, 8)"
      ]
     },
     "execution_count": 113,
     "metadata": {},
     "output_type": "execute_result"
    }
   ],
   "source": [
    "train_data.shape"
   ]
  },
  {
   "cell_type": "code",
   "execution_count": 114,
   "metadata": {},
   "outputs": [
    {
     "name": "stdout",
     "output_type": "stream",
     "text": [
      "(2958072, 7)\n"
     ]
    },
    {
     "data": {
      "text/html": [
       "<div>\n",
       "<style scoped>\n",
       "    .dataframe tbody tr th:only-of-type {\n",
       "        vertical-align: middle;\n",
       "    }\n",
       "\n",
       "    .dataframe tbody tr th {\n",
       "        vertical-align: top;\n",
       "    }\n",
       "\n",
       "    .dataframe thead th {\n",
       "        text-align: right;\n",
       "    }\n",
       "</style>\n",
       "<table border=\"1\" class=\"dataframe\">\n",
       "  <thead>\n",
       "    <tr style=\"text-align: right;\">\n",
       "      <th></th>\n",
       "      <th>id</th>\n",
       "      <th>TX</th>\n",
       "      <th>TY</th>\n",
       "      <th>X</th>\n",
       "      <th>Y</th>\n",
       "      <th>Z</th>\n",
       "      <th>data_ind</th>\n",
       "    </tr>\n",
       "  </thead>\n",
       "  <tbody>\n",
       "    <tr>\n",
       "      <th>0</th>\n",
       "      <td>0</td>\n",
       "      <td>-0.243285</td>\n",
       "      <td>0.034970</td>\n",
       "      <td>49282.421875</td>\n",
       "      <td>49359.332031</td>\n",
       "      <td>40083.0</td>\n",
       "      <td>0</td>\n",
       "    </tr>\n",
       "    <tr>\n",
       "      <th>1</th>\n",
       "      <td>1</td>\n",
       "      <td>-0.111049</td>\n",
       "      <td>0.052493</td>\n",
       "      <td>41839.175781</td>\n",
       "      <td>21390.554688</td>\n",
       "      <td>33618.0</td>\n",
       "      <td>0</td>\n",
       "    </tr>\n",
       "    <tr>\n",
       "      <th>2</th>\n",
       "      <td>2</td>\n",
       "      <td>-0.047433</td>\n",
       "      <td>-0.269513</td>\n",
       "      <td>60404.886719</td>\n",
       "      <td>28631.410156</td>\n",
       "      <td>42669.0</td>\n",
       "      <td>0</td>\n",
       "    </tr>\n",
       "    <tr>\n",
       "      <th>3</th>\n",
       "      <td>3</td>\n",
       "      <td>-0.081808</td>\n",
       "      <td>0.022675</td>\n",
       "      <td>31875.050781</td>\n",
       "      <td>30950.125000</td>\n",
       "      <td>62064.0</td>\n",
       "      <td>0</td>\n",
       "    </tr>\n",
       "    <tr>\n",
       "      <th>4</th>\n",
       "      <td>4</td>\n",
       "      <td>0.386942</td>\n",
       "      <td>-0.271280</td>\n",
       "      <td>36173.644531</td>\n",
       "      <td>25627.705078</td>\n",
       "      <td>36204.0</td>\n",
       "      <td>0</td>\n",
       "    </tr>\n",
       "  </tbody>\n",
       "</table>\n",
       "</div>"
      ],
      "text/plain": [
       "   id        TX        TY             X             Y        Z  data_ind\n",
       "0   0 -0.243285  0.034970  49282.421875  49359.332031  40083.0         0\n",
       "1   1 -0.111049  0.052493  41839.175781  21390.554688  33618.0         0\n",
       "2   2 -0.047433 -0.269513  60404.886719  28631.410156  42669.0         0\n",
       "3   3 -0.081808  0.022675  31875.050781  30950.125000  62064.0         0\n",
       "4   4  0.386942 -0.271280  36173.644531  25627.705078  36204.0         0"
      ]
     },
     "execution_count": 114,
     "metadata": {},
     "output_type": "execute_result"
    }
   ],
   "source": [
    "test_data = pd.read_csv('data/test_data13_changed_50.csv')\n",
    "print(test_data.shape)\n",
    "test_data.head()"
   ]
  },
  {
   "cell_type": "code",
   "execution_count": 115,
   "metadata": {},
   "outputs": [
    {
     "data": {
      "text/html": [
       "<div>\n",
       "<style scoped>\n",
       "    .dataframe tbody tr th:only-of-type {\n",
       "        vertical-align: middle;\n",
       "    }\n",
       "\n",
       "    .dataframe tbody tr th {\n",
       "        vertical-align: top;\n",
       "    }\n",
       "\n",
       "    .dataframe thead th {\n",
       "        text-align: right;\n",
       "    }\n",
       "</style>\n",
       "<table border=\"1\" class=\"dataframe\">\n",
       "  <thead>\n",
       "    <tr style=\"text-align: right;\">\n",
       "      <th></th>\n",
       "      <th>id</th>\n",
       "      <th>class_0</th>\n",
       "      <th>class_1</th>\n",
       "      <th>class_2</th>\n",
       "      <th>class_3</th>\n",
       "      <th>class_4</th>\n",
       "      <th>class_5</th>\n",
       "      <th>class_6</th>\n",
       "      <th>class_7</th>\n",
       "      <th>class_8</th>\n",
       "      <th>...</th>\n",
       "      <th>class_40</th>\n",
       "      <th>class_41</th>\n",
       "      <th>class_42</th>\n",
       "      <th>class_43</th>\n",
       "      <th>class_44</th>\n",
       "      <th>class_45</th>\n",
       "      <th>class_46</th>\n",
       "      <th>class_47</th>\n",
       "      <th>class_48</th>\n",
       "      <th>class_49</th>\n",
       "    </tr>\n",
       "  </thead>\n",
       "  <tbody>\n",
       "    <tr>\n",
       "      <th>0</th>\n",
       "      <td>0</td>\n",
       "      <td>0.0</td>\n",
       "      <td>0.0</td>\n",
       "      <td>0.0</td>\n",
       "      <td>0.0</td>\n",
       "      <td>0.0</td>\n",
       "      <td>0.0</td>\n",
       "      <td>0.0</td>\n",
       "      <td>0.0</td>\n",
       "      <td>0.0</td>\n",
       "      <td>...</td>\n",
       "      <td>0.0</td>\n",
       "      <td>0.0</td>\n",
       "      <td>0.0</td>\n",
       "      <td>0.0</td>\n",
       "      <td>0.0</td>\n",
       "      <td>0.0</td>\n",
       "      <td>0.0</td>\n",
       "      <td>0.0</td>\n",
       "      <td>0.0</td>\n",
       "      <td>0.0</td>\n",
       "    </tr>\n",
       "    <tr>\n",
       "      <th>1</th>\n",
       "      <td>1</td>\n",
       "      <td>0.0</td>\n",
       "      <td>0.0</td>\n",
       "      <td>0.0</td>\n",
       "      <td>0.0</td>\n",
       "      <td>0.0</td>\n",
       "      <td>0.0</td>\n",
       "      <td>0.0</td>\n",
       "      <td>0.0</td>\n",
       "      <td>0.0</td>\n",
       "      <td>...</td>\n",
       "      <td>0.0</td>\n",
       "      <td>0.0</td>\n",
       "      <td>0.0</td>\n",
       "      <td>0.0</td>\n",
       "      <td>0.0</td>\n",
       "      <td>0.0</td>\n",
       "      <td>0.0</td>\n",
       "      <td>0.0</td>\n",
       "      <td>0.0</td>\n",
       "      <td>0.0</td>\n",
       "    </tr>\n",
       "    <tr>\n",
       "      <th>2</th>\n",
       "      <td>2</td>\n",
       "      <td>0.0</td>\n",
       "      <td>0.0</td>\n",
       "      <td>0.0</td>\n",
       "      <td>0.0</td>\n",
       "      <td>0.0</td>\n",
       "      <td>0.0</td>\n",
       "      <td>0.0</td>\n",
       "      <td>0.0</td>\n",
       "      <td>0.0</td>\n",
       "      <td>...</td>\n",
       "      <td>0.0</td>\n",
       "      <td>0.0</td>\n",
       "      <td>0.0</td>\n",
       "      <td>0.0</td>\n",
       "      <td>0.0</td>\n",
       "      <td>0.0</td>\n",
       "      <td>0.0</td>\n",
       "      <td>0.0</td>\n",
       "      <td>0.0</td>\n",
       "      <td>0.0</td>\n",
       "    </tr>\n",
       "    <tr>\n",
       "      <th>3</th>\n",
       "      <td>3</td>\n",
       "      <td>0.0</td>\n",
       "      <td>0.0</td>\n",
       "      <td>0.0</td>\n",
       "      <td>0.0</td>\n",
       "      <td>0.0</td>\n",
       "      <td>0.0</td>\n",
       "      <td>0.0</td>\n",
       "      <td>0.0</td>\n",
       "      <td>0.0</td>\n",
       "      <td>...</td>\n",
       "      <td>0.0</td>\n",
       "      <td>0.0</td>\n",
       "      <td>0.0</td>\n",
       "      <td>0.0</td>\n",
       "      <td>0.0</td>\n",
       "      <td>0.0</td>\n",
       "      <td>0.0</td>\n",
       "      <td>0.0</td>\n",
       "      <td>0.0</td>\n",
       "      <td>0.0</td>\n",
       "    </tr>\n",
       "    <tr>\n",
       "      <th>4</th>\n",
       "      <td>4</td>\n",
       "      <td>0.0</td>\n",
       "      <td>0.0</td>\n",
       "      <td>0.0</td>\n",
       "      <td>0.0</td>\n",
       "      <td>0.0</td>\n",
       "      <td>0.0</td>\n",
       "      <td>0.0</td>\n",
       "      <td>0.0</td>\n",
       "      <td>0.0</td>\n",
       "      <td>...</td>\n",
       "      <td>0.0</td>\n",
       "      <td>0.0</td>\n",
       "      <td>0.0</td>\n",
       "      <td>0.0</td>\n",
       "      <td>0.0</td>\n",
       "      <td>0.0</td>\n",
       "      <td>0.0</td>\n",
       "      <td>0.0</td>\n",
       "      <td>0.0</td>\n",
       "      <td>0.0</td>\n",
       "    </tr>\n",
       "  </tbody>\n",
       "</table>\n",
       "<p>5 rows × 51 columns</p>\n",
       "</div>"
      ],
      "text/plain": [
       "   id  class_0  class_1  class_2  class_3  class_4  class_5  class_6  class_7  \\\n",
       "0   0      0.0      0.0      0.0      0.0      0.0      0.0      0.0      0.0   \n",
       "1   1      0.0      0.0      0.0      0.0      0.0      0.0      0.0      0.0   \n",
       "2   2      0.0      0.0      0.0      0.0      0.0      0.0      0.0      0.0   \n",
       "3   3      0.0      0.0      0.0      0.0      0.0      0.0      0.0      0.0   \n",
       "4   4      0.0      0.0      0.0      0.0      0.0      0.0      0.0      0.0   \n",
       "\n",
       "   class_8    ...     class_40  class_41  class_42  class_43  class_44  \\\n",
       "0      0.0    ...          0.0       0.0       0.0       0.0       0.0   \n",
       "1      0.0    ...          0.0       0.0       0.0       0.0       0.0   \n",
       "2      0.0    ...          0.0       0.0       0.0       0.0       0.0   \n",
       "3      0.0    ...          0.0       0.0       0.0       0.0       0.0   \n",
       "4      0.0    ...          0.0       0.0       0.0       0.0       0.0   \n",
       "\n",
       "   class_45  class_46  class_47  class_48  class_49  \n",
       "0       0.0       0.0       0.0       0.0       0.0  \n",
       "1       0.0       0.0       0.0       0.0       0.0  \n",
       "2       0.0       0.0       0.0       0.0       0.0  \n",
       "3       0.0       0.0       0.0       0.0       0.0  \n",
       "4       0.0       0.0       0.0       0.0       0.0  \n",
       "\n",
       "[5 rows x 51 columns]"
      ]
     },
     "execution_count": 115,
     "metadata": {},
     "output_type": "execute_result"
    }
   ],
   "source": [
    "answer_example = pd.read_csv(\"data/test_example13_changed_50.csv\")\n",
    "answer_example.head()"
   ]
  },
  {
   "cell_type": "code",
   "execution_count": 116,
   "metadata": {},
   "outputs": [
    {
     "data": {
      "text/plain": [
       "array([21, 22, 23, 24, 25, 26, 27, 28, 29, 30])"
      ]
     },
     "execution_count": 116,
     "metadata": {},
     "output_type": "execute_result"
    }
   ],
   "source": [
    "train_data.data_ind.unique()"
   ]
  },
  {
   "cell_type": "code",
   "execution_count": 117,
   "metadata": {},
   "outputs": [
    {
     "data": {
      "text/plain": [
       "(800,)"
      ]
     },
     "execution_count": 117,
     "metadata": {},
     "output_type": "execute_result"
    }
   ],
   "source": [
    "train_data.event_id.unique().shape"
   ]
  },
  {
   "cell_type": "code",
   "execution_count": 118,
   "metadata": {},
   "outputs": [],
   "source": [
    "ind = train_data[train_data.data_ind == train_data.data_ind[0]]"
   ]
  },
  {
   "cell_type": "code",
   "execution_count": 119,
   "metadata": {
    "scrolled": true
   },
   "outputs": [
    {
     "data": {
      "text/plain": [
       "(1508451, 8)"
      ]
     },
     "execution_count": 119,
     "metadata": {},
     "output_type": "execute_result"
    }
   ],
   "source": [
    "ind.shape"
   ]
  },
  {
   "cell_type": "code",
   "execution_count": 120,
   "metadata": {},
   "outputs": [
    {
     "data": {
      "text/plain": [
       "array([  -999., 170362., 197662., 176366., 191841., 154158., 152241.,\n",
       "       153536., 170554., 154329., 176143., 179701., 180951., 153168.,\n",
       "       174047., 151169., 177778., 178131., 174814., 199159., 170161.,\n",
       "       178476., 178851., 170512., 194322., 177363., 197394., 170351.,\n",
       "       160568., 170621., 192637., 199277., 190553., 170369., 154201.,\n",
       "       151804., 184507., 153972., 153049., 152007., 161292., 172053.,\n",
       "       169631., 189765., 153491., 173457., 170065., 170323., 172838.,\n",
       "       153683., 193407., 187991., 176195., 176974., 197287., 174503.,\n",
       "       172708., 171061., 160337., 152290., 152189., 151597., 185838.,\n",
       "       154747., 197162., 181546., 172854., 194190., 172092., 150989.,\n",
       "       174558., 150787., 172881., 186047., 195269., 185958., 181010.,\n",
       "       196748., 154004., 197496., 173649., 176029., 177495., 197457.,\n",
       "       185974., 151465., 180613., 187857., 187223.])"
      ]
     },
     "execution_count": 120,
     "metadata": {},
     "output_type": "execute_result"
    }
   ],
   "source": [
    "event_ids = ind.event_id.unique()\n",
    "event_ids"
   ]
  },
  {
   "cell_type": "code",
   "execution_count": 121,
   "metadata": {},
   "outputs": [
    {
     "data": {
      "image/png": "[encoded data removed]",
      "text/plain": [
       "<Figure size 432x288 with 1 Axes>"
      ]
     },
     "metadata": {},
     "output_type": "display_data"
    }
   ],
   "source": [
    "for event_id in ind.event_id.unique()[1:10]:\n",
    "    ev = ind[ind.event_id == event_id]\n",
    "    ax = plt.gca(projection='3d')\n",
    "    ax.scatter3D(ev.Z, ev.X, ev.Y)"
   ]
  },
  {
   "cell_type": "code",
   "execution_count": 122,
   "metadata": {},
   "outputs": [],
   "source": [
    "z = np.array(sorted(ind.Z.unique()))"
   ]
  },
  {
   "cell_type": "code",
   "execution_count": 123,
   "metadata": {},
   "outputs": [
    {
     "data": {
      "text/plain": [
       "array([1.29300000e+03, 3.12582031e+02, 4.11328125e+00, 3.86718750e-01,\n",
       "       1.63671875e+00, 7.38281250e-01, 9.73542969e+02, 2.97496094e+02,\n",
       "       3.98437500e-01, 9.95105469e+02, 2.77636719e+02, 1.83593750e-01,\n",
       "       8.00781250e-01, 5.07812500e-01, 1.01387109e+03, 2.55980469e+02,\n",
       "       7.71484375e-01, 1.03624805e+03, 2.33664062e+02, 2.99023438e+00,\n",
       "       2.02148438e+00, 1.05432422e+03, 2.14054688e+02, 2.22656250e+00,\n",
       "       5.83984375e-01, 1.07613477e+03, 1.93753906e+02, 3.90625000e-02,\n",
       "       1.09920703e+03, 1.74375000e+02, 1.07421875e+00, 1.72265625e+00,\n",
       "       4.08203125e-01, 6.34765625e-01, 1.11478516e+03, 1.53287109e+02,\n",
       "       1.03125000e+00, 3.71679688e+00, 1.13496484e+03, 1.34365234e+02,\n",
       "       1.50390625e-01, 5.19531250e-01, 1.33203125e+00, 1.10742188e+00,\n",
       "       9.98046875e-01, 1.88867188e+00, 6.25000000e-01, 1.15201367e+03,\n",
       "       1.17128906e+02, 1.17587109e+03, 9.26699219e+01, 3.58203125e+00,\n",
       "       1.56250000e+00, 5.03906250e-01, 2.42187500e-01, 1.19443945e+03,\n",
       "       7.47636719e+01, 1.30273438e+00, 3.98437500e-01, 3.20507812e+00,\n",
       "       1.21333008e+03, 1.29300000e+03, 3.46093750e+01, 1.25839062e+03,\n",
       "       1.34707031e+01, 7.89062500e-01, 1.27359570e+03, 5.95703125e-01,\n",
       "       1.10351562e+00, 1.58593750e+00, 1.84375000e+00, 1.56250000e-02,\n",
       "       1.26668750e+03, 2.22656250e+00, 2.26562500e-01, 6.13281250e-01,\n",
       "       3.78906250e-01, 5.62500000e-01, 2.72656250e+00, 1.95781250e+01,\n",
       "       1.24617969e+03, 4.68203125e+01, 1.22243359e+03, 4.78710938e+00,\n",
       "       1.99804688e+00, 2.92968750e-02, 6.37519531e+01, 1.20561719e+03,\n",
       "       3.50976562e+00, 3.90625000e-03, 3.51562500e-01, 1.77539062e+00,\n",
       "       3.61328125e-01, 7.20703125e-01, 2.08984375e-01, 7.22656250e-02,\n",
       "       8.03789062e+01, 1.29300000e+03, 1.16869336e+03, 1.36523438e+00,\n",
       "       1.22941406e+02, 1.14745898e+03, 2.14648438e+00, 2.30468750e-01,\n",
       "       2.30468750e-01, 1.42933594e+02, 1.12942773e+03, 1.63572266e+02,\n",
       "       1.10671484e+03, 5.31250000e-01, 4.28515625e+00, 1.60937500e+00,\n",
       "       1.79859375e+02, 1.29300000e+03, 1.29300000e+03, 1.05135156e+03,\n",
       "       2.41648438e+02, 1.29300000e+03, 1.29300000e+03, 1.29300000e+03,\n",
       "       1.29300000e+03, 1.29300000e+03, 1.29300000e+03, 1.29300000e+03,\n",
       "       1.29300000e+03, 1.29300000e+03, 1.29300000e+03, 1.29300000e+03,\n",
       "       1.29300000e+03, 1.29300000e+03, 1.29300000e+03, 1.29300000e+03,\n",
       "       1.29300000e+03, 1.29300000e+03, 1.29300000e+03, 1.29300000e+03,\n",
       "       1.29300000e+03, 1.29300000e+03, 1.29300000e+03, 1.29300000e+03,\n",
       "       1.29300000e+03, 1.29300000e+03, 1.29300000e+03, 1.29300000e+03,\n",
       "       1.29300000e+03])"
      ]
     },
     "execution_count": 123,
     "metadata": {},
     "output_type": "execute_result"
    }
   ],
   "source": [
    "z[1:] - z[:-1]"
   ]
  },
  {
   "cell_type": "code",
   "execution_count": 124,
   "metadata": {},
   "outputs": [
    {
     "name": "stdout",
     "output_type": "stream",
     "text": [
      "1293.0\n"
     ]
    }
   ],
   "source": [
    "(values, counts) = np.unique(z[1:] - z[:-1], return_counts=True)\n",
    "index = np.argmax(counts)\n",
    "dist = values[index]\n",
    "print(dist)"
   ]
  },
  {
   "cell_type": "code",
   "execution_count": 19,
   "metadata": {},
   "outputs": [],
   "source": [
    "num_test_data_ind = len(test_data.data_ind.unique())"
   ]
  },
  {
   "cell_type": "code",
   "execution_count": 17,
   "metadata": {},
   "outputs": [
    {
     "data": {
      "text/plain": [
       "array([50028.20703125, 40016.5625    , 36850.5       ])"
      ]
     },
     "execution_count": 17,
     "metadata": {},
     "output_type": "execute_result"
    }
   ],
   "source": [
    "cols = ['X', 'Y', 'Z']\n",
    "center = np.array([(ind[i].max() +  ind[i].min()) / 2 for i in cols])\n",
    "center"
   ]
  },
  {
   "cell_type": "code",
   "execution_count": 21,
   "metadata": {},
   "outputs": [],
   "source": [
    "distances = [[] for _ in range(num_test_data_ind)]\n",
    "dst = []\n",
    "dtype = [('ind', int), ('dst', float)]\n",
    "for data_ind in range(num_test_data_ind):\n",
    "    test_ind = test_data[test_data.data_ind == test_data.data_ind.unique()[data_ind]]\n",
    "    origin_ids = []\n",
    "    for row in test_ind.values:\n",
    "        if not (row[5] / dist).is_integer():\n",
    "            origin_ids.append(int(row[0]))\n",
    "    center = np.array([(ind[i].max() +  ind[i].min()) / 2 for i in cols])\n",
    "    for i in origin_ids:\n",
    "        origin = test_ind.loc[i]\n",
    "        origin_cords = [origin.X, origin.Y, origin.Z]\n",
    "        distances[data_ind].append((i, distance.euclidean(origin_cords, center)))\n",
    "    dst.append(np.array(distances[data_ind], dtype=dtype))\n",
    "    dst[data_ind].sort(order='dst')"
   ]
  },
  {
   "cell_type": "code",
   "execution_count": 153,
   "metadata": {
    "scrolled": true
   },
   "outputs": [
    {
     "data": {
      "text/plain": [
       "array([( 779334,  7643.35451056), (1173376,  9622.2342714 ),\n",
       "       (1238617, 11174.60959314), ( 651398, 11620.41509009),\n",
       "       ( 450082, 12724.07497203), (1304805, 13150.54241229),\n",
       "       ( 812877, 14296.75169101), (1327933, 14312.39124056),\n",
       "       ( 942935, 14414.97186794), (   1187, 15138.123253  ),\n",
       "       (   7662, 15550.65343539), ( 704442, 16370.58252027),\n",
       "       ( 757781, 16544.29894703), ( 439491, 17645.90623265),\n",
       "       ( 102346, 17758.7532428 ), ( 422679, 19203.58345988),\n",
       "       (1166530, 19782.21030598), (1215124, 20003.69833427),\n",
       "       (1384830, 20821.25824739), ( 684031, 21107.73560228),\n",
       "       ( 671824, 22045.86195957), ( 803388, 22228.33788516),\n",
       "       ( 164640, 22637.25644339), (1385912, 23273.46415638),\n",
       "       ( 892366, 23365.6955094 ), ( 948611, 24483.98080645),\n",
       "       ( 592748, 24551.67372716), (1086801, 24719.86993662),\n",
       "       (1337490, 24909.61542356), ( 883395, 25202.94649893),\n",
       "       (1443323, 25661.97189755), (1116611, 26784.37276591),\n",
       "       (   3353, 26866.87008224), ( 216792, 27455.3530878 ),\n",
       "       (1297684, 27571.01547616), (  24648, 27800.55605749),\n",
       "       ( 874872, 27882.97491168), ( 960323, 28129.62354405),\n",
       "       (1316214, 28367.37906517), (1242888, 28476.02514748),\n",
       "       (1065146, 28673.18986521), ( 722226, 28872.60865655),\n",
       "       ( 186894, 28886.40861896), ( 965342, 29353.72751035),\n",
       "       ( 364058, 29524.02496178), ( 673592, 29940.11011369),\n",
       "       ( 300563, 29955.14391748), ( 911706, 29955.61104076),\n",
       "       ( 462197, 30007.44871364), ( 429506, 30045.86882366)],\n",
       "      dtype=[('ind', '<i8'), ('dst', '<f8')])"
      ]
     },
     "execution_count": 153,
     "metadata": {},
     "output_type": "execute_result"
    }
   ],
   "source": [
    "dst[0][:50]"
   ]
  },
  {
   "cell_type": "code",
   "execution_count": 22,
   "metadata": {},
   "outputs": [],
   "source": [
    "origin_ids = [[] for _ in range(num_test_data_ind)]\n",
    "for data_ind in range(num_test_data_ind):\n",
    "    for cls in range(49):\n",
    "        origin_ids[data_ind].append(test_data.loc[dst[data_ind][cls][0]])"
   ]
  },
  {
   "cell_type": "code",
   "execution_count": null,
   "metadata": {},
   "outputs": [],
   "source": [
    "class_dist = np.zeros((len(test_data), 49))\n",
    "for i in range(len(test_data)):\n",
    "    point = test_data.loc[i]\n",
    "    data_ind = int(point.data_ind)\n",
    "    for cls in range(49):\n",
    "        origin = origin_ids[data_ind][cls]\n",
    "        class_dist[i][cls] = distance.euclidean(\n",
    "            [point.X, point.Y, point.Z], \n",
    "            [origin.X, origin.Y, origin.Z]\n",
    "        )"
   ]
  },
  {
   "cell_type": "code",
   "execution_count": 28,
   "metadata": {},
   "outputs": [
    {
     "data": {
      "text/plain": [
       "array([    0.        , 12590.60815552,  5594.06909374,  9099.42259672,\n",
       "        5997.66323582, 17387.50831474, 15183.62722632, 16306.14935221,\n",
       "       11978.27898872, 13380.12110922, 15639.14967143, 14100.34949479,\n",
       "       10578.72243354, 10488.75742792, 18452.49688145, 19482.52268909,\n",
       "       22203.18349575, 22013.348118  , 18972.26198603, 20914.13028808,\n",
       "       24058.80243364, 16367.32242792, 16810.70167081, 16149.71542646,\n",
       "       19077.18939922, 22425.76703726, 21704.13884348, 17180.96592459,\n",
       "       26493.60569807, 27187.47686115, 27759.75564407, 19782.01965148,\n",
       "       20595.01448346, 22168.83985365, 23216.2533035 , 21698.48505204,\n",
       "       20272.50996849, 27480.55686768, 26981.48291759, 30393.61308087,\n",
       "       27769.19755362, 29629.4117068 , 25923.94519444, 23382.21101949,\n",
       "       31636.04680462, 28300.84837394, 26677.35085944, 25113.9773149 ,\n",
       "       29309.84308747])"
      ]
     },
     "execution_count": 28,
     "metadata": {},
     "output_type": "execute_result"
    }
   ],
   "source": [
    "class_dist[779334]"
   ]
  },
  {
   "cell_type": "code",
   "execution_count": null,
   "metadata": {},
   "outputs": [],
   "source": [
    "probs = np.zeros((len(test_data), 49))\n",
    "for i in range(len(class_dist)):\n",
    "    summ = np.sum(class_dist[i])\n",
    "    class_distt = 1 - (class_dist[i] / summ)\n",
    "    summm = np.sum(class_distt)\n",
    "    class_disttt = class_distt / summm\n",
    "    minn = np.min(class_disttt)\n",
    "    summmm = np.sum(class_disttt) + class_0[i] + 39 * minn\n",
    "    probs[i] = class_disttt / summmm"
   ]
  },
  {
   "cell_type": "code",
   "execution_count": 16,
   "metadata": {},
   "outputs": [],
   "source": [
    "columns = ['TX', 'TY', 'X', 'Y', 'Z']\n",
    "cols_without_Z = columns[:-1]"
   ]
  },
  {
   "cell_type": "code",
   "execution_count": 17,
   "metadata": {},
   "outputs": [],
   "source": [
    "def generate_pairs(df, k, same_pair, metric):\n",
    "    pairs = []\n",
    "    for data_ind in tqdm(df.data_ind.unique()):\n",
    "        ind = df[df.data_ind == data_ind].copy()\n",
    "        z_values = list(sorted(ind.Z.unique()))\n",
    "        \n",
    "        for z, z_next in zip(z_values, z_values[1:]):\n",
    "            z, z_next = ind[ind.Z == z].copy(), ind[ind.Z == z_next].copy()\n",
    "            z[['TX', 'TY']] *= dist\n",
    "            z_next[['TX', 'TY']] *= dist\n",
    "            \n",
    "            bt = BallTree(z_next[cols_without_Z], metric=metric)\n",
    "            dst, idx = bt.query(z[cols_without_Z], k=min(k, len(z_next)))\n",
    "            \n",
    "            for i in range(idx.shape[1]):\n",
    "                data = z_next.iloc[idx[:, i]]\n",
    "                temp = z.copy()\n",
    "                for col in columns:\n",
    "                    temp[col + '_pair'] = data[col].values\n",
    "                if same_pair:\n",
    "                    temp['same_pair'] = data.event_id.values == z.event_id.values\n",
    "                pairs.append(temp)\n",
    "            \n",
    "        pairs.append(z_next)\n",
    "        \n",
    "    pairs = pd.concat(pairs)\n",
    "    for col in columns:\n",
    "        pairs['d' + col] = pairs[col].values - pairs[col + '_pair'].values\n",
    "    return pairs"
   ]
  },
  {
   "cell_type": "code",
   "execution_count": 18,
   "metadata": {},
   "outputs": [],
   "source": [
    "def make_train(df, k, metric):\n",
    "    t = generate_pairs(df, k=k, same_pair=True, metric=metric)\n",
    "    noise = t.event_id == -999\n",
    "    signal, not_signal = t[~noise], t[noise]\n",
    "    noise_part = not_signal.sample(len(signal))\n",
    "    return pd.concat([signal, noise_part]).reset_index(drop=True)"
   ]
  },
  {
   "cell_type": "code",
   "execution_count": 126,
   "metadata": {
    "scrolled": false
   },
   "outputs": [
    {
     "name": "stderr",
     "output_type": "stream",
     "text": [
      "100%|██████████| 10/10 [01:30<00:00,  9.04s/it]\n",
      "/home/lukanin/miniconda3/lib/python3.6/site-packages/ipykernel_launcher.py:26: FutureWarning: Sorting because non-concatenation axis is not aligned. A future version\n",
      "of pandas will change to not sort by default.\n",
      "\n",
      "To accept the future behavior, pass 'sort=True'.\n",
      "\n",
      "To retain the current behavior and silence the warning, pass sort=False\n",
      "\n"
     ]
    }
   ],
   "source": [
    "train = []\n",
    "train.append(make_train(train_data, k=3, metric='minkowski'))\n",
    "train = pd.concat(train)"
   ]
  },
  {
   "cell_type": "code",
   "execution_count": 127,
   "metadata": {},
   "outputs": [
    {
     "data": {
      "text/html": [
       "<div>\n",
       "<style scoped>\n",
       "    .dataframe tbody tr th:only-of-type {\n",
       "        vertical-align: middle;\n",
       "    }\n",
       "\n",
       "    .dataframe tbody tr th {\n",
       "        vertical-align: top;\n",
       "    }\n",
       "\n",
       "    .dataframe thead th {\n",
       "        text-align: right;\n",
       "    }\n",
       "</style>\n",
       "<table border=\"1\" class=\"dataframe\">\n",
       "  <thead>\n",
       "    <tr style=\"text-align: right;\">\n",
       "      <th></th>\n",
       "      <th>TX</th>\n",
       "      <th>TX_pair</th>\n",
       "      <th>TY</th>\n",
       "      <th>TY_pair</th>\n",
       "      <th>X</th>\n",
       "      <th>X_pair</th>\n",
       "      <th>Y</th>\n",
       "      <th>Y_pair</th>\n",
       "      <th>Z</th>\n",
       "      <th>Z_pair</th>\n",
       "      <th>data_ind</th>\n",
       "      <th>event_id</th>\n",
       "      <th>same_pair</th>\n",
       "      <th>signal</th>\n",
       "      <th>dTX</th>\n",
       "      <th>dTY</th>\n",
       "      <th>dX</th>\n",
       "      <th>dY</th>\n",
       "      <th>dZ</th>\n",
       "    </tr>\n",
       "  </thead>\n",
       "  <tbody>\n",
       "    <tr>\n",
       "      <th>0</th>\n",
       "      <td>37.176876</td>\n",
       "      <td>34.904358</td>\n",
       "      <td>57.802258</td>\n",
       "      <td>52.662411</td>\n",
       "      <td>36570.800781</td>\n",
       "      <td>36567.839844</td>\n",
       "      <td>37573.714844</td>\n",
       "      <td>37569.109375</td>\n",
       "      <td>1293.000000</td>\n",
       "      <td>1605.582031</td>\n",
       "      <td>21</td>\n",
       "      <td>170369.0</td>\n",
       "      <td>True</td>\n",
       "      <td>1.0</td>\n",
       "      <td>2.272518</td>\n",
       "      <td>5.139847</td>\n",
       "      <td>2.960938</td>\n",
       "      <td>4.605469</td>\n",
       "      <td>-312.582031</td>\n",
       "    </tr>\n",
       "    <tr>\n",
       "      <th>1</th>\n",
       "      <td>90.028969</td>\n",
       "      <td>34.904358</td>\n",
       "      <td>77.270569</td>\n",
       "      <td>52.662411</td>\n",
       "      <td>46962.492188</td>\n",
       "      <td>36567.839844</td>\n",
       "      <td>56969.125000</td>\n",
       "      <td>37569.109375</td>\n",
       "      <td>1293.000000</td>\n",
       "      <td>1605.582031</td>\n",
       "      <td>21</td>\n",
       "      <td>150989.0</td>\n",
       "      <td>False</td>\n",
       "      <td>1.0</td>\n",
       "      <td>55.124611</td>\n",
       "      <td>24.608158</td>\n",
       "      <td>10394.652344</td>\n",
       "      <td>19400.015625</td>\n",
       "      <td>-312.582031</td>\n",
       "    </tr>\n",
       "    <tr>\n",
       "      <th>2</th>\n",
       "      <td>-67.866905</td>\n",
       "      <td>34.904358</td>\n",
       "      <td>49.725986</td>\n",
       "      <td>52.662411</td>\n",
       "      <td>35590.781250</td>\n",
       "      <td>36567.839844</td>\n",
       "      <td>13027.308594</td>\n",
       "      <td>37569.109375</td>\n",
       "      <td>1293.000000</td>\n",
       "      <td>1605.582031</td>\n",
       "      <td>21</td>\n",
       "      <td>199277.0</td>\n",
       "      <td>False</td>\n",
       "      <td>1.0</td>\n",
       "      <td>-102.771263</td>\n",
       "      <td>-2.936424</td>\n",
       "      <td>-977.058594</td>\n",
       "      <td>-24541.800781</td>\n",
       "      <td>-312.582031</td>\n",
       "    </tr>\n",
       "    <tr>\n",
       "      <th>3</th>\n",
       "      <td>87.022667</td>\n",
       "      <td>34.904358</td>\n",
       "      <td>-55.483440</td>\n",
       "      <td>52.662411</td>\n",
       "      <td>34291.359375</td>\n",
       "      <td>36567.839844</td>\n",
       "      <td>34698.394531</td>\n",
       "      <td>37569.109375</td>\n",
       "      <td>1293.000000</td>\n",
       "      <td>1605.582031</td>\n",
       "      <td>21</td>\n",
       "      <td>197162.0</td>\n",
       "      <td>False</td>\n",
       "      <td>1.0</td>\n",
       "      <td>52.118309</td>\n",
       "      <td>-108.145851</td>\n",
       "      <td>-2276.480469</td>\n",
       "      <td>-2870.714844</td>\n",
       "      <td>-312.582031</td>\n",
       "    </tr>\n",
       "    <tr>\n",
       "      <th>4</th>\n",
       "      <td>34.904358</td>\n",
       "      <td>97.285156</td>\n",
       "      <td>52.662411</td>\n",
       "      <td>72.002357</td>\n",
       "      <td>36567.839844</td>\n",
       "      <td>46955.414062</td>\n",
       "      <td>37569.109375</td>\n",
       "      <td>56963.046875</td>\n",
       "      <td>1605.582031</td>\n",
       "      <td>1609.695312</td>\n",
       "      <td>21</td>\n",
       "      <td>170369.0</td>\n",
       "      <td>False</td>\n",
       "      <td>1.0</td>\n",
       "      <td>-62.380798</td>\n",
       "      <td>-19.339947</td>\n",
       "      <td>-10387.574219</td>\n",
       "      <td>-19393.937500</td>\n",
       "      <td>-4.113281</td>\n",
       "    </tr>\n",
       "  </tbody>\n",
       "</table>\n",
       "</div>"
      ],
      "text/plain": [
       "          TX    TX_pair         TY    TY_pair             X        X_pair  \\\n",
       "0  37.176876  34.904358  57.802258  52.662411  36570.800781  36567.839844   \n",
       "1  90.028969  34.904358  77.270569  52.662411  46962.492188  36567.839844   \n",
       "2 -67.866905  34.904358  49.725986  52.662411  35590.781250  36567.839844   \n",
       "3  87.022667  34.904358 -55.483440  52.662411  34291.359375  36567.839844   \n",
       "4  34.904358  97.285156  52.662411  72.002357  36567.839844  46955.414062   \n",
       "\n",
       "              Y        Y_pair            Z       Z_pair  data_ind  event_id  \\\n",
       "0  37573.714844  37569.109375  1293.000000  1605.582031        21  170369.0   \n",
       "1  56969.125000  37569.109375  1293.000000  1605.582031        21  150989.0   \n",
       "2  13027.308594  37569.109375  1293.000000  1605.582031        21  199277.0   \n",
       "3  34698.394531  37569.109375  1293.000000  1605.582031        21  197162.0   \n",
       "4  37569.109375  56963.046875  1605.582031  1609.695312        21  170369.0   \n",
       "\n",
       "  same_pair  signal         dTX         dTY            dX            dY  \\\n",
       "0      True     1.0    2.272518    5.139847      2.960938      4.605469   \n",
       "1     False     1.0   55.124611   24.608158  10394.652344  19400.015625   \n",
       "2     False     1.0 -102.771263   -2.936424   -977.058594 -24541.800781   \n",
       "3     False     1.0   52.118309 -108.145851  -2276.480469  -2870.714844   \n",
       "4     False     1.0  -62.380798  -19.339947 -10387.574219 -19393.937500   \n",
       "\n",
       "           dZ  \n",
       "0 -312.582031  \n",
       "1 -312.582031  \n",
       "2 -312.582031  \n",
       "3 -312.582031  \n",
       "4   -4.113281  "
      ]
     },
     "execution_count": 127,
     "metadata": {},
     "output_type": "execute_result"
    }
   ],
   "source": [
    "train.head()"
   ]
  },
  {
   "cell_type": "code",
   "execution_count": 128,
   "metadata": {},
   "outputs": [],
   "source": [
    "X_train = train.drop(['event_id', 'signal', 'data_ind', 'same_pair'], axis=1)\n",
    "y_train = train.signal"
   ]
  },
  {
   "cell_type": "code",
   "execution_count": 129,
   "metadata": {},
   "outputs": [],
   "source": [
    "lgb_train = lgb.Dataset(X_train, y_train)\n",
    "params = {\n",
    "    'boosting_type': 'gbdt',\n",
    "    'objective': 'binary',\n",
    "    'metric': 'auc',\n",
    "    'num_leaves': 31,\n",
    "    'learning_rate': 0.05,\n",
    "    'max_depth': 15,\n",
    "    'feature_fraction': 0.7,\n",
    "    'bagging_fraction': 0.7,\n",
    "    'bagging_freq': 4\n",
    "}"
   ]
  },
  {
   "cell_type": "code",
   "execution_count": 130,
   "metadata": {},
   "outputs": [],
   "source": [
    "num_round = 100\n",
    "bst = lgb.train(params, lgb_train, num_round)"
   ]
  },
  {
   "cell_type": "code",
   "execution_count": 131,
   "metadata": {
    "scrolled": true
   },
   "outputs": [
    {
     "name": "stderr",
     "output_type": "stream",
     "text": [
      "100%|██████████| 2/2 [00:17<00:00,  8.90s/it]\n",
      "/home/lukanin/miniconda3/lib/python3.6/site-packages/ipykernel_launcher.py:26: FutureWarning: Sorting because non-concatenation axis is not aligned. A future version\n",
      "of pandas will change to not sort by default.\n",
      "\n",
      "To accept the future behavior, pass 'sort=True'.\n",
      "\n",
      "To retain the current behavior and silence the warning, pass sort=False\n",
      "\n"
     ]
    }
   ],
   "source": [
    "test_pairs = generate_pairs(test_data, k=3, same_pair=False, metric='minkowski')"
   ]
  },
  {
   "cell_type": "code",
   "execution_count": 132,
   "metadata": {},
   "outputs": [
    {
     "data": {
      "text/html": [
       "<div>\n",
       "<style scoped>\n",
       "    .dataframe tbody tr th:only-of-type {\n",
       "        vertical-align: middle;\n",
       "    }\n",
       "\n",
       "    .dataframe tbody tr th {\n",
       "        vertical-align: top;\n",
       "    }\n",
       "\n",
       "    .dataframe thead th {\n",
       "        text-align: right;\n",
       "    }\n",
       "</style>\n",
       "<table border=\"1\" class=\"dataframe\">\n",
       "  <thead>\n",
       "    <tr style=\"text-align: right;\">\n",
       "      <th></th>\n",
       "      <th>TX</th>\n",
       "      <th>TX_pair</th>\n",
       "      <th>TY</th>\n",
       "      <th>TY_pair</th>\n",
       "      <th>X</th>\n",
       "      <th>X_pair</th>\n",
       "      <th>Y</th>\n",
       "      <th>Y_pair</th>\n",
       "      <th>Z</th>\n",
       "      <th>Z_pair</th>\n",
       "      <th>id</th>\n",
       "      <th>dTX</th>\n",
       "      <th>dTY</th>\n",
       "      <th>dX</th>\n",
       "      <th>dY</th>\n",
       "      <th>dZ</th>\n",
       "    </tr>\n",
       "  </thead>\n",
       "  <tbody>\n",
       "    <tr>\n",
       "      <th>0</th>\n",
       "      <td>-186.590284</td>\n",
       "      <td>-222.138174</td>\n",
       "      <td>62.864187</td>\n",
       "      <td>91.196664</td>\n",
       "      <td>53888.816406</td>\n",
       "      <td>53427.371094</td>\n",
       "      <td>15242.111328</td>\n",
       "      <td>15439.837891</td>\n",
       "      <td>0.0</td>\n",
       "      <td>1293.0</td>\n",
       "      <td>18</td>\n",
       "      <td>35.547890</td>\n",
       "      <td>-28.332477</td>\n",
       "      <td>461.445312</td>\n",
       "      <td>-197.726562</td>\n",
       "      <td>-1293.0</td>\n",
       "    </tr>\n",
       "    <tr>\n",
       "      <th>1</th>\n",
       "      <td>37.303626</td>\n",
       "      <td>8.345815</td>\n",
       "      <td>705.521989</td>\n",
       "      <td>511.956824</td>\n",
       "      <td>56558.695312</td>\n",
       "      <td>57182.859375</td>\n",
       "      <td>37230.140625</td>\n",
       "      <td>37211.097656</td>\n",
       "      <td>0.0</td>\n",
       "      <td>1293.0</td>\n",
       "      <td>47</td>\n",
       "      <td>28.957811</td>\n",
       "      <td>193.565165</td>\n",
       "      <td>-624.164062</td>\n",
       "      <td>19.042969</td>\n",
       "      <td>-1293.0</td>\n",
       "    </tr>\n",
       "    <tr>\n",
       "      <th>2</th>\n",
       "      <td>318.728354</td>\n",
       "      <td>458.466642</td>\n",
       "      <td>-182.477507</td>\n",
       "      <td>-170.644247</td>\n",
       "      <td>57326.871094</td>\n",
       "      <td>57312.488281</td>\n",
       "      <td>39952.492188</td>\n",
       "      <td>39616.539062</td>\n",
       "      <td>0.0</td>\n",
       "      <td>1293.0</td>\n",
       "      <td>173</td>\n",
       "      <td>-139.738288</td>\n",
       "      <td>-11.833260</td>\n",
       "      <td>14.382812</td>\n",
       "      <td>335.953125</td>\n",
       "      <td>-1293.0</td>\n",
       "    </tr>\n",
       "    <tr>\n",
       "      <th>3</th>\n",
       "      <td>467.052954</td>\n",
       "      <td>81.437836</td>\n",
       "      <td>253.453021</td>\n",
       "      <td>-8.417969</td>\n",
       "      <td>44836.421875</td>\n",
       "      <td>44784.171875</td>\n",
       "      <td>74875.406250</td>\n",
       "      <td>75021.984375</td>\n",
       "      <td>0.0</td>\n",
       "      <td>1293.0</td>\n",
       "      <td>210</td>\n",
       "      <td>385.615118</td>\n",
       "      <td>261.870990</td>\n",
       "      <td>52.250000</td>\n",
       "      <td>-146.578125</td>\n",
       "      <td>-1293.0</td>\n",
       "    </tr>\n",
       "    <tr>\n",
       "      <th>4</th>\n",
       "      <td>-390.738074</td>\n",
       "      <td>-185.123163</td>\n",
       "      <td>-293.173802</td>\n",
       "      <td>25.434291</td>\n",
       "      <td>61861.617188</td>\n",
       "      <td>61895.531250</td>\n",
       "      <td>28830.445312</td>\n",
       "      <td>28622.546875</td>\n",
       "      <td>0.0</td>\n",
       "      <td>1293.0</td>\n",
       "      <td>328</td>\n",
       "      <td>-205.614911</td>\n",
       "      <td>-318.608093</td>\n",
       "      <td>-33.914062</td>\n",
       "      <td>207.898438</td>\n",
       "      <td>-1293.0</td>\n",
       "    </tr>\n",
       "  </tbody>\n",
       "</table>\n",
       "</div>"
      ],
      "text/plain": [
       "           TX     TX_pair          TY     TY_pair             X        X_pair  \\\n",
       "0 -186.590284 -222.138174   62.864187   91.196664  53888.816406  53427.371094   \n",
       "1   37.303626    8.345815  705.521989  511.956824  56558.695312  57182.859375   \n",
       "2  318.728354  458.466642 -182.477507 -170.644247  57326.871094  57312.488281   \n",
       "3  467.052954   81.437836  253.453021   -8.417969  44836.421875  44784.171875   \n",
       "4 -390.738074 -185.123163 -293.173802   25.434291  61861.617188  61895.531250   \n",
       "\n",
       "              Y        Y_pair    Z  Z_pair   id         dTX         dTY  \\\n",
       "0  15242.111328  15439.837891  0.0  1293.0   18   35.547890  -28.332477   \n",
       "1  37230.140625  37211.097656  0.0  1293.0   47   28.957811  193.565165   \n",
       "2  39952.492188  39616.539062  0.0  1293.0  173 -139.738288  -11.833260   \n",
       "3  74875.406250  75021.984375  0.0  1293.0  210  385.615118  261.870990   \n",
       "4  28830.445312  28622.546875  0.0  1293.0  328 -205.614911 -318.608093   \n",
       "\n",
       "           dX          dY      dZ  \n",
       "0  461.445312 -197.726562 -1293.0  \n",
       "1 -624.164062   19.042969 -1293.0  \n",
       "2   14.382812  335.953125 -1293.0  \n",
       "3   52.250000 -146.578125 -1293.0  \n",
       "4  -33.914062  207.898438 -1293.0  "
      ]
     },
     "execution_count": 132,
     "metadata": {},
     "output_type": "execute_result"
    }
   ],
   "source": [
    "X_test = test_pairs.drop(['data_ind'], axis=1).reset_index(drop=True)\n",
    "X_test.head()"
   ]
  },
  {
   "cell_type": "code",
   "execution_count": 133,
   "metadata": {},
   "outputs": [],
   "source": [
    "raw = pd.DataFrame(\n",
    "    {'id': test_pairs.index, 'prob': bst.predict(X_test)}\n",
    ").groupby('id').aggregate('mean')['prob']"
   ]
  },
  {
   "cell_type": "code",
   "execution_count": 134,
   "metadata": {},
   "outputs": [],
   "source": [
    "class_0 = 1 - raw.astype('float16')"
   ]
  },
  {
   "cell_type": "code",
   "execution_count": 135,
   "metadata": {},
   "outputs": [
    {
     "data": {
      "text/html": [
       "<div>\n",
       "<style scoped>\n",
       "    .dataframe tbody tr th:only-of-type {\n",
       "        vertical-align: middle;\n",
       "    }\n",
       "\n",
       "    .dataframe tbody tr th {\n",
       "        vertical-align: top;\n",
       "    }\n",
       "\n",
       "    .dataframe thead th {\n",
       "        text-align: right;\n",
       "    }\n",
       "</style>\n",
       "<table border=\"1\" class=\"dataframe\">\n",
       "  <thead>\n",
       "    <tr style=\"text-align: right;\">\n",
       "      <th></th>\n",
       "      <th>id</th>\n",
       "      <th>class_0</th>\n",
       "    </tr>\n",
       "    <tr>\n",
       "      <th>id</th>\n",
       "      <th></th>\n",
       "      <th></th>\n",
       "    </tr>\n",
       "  </thead>\n",
       "  <tbody>\n",
       "    <tr>\n",
       "      <th>0</th>\n",
       "      <td>0</td>\n",
       "      <td>0.386719</td>\n",
       "    </tr>\n",
       "    <tr>\n",
       "      <th>1</th>\n",
       "      <td>1</td>\n",
       "      <td>0.451172</td>\n",
       "    </tr>\n",
       "    <tr>\n",
       "      <th>2</th>\n",
       "      <td>2</td>\n",
       "      <td>0.457520</td>\n",
       "    </tr>\n",
       "    <tr>\n",
       "      <th>3</th>\n",
       "      <td>3</td>\n",
       "      <td>0.400391</td>\n",
       "    </tr>\n",
       "    <tr>\n",
       "      <th>4</th>\n",
       "      <td>4</td>\n",
       "      <td>0.534668</td>\n",
       "    </tr>\n",
       "  </tbody>\n",
       "</table>\n",
       "</div>"
      ],
      "text/plain": [
       "    id   class_0\n",
       "id              \n",
       "0    0  0.386719\n",
       "1    1  0.451172\n",
       "2    2  0.457520\n",
       "3    3  0.400391\n",
       "4    4  0.534668"
      ]
     },
     "execution_count": 135,
     "metadata": {},
     "output_type": "execute_result"
    }
   ],
   "source": [
    "ans = pd.DataFrame(data={'id': raw.index, 'class_0': class_0})\n",
    "ans.head()"
   ]
  },
  {
   "cell_type": "code",
   "execution_count": 136,
   "metadata": {},
   "outputs": [],
   "source": [
    "classes = [f'class_{i}' for i in range(1, 50)]"
   ]
  },
  {
   "cell_type": "code",
   "execution_count": null,
   "metadata": {},
   "outputs": [],
   "source": [
    "ans_prob = pd.DataFrame(data=probs, columns=classes)"
   ]
  },
  {
   "cell_type": "code",
   "execution_count": null,
   "metadata": {},
   "outputs": [],
   "source": [
    "answer = pd.concat([ans, ans_prob], axis=1, sort=False)"
   ]
  },
  {
   "cell_type": "code",
   "execution_count": 471,
   "metadata": {},
   "outputs": [],
   "source": [
    "for col in classes:\n",
    "    answer[col] = answer[col].astype('float16')"
   ]
  },
  {
   "cell_type": "code",
   "execution_count": 424,
   "metadata": {},
   "outputs": [
    {
     "data": {
      "text/plain": [
       "(2958072, 51)"
      ]
     },
     "execution_count": 424,
     "metadata": {},
     "output_type": "execute_result"
    }
   ],
   "source": [
    "answer.shape"
   ]
  },
  {
   "cell_type": "code",
   "execution_count": 473,
   "metadata": {},
   "outputs": [
    {
     "data": {
      "text/html": [
       "<div>\n",
       "<style scoped>\n",
       "    .dataframe tbody tr th:only-of-type {\n",
       "        vertical-align: middle;\n",
       "    }\n",
       "\n",
       "    .dataframe tbody tr th {\n",
       "        vertical-align: top;\n",
       "    }\n",
       "\n",
       "    .dataframe thead th {\n",
       "        text-align: right;\n",
       "    }\n",
       "</style>\n",
       "<table border=\"1\" class=\"dataframe\">\n",
       "  <thead>\n",
       "    <tr style=\"text-align: right;\">\n",
       "      <th></th>\n",
       "      <th>id</th>\n",
       "      <th>class_0</th>\n",
       "      <th>class_1</th>\n",
       "      <th>class_2</th>\n",
       "      <th>class_3</th>\n",
       "      <th>class_4</th>\n",
       "      <th>class_5</th>\n",
       "      <th>class_6</th>\n",
       "      <th>class_7</th>\n",
       "      <th>class_8</th>\n",
       "      <th>...</th>\n",
       "      <th>class_40</th>\n",
       "      <th>class_41</th>\n",
       "      <th>class_42</th>\n",
       "      <th>class_43</th>\n",
       "      <th>class_44</th>\n",
       "      <th>class_45</th>\n",
       "      <th>class_46</th>\n",
       "      <th>class_47</th>\n",
       "      <th>class_48</th>\n",
       "      <th>class_49</th>\n",
       "    </tr>\n",
       "    <tr>\n",
       "      <th>id</th>\n",
       "      <th></th>\n",
       "      <th></th>\n",
       "      <th></th>\n",
       "      <th></th>\n",
       "      <th></th>\n",
       "      <th></th>\n",
       "      <th></th>\n",
       "      <th></th>\n",
       "      <th></th>\n",
       "      <th></th>\n",
       "      <th></th>\n",
       "      <th></th>\n",
       "      <th></th>\n",
       "      <th></th>\n",
       "      <th></th>\n",
       "      <th></th>\n",
       "      <th></th>\n",
       "      <th></th>\n",
       "      <th></th>\n",
       "      <th></th>\n",
       "      <th></th>\n",
       "    </tr>\n",
       "  </thead>\n",
       "  <tbody>\n",
       "    <tr>\n",
       "      <th>0</th>\n",
       "      <td>0</td>\n",
       "      <td>0.334961</td>\n",
       "      <td>0.009712</td>\n",
       "      <td>0.009727</td>\n",
       "      <td>0.009720</td>\n",
       "      <td>0.009727</td>\n",
       "      <td>0.009666</td>\n",
       "      <td>0.009659</td>\n",
       "      <td>0.009773</td>\n",
       "      <td>0.009628</td>\n",
       "      <td>...</td>\n",
       "      <td>0.009521</td>\n",
       "      <td>0.009521</td>\n",
       "      <td>0.009521</td>\n",
       "      <td>0.009514</td>\n",
       "      <td>0.009537</td>\n",
       "      <td>0.009636</td>\n",
       "      <td>0.009605</td>\n",
       "      <td>0.009613</td>\n",
       "      <td>0.009598</td>\n",
       "      <td>0.009506</td>\n",
       "    </tr>\n",
       "    <tr>\n",
       "      <th>1</th>\n",
       "      <td>1</td>\n",
       "      <td>0.400879</td>\n",
       "      <td>0.009399</td>\n",
       "      <td>0.009346</td>\n",
       "      <td>0.009377</td>\n",
       "      <td>0.009338</td>\n",
       "      <td>0.009422</td>\n",
       "      <td>0.009377</td>\n",
       "      <td>0.009308</td>\n",
       "      <td>0.009460</td>\n",
       "      <td>...</td>\n",
       "      <td>0.009369</td>\n",
       "      <td>0.009422</td>\n",
       "      <td>0.009476</td>\n",
       "      <td>0.009415</td>\n",
       "      <td>0.009369</td>\n",
       "      <td>0.009186</td>\n",
       "      <td>0.009209</td>\n",
       "      <td>0.009216</td>\n",
       "      <td>0.009239</td>\n",
       "      <td>0.009392</td>\n",
       "    </tr>\n",
       "    <tr>\n",
       "      <th>2</th>\n",
       "      <td>2</td>\n",
       "      <td>0.395508</td>\n",
       "      <td>0.009392</td>\n",
       "      <td>0.009415</td>\n",
       "      <td>0.009361</td>\n",
       "      <td>0.009369</td>\n",
       "      <td>0.009377</td>\n",
       "      <td>0.009476</td>\n",
       "      <td>0.009346</td>\n",
       "      <td>0.009468</td>\n",
       "      <td>...</td>\n",
       "      <td>0.009415</td>\n",
       "      <td>0.009377</td>\n",
       "      <td>0.009338</td>\n",
       "      <td>0.009399</td>\n",
       "      <td>0.009300</td>\n",
       "      <td>0.009293</td>\n",
       "      <td>0.009270</td>\n",
       "      <td>0.009254</td>\n",
       "      <td>0.009247</td>\n",
       "      <td>0.009377</td>\n",
       "    </tr>\n",
       "    <tr>\n",
       "      <th>3</th>\n",
       "      <td>3</td>\n",
       "      <td>0.576172</td>\n",
       "      <td>0.008667</td>\n",
       "      <td>0.008644</td>\n",
       "      <td>0.008667</td>\n",
       "      <td>0.008636</td>\n",
       "      <td>0.008667</td>\n",
       "      <td>0.008644</td>\n",
       "      <td>0.008659</td>\n",
       "      <td>0.008667</td>\n",
       "      <td>...</td>\n",
       "      <td>0.008614</td>\n",
       "      <td>0.008621</td>\n",
       "      <td>0.008652</td>\n",
       "      <td>0.008621</td>\n",
       "      <td>0.008598</td>\n",
       "      <td>0.008583</td>\n",
       "      <td>0.008568</td>\n",
       "      <td>0.008575</td>\n",
       "      <td>0.008583</td>\n",
       "      <td>0.008606</td>\n",
       "    </tr>\n",
       "    <tr>\n",
       "      <th>4</th>\n",
       "      <td>4</td>\n",
       "      <td>0.505371</td>\n",
       "      <td>0.008980</td>\n",
       "      <td>0.008911</td>\n",
       "      <td>0.008965</td>\n",
       "      <td>0.008926</td>\n",
       "      <td>0.009003</td>\n",
       "      <td>0.008926</td>\n",
       "      <td>0.008904</td>\n",
       "      <td>0.008995</td>\n",
       "      <td>...</td>\n",
       "      <td>0.008896</td>\n",
       "      <td>0.008942</td>\n",
       "      <td>0.009010</td>\n",
       "      <td>0.008934</td>\n",
       "      <td>0.008926</td>\n",
       "      <td>0.008781</td>\n",
       "      <td>0.008797</td>\n",
       "      <td>0.008812</td>\n",
       "      <td>0.008835</td>\n",
       "      <td>0.008911</td>\n",
       "    </tr>\n",
       "  </tbody>\n",
       "</table>\n",
       "<p>5 rows × 51 columns</p>\n",
       "</div>"
      ],
      "text/plain": [
       "    id   class_0   class_1   class_2   class_3   class_4   class_5   class_6  \\\n",
       "id                                                                             \n",
       "0    0  0.334961  0.009712  0.009727  0.009720  0.009727  0.009666  0.009659   \n",
       "1    1  0.400879  0.009399  0.009346  0.009377  0.009338  0.009422  0.009377   \n",
       "2    2  0.395508  0.009392  0.009415  0.009361  0.009369  0.009377  0.009476   \n",
       "3    3  0.576172  0.008667  0.008644  0.008667  0.008636  0.008667  0.008644   \n",
       "4    4  0.505371  0.008980  0.008911  0.008965  0.008926  0.009003  0.008926   \n",
       "\n",
       "     class_7   class_8    ...     class_40  class_41  class_42  class_43  \\\n",
       "id                        ...                                              \n",
       "0   0.009773  0.009628    ...     0.009521  0.009521  0.009521  0.009514   \n",
       "1   0.009308  0.009460    ...     0.009369  0.009422  0.009476  0.009415   \n",
       "2   0.009346  0.009468    ...     0.009415  0.009377  0.009338  0.009399   \n",
       "3   0.008659  0.008667    ...     0.008614  0.008621  0.008652  0.008621   \n",
       "4   0.008904  0.008995    ...     0.008896  0.008942  0.009010  0.008934   \n",
       "\n",
       "    class_44  class_45  class_46  class_47  class_48  class_49  \n",
       "id                                                              \n",
       "0   0.009537  0.009636  0.009605  0.009613  0.009598  0.009506  \n",
       "1   0.009369  0.009186  0.009209  0.009216  0.009239  0.009392  \n",
       "2   0.009300  0.009293  0.009270  0.009254  0.009247  0.009377  \n",
       "3   0.008598  0.008583  0.008568  0.008575  0.008583  0.008606  \n",
       "4   0.008926  0.008781  0.008797  0.008812  0.008835  0.008911  \n",
       "\n",
       "[5 rows x 51 columns]"
      ]
     },
     "execution_count": 473,
     "metadata": {},
     "output_type": "execute_result"
    }
   ],
   "source": [
    "answer.head()"
   ]
  },
  {
   "cell_type": "code",
   "execution_count": 472,
   "metadata": {},
   "outputs": [],
   "source": [
    "answer.to_csv('data/submit20pn.csv', index=False)"
   ]
  },
  {
   "cell_type": "code",
   "execution_count": 49,
   "metadata": {
    "scrolled": true
   },
   "outputs": [
    {
     "data": {
      "text/html": [
       "<div>\n",
       "<style scoped>\n",
       "    .dataframe tbody tr th:only-of-type {\n",
       "        vertical-align: middle;\n",
       "    }\n",
       "\n",
       "    .dataframe tbody tr th {\n",
       "        vertical-align: top;\n",
       "    }\n",
       "\n",
       "    .dataframe thead th {\n",
       "        text-align: right;\n",
       "    }\n",
       "</style>\n",
       "<table border=\"1\" class=\"dataframe\">\n",
       "  <thead>\n",
       "    <tr style=\"text-align: right;\">\n",
       "      <th></th>\n",
       "      <th>id</th>\n",
       "      <th>class_0</th>\n",
       "      <th>class_1</th>\n",
       "      <th>class_2</th>\n",
       "      <th>class_3</th>\n",
       "      <th>class_4</th>\n",
       "      <th>class_5</th>\n",
       "      <th>class_6</th>\n",
       "      <th>class_7</th>\n",
       "      <th>class_8</th>\n",
       "      <th>...</th>\n",
       "      <th>class_40</th>\n",
       "      <th>class_41</th>\n",
       "      <th>class_42</th>\n",
       "      <th>class_43</th>\n",
       "      <th>class_44</th>\n",
       "      <th>class_45</th>\n",
       "      <th>class_46</th>\n",
       "      <th>class_47</th>\n",
       "      <th>class_48</th>\n",
       "      <th>class_49</th>\n",
       "    </tr>\n",
       "    <tr>\n",
       "      <th>id</th>\n",
       "      <th></th>\n",
       "      <th></th>\n",
       "      <th></th>\n",
       "      <th></th>\n",
       "      <th></th>\n",
       "      <th></th>\n",
       "      <th></th>\n",
       "      <th></th>\n",
       "      <th></th>\n",
       "      <th></th>\n",
       "      <th></th>\n",
       "      <th></th>\n",
       "      <th></th>\n",
       "      <th></th>\n",
       "      <th></th>\n",
       "      <th></th>\n",
       "      <th></th>\n",
       "      <th></th>\n",
       "      <th></th>\n",
       "      <th></th>\n",
       "      <th></th>\n",
       "    </tr>\n",
       "  </thead>\n",
       "  <tbody>\n",
       "    <tr>\n",
       "      <th>0</th>\n",
       "      <td>0</td>\n",
       "      <td>0.437012</td>\n",
       "      <td>0.006397</td>\n",
       "      <td>0.006397</td>\n",
       "      <td>0.006397</td>\n",
       "      <td>0.006397</td>\n",
       "      <td>0.006397</td>\n",
       "      <td>0.006397</td>\n",
       "      <td>0.006397</td>\n",
       "      <td>0.006397</td>\n",
       "      <td>...</td>\n",
       "      <td>0.006397</td>\n",
       "      <td>0.006397</td>\n",
       "      <td>0.006397</td>\n",
       "      <td>0.006397</td>\n",
       "      <td>0.006397</td>\n",
       "      <td>0.006397</td>\n",
       "      <td>0.006397</td>\n",
       "      <td>0.006397</td>\n",
       "      <td>0.006397</td>\n",
       "      <td>0.006397</td>\n",
       "    </tr>\n",
       "    <tr>\n",
       "      <th>1</th>\n",
       "      <td>1</td>\n",
       "      <td>0.555176</td>\n",
       "      <td>0.005054</td>\n",
       "      <td>0.005054</td>\n",
       "      <td>0.005054</td>\n",
       "      <td>0.005054</td>\n",
       "      <td>0.005054</td>\n",
       "      <td>0.005054</td>\n",
       "      <td>0.005054</td>\n",
       "      <td>0.005054</td>\n",
       "      <td>...</td>\n",
       "      <td>0.005054</td>\n",
       "      <td>0.005054</td>\n",
       "      <td>0.005054</td>\n",
       "      <td>0.005054</td>\n",
       "      <td>0.005054</td>\n",
       "      <td>0.005054</td>\n",
       "      <td>0.005054</td>\n",
       "      <td>0.005054</td>\n",
       "      <td>0.005054</td>\n",
       "      <td>0.005054</td>\n",
       "    </tr>\n",
       "    <tr>\n",
       "      <th>2</th>\n",
       "      <td>2</td>\n",
       "      <td>0.493652</td>\n",
       "      <td>0.005959</td>\n",
       "      <td>0.005959</td>\n",
       "      <td>0.005959</td>\n",
       "      <td>0.005959</td>\n",
       "      <td>0.005959</td>\n",
       "      <td>0.005959</td>\n",
       "      <td>0.005959</td>\n",
       "      <td>0.005959</td>\n",
       "      <td>...</td>\n",
       "      <td>0.005959</td>\n",
       "      <td>0.005959</td>\n",
       "      <td>0.005959</td>\n",
       "      <td>0.005959</td>\n",
       "      <td>0.005959</td>\n",
       "      <td>0.005959</td>\n",
       "      <td>0.005959</td>\n",
       "      <td>0.005959</td>\n",
       "      <td>0.005959</td>\n",
       "      <td>0.005959</td>\n",
       "    </tr>\n",
       "    <tr>\n",
       "      <th>3</th>\n",
       "      <td>3</td>\n",
       "      <td>0.439453</td>\n",
       "      <td>0.006596</td>\n",
       "      <td>0.006596</td>\n",
       "      <td>0.006596</td>\n",
       "      <td>0.006596</td>\n",
       "      <td>0.006596</td>\n",
       "      <td>0.006596</td>\n",
       "      <td>0.006596</td>\n",
       "      <td>0.006596</td>\n",
       "      <td>...</td>\n",
       "      <td>0.006596</td>\n",
       "      <td>0.006596</td>\n",
       "      <td>0.006596</td>\n",
       "      <td>0.006596</td>\n",
       "      <td>0.006596</td>\n",
       "      <td>0.006596</td>\n",
       "      <td>0.006596</td>\n",
       "      <td>0.006596</td>\n",
       "      <td>0.006596</td>\n",
       "      <td>0.006596</td>\n",
       "    </tr>\n",
       "    <tr>\n",
       "      <th>4</th>\n",
       "      <td>4</td>\n",
       "      <td>0.711914</td>\n",
       "      <td>0.003389</td>\n",
       "      <td>0.003389</td>\n",
       "      <td>0.003389</td>\n",
       "      <td>0.003389</td>\n",
       "      <td>0.003389</td>\n",
       "      <td>0.003389</td>\n",
       "      <td>0.003389</td>\n",
       "      <td>0.003389</td>\n",
       "      <td>...</td>\n",
       "      <td>0.003389</td>\n",
       "      <td>0.003389</td>\n",
       "      <td>0.003389</td>\n",
       "      <td>0.003389</td>\n",
       "      <td>0.003389</td>\n",
       "      <td>0.003389</td>\n",
       "      <td>0.003389</td>\n",
       "      <td>0.003389</td>\n",
       "      <td>0.003389</td>\n",
       "      <td>0.003389</td>\n",
       "    </tr>\n",
       "  </tbody>\n",
       "</table>\n",
       "<p>5 rows × 51 columns</p>\n",
       "</div>"
      ],
      "text/plain": [
       "    id   class_0   class_1   class_2   class_3   class_4   class_5   class_6  \\\n",
       "id                                                                             \n",
       "0    0  0.437012  0.006397  0.006397  0.006397  0.006397  0.006397  0.006397   \n",
       "1    1  0.555176  0.005054  0.005054  0.005054  0.005054  0.005054  0.005054   \n",
       "2    2  0.493652  0.005959  0.005959  0.005959  0.005959  0.005959  0.005959   \n",
       "3    3  0.439453  0.006596  0.006596  0.006596  0.006596  0.006596  0.006596   \n",
       "4    4  0.711914  0.003389  0.003389  0.003389  0.003389  0.003389  0.003389   \n",
       "\n",
       "     class_7   class_8    ...     class_40  class_41  class_42  class_43  \\\n",
       "id                        ...                                              \n",
       "0   0.006397  0.006397    ...     0.006397  0.006397  0.006397  0.006397   \n",
       "1   0.005054  0.005054    ...     0.005054  0.005054  0.005054  0.005054   \n",
       "2   0.005959  0.005959    ...     0.005959  0.005959  0.005959  0.005959   \n",
       "3   0.006596  0.006596    ...     0.006596  0.006596  0.006596  0.006596   \n",
       "4   0.003389  0.003389    ...     0.003389  0.003389  0.003389  0.003389   \n",
       "\n",
       "    class_44  class_45  class_46  class_47  class_48  class_49  \n",
       "id                                                              \n",
       "0   0.006397  0.006397  0.006397  0.006397  0.006397  0.006397  \n",
       "1   0.005054  0.005054  0.005054  0.005054  0.005054  0.005054  \n",
       "2   0.005959  0.005959  0.005959  0.005959  0.005959  0.005959  \n",
       "3   0.006596  0.006596  0.006596  0.006596  0.006596  0.006596  \n",
       "4   0.003389  0.003389  0.003389  0.003389  0.003389  0.003389  \n",
       "\n",
       "[5 rows x 51 columns]"
      ]
     },
     "execution_count": 49,
     "metadata": {},
     "output_type": "execute_result"
    }
   ],
   "source": [
    "answer.head()"
   ]
  },
  {
   "cell_type": "code",
   "execution_count": 138,
   "metadata": {
    "scrolled": false
   },
   "outputs": [
    {
     "name": "stderr",
     "output_type": "stream",
     "text": [
      "100%|██████████| 49/49 [00:04<00:00, 10.40it/s]\n"
     ]
    }
   ],
   "source": [
    "for col in tqdm(classes):\n",
    "    answer[col] = (1 - class_0) / 88"
   ]
  },
  {
   "cell_type": "code",
   "execution_count": 168,
   "metadata": {},
   "outputs": [],
   "source": [
    "cls = (1 - class_0[:1505447]) / 88"
   ]
  },
  {
   "cell_type": "code",
   "execution_count": 181,
   "metadata": {},
   "outputs": [
    {
     "name": "stderr",
     "output_type": "stream",
     "text": [
      "100%|██████████| 49/49 [00:02<00:00, 18.88it/s]\n"
     ]
    }
   ],
   "source": [
    "for col in tqdm(classes):\n",
    "    answer[col] = cls"
   ]
  },
  {
   "cell_type": "code",
   "execution_count": 174,
   "metadata": {},
   "outputs": [],
   "source": [
    "cls = (1 - class_0[1505447:]) / 85"
   ]
  },
  {
   "cell_type": "code",
   "execution_count": 181,
   "metadata": {},
   "outputs": [
    {
     "name": "stderr",
     "output_type": "stream",
     "text": [
      "100%|██████████| 49/49 [00:02<00:00, 18.88it/s]\n"
     ]
    }
   ],
   "source": [
    "for col in tqdm(classes):\n",
    "    answer.loc[1505447:, col] = cls"
   ]
  },
  {
   "cell_type": "code",
   "execution_count": 470,
   "metadata": {},
   "outputs": [],
   "source": [
    "for i in range(len(answer)):\n",
    "    track_num = 88 if i < 1505447 else 85\n",
    "    num = class_0[i] / track_num\n",
    "    answer.iloc[i, 2:] = [num] * 49"
   ]
  },
  {
   "cell_type": "code",
   "execution_count": 189,
   "metadata": {},
   "outputs": [
    {
     "data": {
      "text/html": [
       "<div>\n",
       "<style scoped>\n",
       "    .dataframe tbody tr th:only-of-type {\n",
       "        vertical-align: middle;\n",
       "    }\n",
       "\n",
       "    .dataframe tbody tr th {\n",
       "        vertical-align: top;\n",
       "    }\n",
       "\n",
       "    .dataframe thead th {\n",
       "        text-align: right;\n",
       "    }\n",
       "</style>\n",
       "<table border=\"1\" class=\"dataframe\">\n",
       "  <thead>\n",
       "    <tr style=\"text-align: right;\">\n",
       "      <th></th>\n",
       "      <th>id</th>\n",
       "      <th>class_0</th>\n",
       "      <th>class_1</th>\n",
       "      <th>class_2</th>\n",
       "      <th>class_3</th>\n",
       "      <th>class_4</th>\n",
       "      <th>class_5</th>\n",
       "      <th>class_6</th>\n",
       "      <th>class_7</th>\n",
       "      <th>class_8</th>\n",
       "      <th>...</th>\n",
       "      <th>class_40</th>\n",
       "      <th>class_41</th>\n",
       "      <th>class_42</th>\n",
       "      <th>class_43</th>\n",
       "      <th>class_44</th>\n",
       "      <th>class_45</th>\n",
       "      <th>class_46</th>\n",
       "      <th>class_47</th>\n",
       "      <th>class_48</th>\n",
       "      <th>class_49</th>\n",
       "    </tr>\n",
       "    <tr>\n",
       "      <th>id</th>\n",
       "      <th></th>\n",
       "      <th></th>\n",
       "      <th></th>\n",
       "      <th></th>\n",
       "      <th></th>\n",
       "      <th></th>\n",
       "      <th></th>\n",
       "      <th></th>\n",
       "      <th></th>\n",
       "      <th></th>\n",
       "      <th></th>\n",
       "      <th></th>\n",
       "      <th></th>\n",
       "      <th></th>\n",
       "      <th></th>\n",
       "      <th></th>\n",
       "      <th></th>\n",
       "      <th></th>\n",
       "      <th></th>\n",
       "      <th></th>\n",
       "      <th></th>\n",
       "    </tr>\n",
       "  </thead>\n",
       "  <tbody>\n",
       "    <tr>\n",
       "      <th>0</th>\n",
       "      <td>0</td>\n",
       "      <td>0.386719</td>\n",
       "      <td>0.006969</td>\n",
       "      <td>0.006969</td>\n",
       "      <td>0.006969</td>\n",
       "      <td>0.006969</td>\n",
       "      <td>0.006969</td>\n",
       "      <td>0.006969</td>\n",
       "      <td>0.006969</td>\n",
       "      <td>0.006969</td>\n",
       "      <td>...</td>\n",
       "      <td>0.006969</td>\n",
       "      <td>0.006969</td>\n",
       "      <td>0.006969</td>\n",
       "      <td>0.006969</td>\n",
       "      <td>0.006969</td>\n",
       "      <td>0.006969</td>\n",
       "      <td>0.006969</td>\n",
       "      <td>0.006969</td>\n",
       "      <td>0.006969</td>\n",
       "      <td>0.006969</td>\n",
       "    </tr>\n",
       "    <tr>\n",
       "      <th>1</th>\n",
       "      <td>1</td>\n",
       "      <td>0.451172</td>\n",
       "      <td>0.006237</td>\n",
       "      <td>0.006237</td>\n",
       "      <td>0.006237</td>\n",
       "      <td>0.006237</td>\n",
       "      <td>0.006237</td>\n",
       "      <td>0.006237</td>\n",
       "      <td>0.006237</td>\n",
       "      <td>0.006237</td>\n",
       "      <td>...</td>\n",
       "      <td>0.006237</td>\n",
       "      <td>0.006237</td>\n",
       "      <td>0.006237</td>\n",
       "      <td>0.006237</td>\n",
       "      <td>0.006237</td>\n",
       "      <td>0.006237</td>\n",
       "      <td>0.006237</td>\n",
       "      <td>0.006237</td>\n",
       "      <td>0.006237</td>\n",
       "      <td>0.006237</td>\n",
       "    </tr>\n",
       "    <tr>\n",
       "      <th>2</th>\n",
       "      <td>2</td>\n",
       "      <td>0.457520</td>\n",
       "      <td>0.006165</td>\n",
       "      <td>0.006165</td>\n",
       "      <td>0.006165</td>\n",
       "      <td>0.006165</td>\n",
       "      <td>0.006165</td>\n",
       "      <td>0.006165</td>\n",
       "      <td>0.006165</td>\n",
       "      <td>0.006165</td>\n",
       "      <td>...</td>\n",
       "      <td>0.006165</td>\n",
       "      <td>0.006165</td>\n",
       "      <td>0.006165</td>\n",
       "      <td>0.006165</td>\n",
       "      <td>0.006165</td>\n",
       "      <td>0.006165</td>\n",
       "      <td>0.006165</td>\n",
       "      <td>0.006165</td>\n",
       "      <td>0.006165</td>\n",
       "      <td>0.006165</td>\n",
       "    </tr>\n",
       "    <tr>\n",
       "      <th>3</th>\n",
       "      <td>3</td>\n",
       "      <td>0.400391</td>\n",
       "      <td>0.006813</td>\n",
       "      <td>0.006813</td>\n",
       "      <td>0.006813</td>\n",
       "      <td>0.006813</td>\n",
       "      <td>0.006813</td>\n",
       "      <td>0.006813</td>\n",
       "      <td>0.006813</td>\n",
       "      <td>0.006813</td>\n",
       "      <td>...</td>\n",
       "      <td>0.006813</td>\n",
       "      <td>0.006813</td>\n",
       "      <td>0.006813</td>\n",
       "      <td>0.006813</td>\n",
       "      <td>0.006813</td>\n",
       "      <td>0.006813</td>\n",
       "      <td>0.006813</td>\n",
       "      <td>0.006813</td>\n",
       "      <td>0.006813</td>\n",
       "      <td>0.006813</td>\n",
       "    </tr>\n",
       "    <tr>\n",
       "      <th>4</th>\n",
       "      <td>4</td>\n",
       "      <td>0.534668</td>\n",
       "      <td>0.005287</td>\n",
       "      <td>0.005287</td>\n",
       "      <td>0.005287</td>\n",
       "      <td>0.005287</td>\n",
       "      <td>0.005287</td>\n",
       "      <td>0.005287</td>\n",
       "      <td>0.005287</td>\n",
       "      <td>0.005287</td>\n",
       "      <td>...</td>\n",
       "      <td>0.005287</td>\n",
       "      <td>0.005287</td>\n",
       "      <td>0.005287</td>\n",
       "      <td>0.005287</td>\n",
       "      <td>0.005287</td>\n",
       "      <td>0.005287</td>\n",
       "      <td>0.005287</td>\n",
       "      <td>0.005287</td>\n",
       "      <td>0.005287</td>\n",
       "      <td>0.005287</td>\n",
       "    </tr>\n",
       "  </tbody>\n",
       "</table>\n",
       "<p>5 rows × 51 columns</p>\n",
       "</div>"
      ],
      "text/plain": [
       "    id   class_0   class_1   class_2   class_3   class_4   class_5   class_6  \\\n",
       "id                                                                             \n",
       "0    0  0.386719  0.006969  0.006969  0.006969  0.006969  0.006969  0.006969   \n",
       "1    1  0.451172  0.006237  0.006237  0.006237  0.006237  0.006237  0.006237   \n",
       "2    2  0.457520  0.006165  0.006165  0.006165  0.006165  0.006165  0.006165   \n",
       "3    3  0.400391  0.006813  0.006813  0.006813  0.006813  0.006813  0.006813   \n",
       "4    4  0.534668  0.005287  0.005287  0.005287  0.005287  0.005287  0.005287   \n",
       "\n",
       "     class_7   class_8    ...     class_40  class_41  class_42  class_43  \\\n",
       "id                        ...                                              \n",
       "0   0.006969  0.006969    ...     0.006969  0.006969  0.006969  0.006969   \n",
       "1   0.006237  0.006237    ...     0.006237  0.006237  0.006237  0.006237   \n",
       "2   0.006165  0.006165    ...     0.006165  0.006165  0.006165  0.006165   \n",
       "3   0.006813  0.006813    ...     0.006813  0.006813  0.006813  0.006813   \n",
       "4   0.005287  0.005287    ...     0.005287  0.005287  0.005287  0.005287   \n",
       "\n",
       "    class_44  class_45  class_46  class_47  class_48  class_49  \n",
       "id                                                              \n",
       "0   0.006969  0.006969  0.006969  0.006969  0.006969  0.006969  \n",
       "1   0.006237  0.006237  0.006237  0.006237  0.006237  0.006237  \n",
       "2   0.006165  0.006165  0.006165  0.006165  0.006165  0.006165  \n",
       "3   0.006813  0.006813  0.006813  0.006813  0.006813  0.006813  \n",
       "4   0.005287  0.005287  0.005287  0.005287  0.005287  0.005287  \n",
       "\n",
       "[5 rows x 51 columns]"
      ]
     },
     "execution_count": 189,
     "metadata": {},
     "output_type": "execute_result"
    }
   ],
   "source": [
    "answer.head()"
   ]
  },
  {
   "cell_type": "code",
   "execution_count": 200,
   "metadata": {},
   "outputs": [],
   "source": [
    "answers = answer.values\n",
    "for row_id in range(len(answers)):\n",
    "    for i in range(num_test_data_ind):\n",
    "        for pair_id in range(49):\n",
    "            if answers[row_id][0] == dst[i][pair_id][0]:\n",
    "                answers[row_id][2:] = [0] * 49\n",
    "                answers[row_id][2 + pair_id] = 1"
   ]
  },
  {
   "cell_type": "code",
   "execution_count": 206,
   "metadata": {},
   "outputs": [],
   "source": [
    "answer = pd.DataFrame(data=answers, columns=['id', 'class_0']+classes)"
   ]
  },
  {
   "cell_type": "code",
   "execution_count": 209,
   "metadata": {},
   "outputs": [],
   "source": [
    "answer.id = answerr.id.astype(int)"
   ]
  },
  {
   "cell_type": "code",
   "execution_count": 188,
   "metadata": {},
   "outputs": [],
   "source": [
    "answer.to_csv('data/submit30.csv', index=False)"
   ]
  },
  {
   "cell_type": "code",
   "execution_count": 257,
   "metadata": {},
   "outputs": [
    {
     "data": {
      "text/plain": [
       "415592"
      ]
     },
     "execution_count": 257,
     "metadata": {},
     "output_type": "execute_result"
    }
   ],
   "source": [
    "#80 \n",
    "sum(answer.class_0 < 0.5)"
   ]
  },
  {
   "cell_type": "code",
   "execution_count": 226,
   "metadata": {},
   "outputs": [
    {
     "data": {
      "text/plain": [
       "482095"
      ]
     },
     "execution_count": 226,
     "metadata": {},
     "output_type": "execute_result"
    }
   ],
   "source": [
    "#70 0.40275\n",
    "sum(answer.class_0 < 0.5)"
   ]
  },
  {
   "cell_type": "code",
   "execution_count": 195,
   "metadata": {},
   "outputs": [
    {
     "data": {
      "text/plain": [
       "367178"
      ]
     },
     "execution_count": 195,
     "metadata": {},
     "output_type": "execute_result"
    }
   ],
   "source": [
    "#60 \n",
    "sum(answer.class_0 < 0.5)"
   ]
  },
  {
   "cell_type": "code",
   "execution_count": 164,
   "metadata": {},
   "outputs": [
    {
     "data": {
      "text/plain": [
       "398490"
      ]
     },
     "execution_count": 164,
     "metadata": {},
     "output_type": "execute_result"
    }
   ],
   "source": [
    "#50 \n",
    "sum(answer.class_0 < 0.5)"
   ]
  },
  {
   "cell_type": "code",
   "execution_count": 129,
   "metadata": {
    "scrolled": true
   },
   "outputs": [
    {
     "data": {
      "text/plain": [
       "418047"
      ]
     },
     "execution_count": 129,
     "metadata": {},
     "output_type": "execute_result"
    }
   ],
   "source": [
    "#40 \n",
    "sum(answer.class_0 < 0.5)"
   ]
  },
  {
   "cell_type": "code",
   "execution_count": 47,
   "metadata": {},
   "outputs": [
    {
     "data": {
      "text/plain": [
       "477463"
      ]
     },
     "execution_count": 47,
     "metadata": {},
     "output_type": "execute_result"
    }
   ],
   "source": [
    "#10 0.41684\n",
    "sum(answer.class_0 < 0.5)"
   ]
  },
  {
   "cell_type": "code",
   "execution_count": 569,
   "metadata": {},
   "outputs": [
    {
     "data": {
      "text/plain": [
       "337638"
      ]
     },
     "execution_count": 569,
     "metadata": {},
     "output_type": "execute_result"
    }
   ],
   "source": [
    "#30 0.37951 \n",
    "sum(answer.class_0 < 0.5)"
   ]
  },
  {
   "cell_type": "code",
   "execution_count": null,
   "metadata": {},
   "outputs": [],
   "source": [
    "#30 0.37951 \n",
    "sum(answer.class_0 < 0.5)"
   ]
  },
  {
   "cell_type": "code",
   "execution_count": 80,
   "metadata": {},
   "outputs": [
    {
     "data": {
      "text/plain": [
       "363429"
      ]
     },
     "execution_count": 80,
     "metadata": {},
     "output_type": "execute_result"
    }
   ],
   "source": [
    "#20 0.39706\n",
    "sum(answer.class_0 < 0.5)"
   ]
  }
 ],
 "metadata": {
  "kernelspec": {
   "display_name": "Python 3",
   "language": "python",
   "name": "python3"
  },
  "language_info": {
   "codemirror_mode": {
    "name": "ipython",
    "version": 3
   },
   "file_extension": ".py",
   "mimetype": "text/x-python",
   "name": "python",
   "nbconvert_exporter": "python",
   "pygments_lexer": "ipython3",
   "version": "3.6.5"
  }
 },
 "nbformat": 4,
 "nbformat_minor": 2
}
