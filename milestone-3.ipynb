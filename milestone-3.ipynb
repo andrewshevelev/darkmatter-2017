{
 "cells": [
  {
   "cell_type": "markdown",
   "metadata": {},
   "source": [
    "# Импорты и кастомные функции"
   ]
  },
  {
   "cell_type": "code",
   "execution_count": 1,
   "metadata": {
    "ExecuteTime": {
     "end_time": "2018-05-24T22:30:40.295917Z",
     "start_time": "2018-05-24T22:30:37.221234Z"
    }
   },
   "outputs": [
    {
     "name": "stdout",
     "output_type": "stream",
     "text": [
      "Populating the interactive namespace from numpy and matplotlib\n"
     ]
    }
   ],
   "source": [
    "import numpy as np\n",
    "import pandas as pd\n",
    "import seaborn as sns\n",
    "\n",
    "%pylab inline"
   ]
  },
  {
   "cell_type": "code",
   "execution_count": 2,
   "metadata": {
    "ExecuteTime": {
     "end_time": "2018-05-24T22:30:41.413081Z",
     "start_time": "2018-05-24T22:30:41.396127Z"
    },
    "collapsed": true
   },
   "outputs": [],
   "source": [
    "def make_det(df, axis, new_axis):\n",
    "    df_copy = df.copy()\n",
    "    for ix in list(np.unique(df.data_ind)):\n",
    "        values = np.histogram(df.loc[df.data_ind == ix, axis], bins=500)\n",
    "        y = values[0][3:-3]\n",
    "        x = values[1][3:-4]\n",
    "        p = np.polyfit(x, y, 4)\n",
    "            \n",
    "        poly = 0\n",
    "        for coef in p:\n",
    "            poly = poly*x + coef\n",
    "        \n",
    "        df_copy.loc[df.data_ind == ix, new_axis] = (df.loc[df.data_ind == ix, axis]\n",
    "                                                    - x[np.argmax(y - poly)])\n",
    "    return df_copy            "
   ]
  },
  {
   "cell_type": "markdown",
   "metadata": {},
   "source": [
    "# Загрузка данных "
   ]
  },
  {
   "cell_type": "code",
   "execution_count": 3,
   "metadata": {
    "ExecuteTime": {
     "end_time": "2018-05-24T22:31:24.786207Z",
     "start_time": "2018-05-24T22:30:42.011942Z"
    },
    "collapsed": true
   },
   "outputs": [],
   "source": [
    "train = pd.read_csv('data/open100.csv')\n",
    "test = pd.read_csv('data/test_50.csv')"
   ]
  },
  {
   "cell_type": "code",
   "execution_count": 4,
   "metadata": {
    "ExecuteTime": {
     "end_time": "2018-05-24T22:31:24.892551Z",
     "start_time": "2018-05-24T22:31:24.880548Z"
    }
   },
   "outputs": [
    {
     "data": {
      "text/html": [
       "<div>\n",
       "<style>\n",
       "    .dataframe thead tr:only-child th {\n",
       "        text-align: right;\n",
       "    }\n",
       "\n",
       "    .dataframe thead th {\n",
       "        text-align: left;\n",
       "    }\n",
       "\n",
       "    .dataframe tbody tr th {\n",
       "        vertical-align: top;\n",
       "    }\n",
       "</style>\n",
       "<table border=\"1\" class=\"dataframe\">\n",
       "  <thead>\n",
       "    <tr style=\"text-align: right;\">\n",
       "      <th></th>\n",
       "      <th>id</th>\n",
       "      <th>TX</th>\n",
       "      <th>TY</th>\n",
       "      <th>X</th>\n",
       "      <th>Y</th>\n",
       "      <th>Z</th>\n",
       "      <th>signal</th>\n",
       "      <th>data_ind</th>\n",
       "    </tr>\n",
       "  </thead>\n",
       "  <tbody>\n",
       "    <tr>\n",
       "      <th>0</th>\n",
       "      <td>0</td>\n",
       "      <td>-0.198782</td>\n",
       "      <td>-0.647470</td>\n",
       "      <td>29682.042969</td>\n",
       "      <td>61717.070312</td>\n",
       "      <td>2586.0</td>\n",
       "      <td>0</td>\n",
       "      <td>1</td>\n",
       "    </tr>\n",
       "    <tr>\n",
       "      <th>1</th>\n",
       "      <td>1</td>\n",
       "      <td>-0.022600</td>\n",
       "      <td>-0.321373</td>\n",
       "      <td>64486.812500</td>\n",
       "      <td>34733.046875</td>\n",
       "      <td>42669.0</td>\n",
       "      <td>0</td>\n",
       "      <td>1</td>\n",
       "    </tr>\n",
       "    <tr>\n",
       "      <th>2</th>\n",
       "      <td>2</td>\n",
       "      <td>-0.071057</td>\n",
       "      <td>-0.204883</td>\n",
       "      <td>46626.039062</td>\n",
       "      <td>30379.675781</td>\n",
       "      <td>11637.0</td>\n",
       "      <td>0</td>\n",
       "      <td>1</td>\n",
       "    </tr>\n",
       "    <tr>\n",
       "      <th>3</th>\n",
       "      <td>3</td>\n",
       "      <td>-0.004688</td>\n",
       "      <td>-0.167113</td>\n",
       "      <td>48441.671875</td>\n",
       "      <td>59463.445312</td>\n",
       "      <td>71115.0</td>\n",
       "      <td>0</td>\n",
       "      <td>1</td>\n",
       "    </tr>\n",
       "    <tr>\n",
       "      <th>4</th>\n",
       "      <td>4</td>\n",
       "      <td>-0.097321</td>\n",
       "      <td>-0.273475</td>\n",
       "      <td>49847.132812</td>\n",
       "      <td>60116.535156</td>\n",
       "      <td>53013.0</td>\n",
       "      <td>0</td>\n",
       "      <td>1</td>\n",
       "    </tr>\n",
       "  </tbody>\n",
       "</table>\n",
       "</div>"
      ],
      "text/plain": [
       "   id        TX        TY             X             Y        Z  signal  \\\n",
       "0   0 -0.198782 -0.647470  29682.042969  61717.070312   2586.0       0   \n",
       "1   1 -0.022600 -0.321373  64486.812500  34733.046875  42669.0       0   \n",
       "2   2 -0.071057 -0.204883  46626.039062  30379.675781  11637.0       0   \n",
       "3   3 -0.004688 -0.167113  48441.671875  59463.445312  71115.0       0   \n",
       "4   4 -0.097321 -0.273475  49847.132812  60116.535156  53013.0       0   \n",
       "\n",
       "   data_ind  \n",
       "0         1  \n",
       "1         1  \n",
       "2         1  \n",
       "3         1  \n",
       "4         1  "
      ]
     },
     "execution_count": 4,
     "metadata": {},
     "output_type": "execute_result"
    }
   ],
   "source": [
    "train.head()"
   ]
  },
  {
   "cell_type": "markdown",
   "metadata": {},
   "source": [
    "# Предварительный анализ"
   ]
  },
  {
   "cell_type": "markdown",
   "metadata": {},
   "source": [
    "Посмотрим как распределены шум и сигнал вдоль координат"
   ]
  },
  {
   "cell_type": "code",
   "execution_count": 5,
   "metadata": {
    "ExecuteTime": {
     "end_time": "2018-05-24T22:31:25.110067Z",
     "start_time": "2018-05-24T22:31:24.987436Z"
    },
    "collapsed": true
   },
   "outputs": [],
   "source": [
    "first = train.loc[train.data_ind == 1]"
   ]
  },
  {
   "cell_type": "code",
   "execution_count": 6,
   "metadata": {
    "ExecuteTime": {
     "end_time": "2018-05-24T22:31:25.578844Z",
     "start_time": "2018-05-24T22:31:25.250666Z"
    }
   },
   "outputs": [
    {
     "data": {
      "image/png": "[encoded data removed]",
      "text/plain": [
       "<matplotlib.figure.Figure at 0x20dea781b70>"
      ]
     },
     "metadata": {},
     "output_type": "display_data"
    }
   ],
   "source": [
    "axis = 'X'\n",
    "\n",
    "fig = plt.figure(figsize = [20, 10])\n",
    "fig.add_subplot(221)\n",
    "plt.hist(first.loc[first.signal == 1, axis], bins=500, histtype='step')\n",
    "fig.add_subplot(222)\n",
    "plt.hist(first.loc[first.signal == 0, axis], bins=500, histtype='step')\n",
    "fig.add_subplot(223)\n",
    "values_X = plt.hist(first.loc[:, axis], bins=500, histtype='step')\n",
    "plt.show()"
   ]
  },
  {
   "cell_type": "code",
   "execution_count": 7,
   "metadata": {
    "ExecuteTime": {
     "end_time": "2018-05-24T22:31:26.049712Z",
     "start_time": "2018-05-24T22:31:25.760883Z"
    }
   },
   "outputs": [
    {
     "data": {
      "image/png": "[encoded data removed]",
      "text/plain": [
       "<matplotlib.figure.Figure at 0x20dea8255f8>"
      ]
     },
     "metadata": {},
     "output_type": "display_data"
    }
   ],
   "source": [
    "axis = 'Y'\n",
    "\n",
    "fig = plt.figure(figsize = [20, 10])\n",
    "fig.add_subplot(221)\n",
    "plt.hist(first.loc[first.signal == 1, axis], bins=500, histtype='step')\n",
    "fig.add_subplot(222)\n",
    "plt.hist(first.loc[first.signal == 0, axis], bins=500, histtype='step')\n",
    "fig.add_subplot(223)\n",
    "values_Y = plt.hist(first.loc[:, axis], bins=500, histtype='step')\n",
    "plt.show()"
   ]
  },
  {
   "cell_type": "code",
   "execution_count": 8,
   "metadata": {
    "ExecuteTime": {
     "end_time": "2018-05-24T22:31:26.564032Z",
     "start_time": "2018-05-24T22:31:26.258117Z"
    }
   },
   "outputs": [
    {
     "data": {
      "image/png": "[encoded data removed]",
      "text/plain": [
       "<matplotlib.figure.Figure at 0x20dea81a668>"
      ]
     },
     "metadata": {},
     "output_type": "display_data"
    }
   ],
   "source": [
    "axis = 'Z'\n",
    "\n",
    "fig = plt.figure(figsize = [20, 10])\n",
    "fig.add_subplot(221)\n",
    "plt.hist(first.loc[first.signal == 1, axis], bins=500, histtype='step')\n",
    "fig.add_subplot(222)\n",
    "plt.hist(first.loc[first.signal == 0, axis], bins=500, histtype='step')\n",
    "fig.add_subplot(223)\n",
    "values_Z = plt.hist(first.loc[:, axis], bins=500, histtype='step')\n",
    "plt.show()"
   ]
  },
  {
   "cell_type": "markdown",
   "metadata": {},
   "source": [
    "Видно, что у шума есть явный тренд по осям Y и X, поэтому обучим под него какой-нибудь полином и вычтем"
   ]
  },
  {
   "cell_type": "code",
   "execution_count": 9,
   "metadata": {
    "ExecuteTime": {
     "end_time": "2018-05-24T22:31:26.775811Z",
     "start_time": "2018-05-24T22:31:26.771824Z"
    },
    "collapsed": true
   },
   "outputs": [],
   "source": [
    "y = values_Y[0]\n",
    "x = values_Y[1]\n",
    "x, y = x[3:-4], y[3:-3]"
   ]
  },
  {
   "cell_type": "code",
   "execution_count": 10,
   "metadata": {
    "ExecuteTime": {
     "end_time": "2018-05-24T22:31:27.016125Z",
     "start_time": "2018-05-24T22:31:27.007959Z"
    },
    "collapsed": true
   },
   "outputs": [],
   "source": [
    "p = np.polyfit(x, y, 4)"
   ]
  },
  {
   "cell_type": "code",
   "execution_count": 11,
   "metadata": {
    "ExecuteTime": {
     "end_time": "2018-05-24T22:31:27.255668Z",
     "start_time": "2018-05-24T22:31:27.252523Z"
    },
    "collapsed": true
   },
   "outputs": [],
   "source": [
    "poly = 0\n",
    "for coef in p:\n",
    "    poly = poly*x + coef"
   ]
  },
  {
   "cell_type": "code",
   "execution_count": 12,
   "metadata": {
    "ExecuteTime": {
     "end_time": "2018-05-24T22:31:27.612792Z",
     "start_time": "2018-05-24T22:31:27.498446Z"
    }
   },
   "outputs": [
    {
     "data": {
      "image/png": "[encoded data removed]",
      "text/plain": [
       "<matplotlib.figure.Figure at 0x20deb51d2e8>"
      ]
     },
     "metadata": {},
     "output_type": "display_data"
    }
   ],
   "source": [
    "plt.plot(x, y, label='Data')\n",
    "plt.plot(x, poly, label='Polynom')\n",
    "plt.plot(x, y - poly, label='Detrended')\n",
    "plt.legend()\n",
    "plt.show()"
   ]
  },
  {
   "cell_type": "markdown",
   "metadata": {
    "ExecuteTime": {
     "end_time": "2018-05-24T21:27:39.692869Z",
     "start_time": "2018-05-24T21:27:39.685856Z"
    }
   },
   "source": [
    "Видим, что для детренженных данных очень похоже на распределение с сигналом"
   ]
  },
  {
   "cell_type": "code",
   "execution_count": 13,
   "metadata": {
    "ExecuteTime": {
     "end_time": "2018-05-24T22:32:43.029728Z",
     "start_time": "2018-05-24T22:31:27.873328Z"
    },
    "collapsed": true
   },
   "outputs": [],
   "source": [
    "prep = train.copy()\n",
    "for axis in [('X', 'detX'), ('Y', 'detY')]:\n",
    "    prep = make_det(prep, axis[0], axis[1])"
   ]
  },
  {
   "cell_type": "code",
   "execution_count": 14,
   "metadata": {
    "ExecuteTime": {
     "end_time": "2018-05-24T22:32:43.857529Z",
     "start_time": "2018-05-24T22:32:43.844563Z"
    }
   },
   "outputs": [
    {
     "data": {
      "text/html": [
       "<div>\n",
       "<style>\n",
       "    .dataframe thead tr:only-child th {\n",
       "        text-align: right;\n",
       "    }\n",
       "\n",
       "    .dataframe thead th {\n",
       "        text-align: left;\n",
       "    }\n",
       "\n",
       "    .dataframe tbody tr th {\n",
       "        vertical-align: top;\n",
       "    }\n",
       "</style>\n",
       "<table border=\"1\" class=\"dataframe\">\n",
       "  <thead>\n",
       "    <tr style=\"text-align: right;\">\n",
       "      <th></th>\n",
       "      <th>id</th>\n",
       "      <th>TX</th>\n",
       "      <th>TY</th>\n",
       "      <th>X</th>\n",
       "      <th>Y</th>\n",
       "      <th>Z</th>\n",
       "      <th>signal</th>\n",
       "      <th>data_ind</th>\n",
       "      <th>detX</th>\n",
       "      <th>detY</th>\n",
       "    </tr>\n",
       "  </thead>\n",
       "  <tbody>\n",
       "    <tr>\n",
       "      <th>0</th>\n",
       "      <td>0</td>\n",
       "      <td>-0.198782</td>\n",
       "      <td>-0.647470</td>\n",
       "      <td>29682.042969</td>\n",
       "      <td>61717.070312</td>\n",
       "      <td>2586.0</td>\n",
       "      <td>0</td>\n",
       "      <td>1</td>\n",
       "      <td>452.696719</td>\n",
       "      <td>42017.057530</td>\n",
       "    </tr>\n",
       "    <tr>\n",
       "      <th>1</th>\n",
       "      <td>1</td>\n",
       "      <td>-0.022600</td>\n",
       "      <td>-0.321373</td>\n",
       "      <td>64486.812500</td>\n",
       "      <td>34733.046875</td>\n",
       "      <td>42669.0</td>\n",
       "      <td>0</td>\n",
       "      <td>1</td>\n",
       "      <td>35257.466250</td>\n",
       "      <td>15033.034092</td>\n",
       "    </tr>\n",
       "    <tr>\n",
       "      <th>2</th>\n",
       "      <td>2</td>\n",
       "      <td>-0.071057</td>\n",
       "      <td>-0.204883</td>\n",
       "      <td>46626.039062</td>\n",
       "      <td>30379.675781</td>\n",
       "      <td>11637.0</td>\n",
       "      <td>0</td>\n",
       "      <td>1</td>\n",
       "      <td>17396.692813</td>\n",
       "      <td>10679.662999</td>\n",
       "    </tr>\n",
       "    <tr>\n",
       "      <th>3</th>\n",
       "      <td>3</td>\n",
       "      <td>-0.004688</td>\n",
       "      <td>-0.167113</td>\n",
       "      <td>48441.671875</td>\n",
       "      <td>59463.445312</td>\n",
       "      <td>71115.0</td>\n",
       "      <td>0</td>\n",
       "      <td>1</td>\n",
       "      <td>19212.325625</td>\n",
       "      <td>39763.432530</td>\n",
       "    </tr>\n",
       "    <tr>\n",
       "      <th>4</th>\n",
       "      <td>4</td>\n",
       "      <td>-0.097321</td>\n",
       "      <td>-0.273475</td>\n",
       "      <td>49847.132812</td>\n",
       "      <td>60116.535156</td>\n",
       "      <td>53013.0</td>\n",
       "      <td>0</td>\n",
       "      <td>1</td>\n",
       "      <td>20617.786563</td>\n",
       "      <td>40416.522374</td>\n",
       "    </tr>\n",
       "  </tbody>\n",
       "</table>\n",
       "</div>"
      ],
      "text/plain": [
       "   id        TX        TY             X             Y        Z  signal  \\\n",
       "0   0 -0.198782 -0.647470  29682.042969  61717.070312   2586.0       0   \n",
       "1   1 -0.022600 -0.321373  64486.812500  34733.046875  42669.0       0   \n",
       "2   2 -0.071057 -0.204883  46626.039062  30379.675781  11637.0       0   \n",
       "3   3 -0.004688 -0.167113  48441.671875  59463.445312  71115.0       0   \n",
       "4   4 -0.097321 -0.273475  49847.132812  60116.535156  53013.0       0   \n",
       "\n",
       "   data_ind          detX          detY  \n",
       "0         1    452.696719  42017.057530  \n",
       "1         1  35257.466250  15033.034092  \n",
       "2         1  17396.692813  10679.662999  \n",
       "3         1  19212.325625  39763.432530  \n",
       "4         1  20617.786563  40416.522374  "
      ]
     },
     "execution_count": 14,
     "metadata": {},
     "output_type": "execute_result"
    }
   ],
   "source": [
    "prep.head()"
   ]
  },
  {
   "cell_type": "markdown",
   "metadata": {},
   "source": [
    "# Обучение"
   ]
  },
  {
   "cell_type": "code",
   "execution_count": 15,
   "metadata": {
    "ExecuteTime": {
     "end_time": "2018-05-24T22:32:44.837077Z",
     "start_time": "2018-05-24T22:32:44.231420Z"
    },
    "collapsed": true
   },
   "outputs": [],
   "source": [
    "import os\n",
    "\n",
    "mingw_path = 'C:\\\\Program Files\\\\mingw-w64\\\\x86_64-7.2.0-posix-seh-rt_v5-rev1\\\\mingw64\\\\bin'\n",
    "\n",
    "os.environ['PATH'] = mingw_path + ';' + os.environ['PATH']\n",
    "\n",
    "import xgboost as xg\n",
    "from xgboost import XGBClassifier\n",
    "from sklearn.model_selection import StratifiedKFold, GridSearchCV"
   ]
  },
  {
   "cell_type": "code",
   "execution_count": 16,
   "metadata": {
    "ExecuteTime": {
     "end_time": "2018-05-24T22:32:45.141825Z",
     "start_time": "2018-05-24T22:32:45.133844Z"
    },
    "collapsed": true
   },
   "outputs": [],
   "source": [
    "param_grid = {\n",
    "        'n_estimators':[100], \n",
    "        'max_depth':[15],\n",
    "}\n",
    "\n",
    "class XGBClassifier_tmp(XGBClassifier):\n",
    "    def predict(self, X):\n",
    "        return XGBClassifier.predict_proba(self, X)[:, 1]\n",
    "\n",
    "clf = GridSearchCV(XGBClassifier_tmp(learning_rate=0.05, subsample=0.8,\n",
    "                                     colsample_bytree=0.8), \n",
    "                   param_grid=param_grid, n_jobs=1,\n",
    "                   scoring='roc_auc',\n",
    "                   cv=StratifiedKFold(3, shuffle=True, random_state=0))"
   ]
  },
  {
   "cell_type": "code",
   "execution_count": 17,
   "metadata": {
    "ExecuteTime": {
     "end_time": "2018-05-24T22:32:46.055382Z",
     "start_time": "2018-05-24T22:32:45.443018Z"
    },
    "collapsed": true
   },
   "outputs": [],
   "source": [
    "y_train = prep.signal.values\n",
    "X_train = prep.drop(['signal', 'id', 'data_ind'],axis=1)"
   ]
  },
  {
   "cell_type": "code",
   "execution_count": 18,
   "metadata": {
    "ExecuteTime": {
     "end_time": "2018-05-25T00:58:33.349718Z",
     "start_time": "2018-05-24T22:32:46.368545Z"
    }
   },
   "outputs": [
    {
     "data": {
      "text/plain": [
       "GridSearchCV(cv=StratifiedKFold(n_splits=3, random_state=0, shuffle=True),\n",
       "       error_score='raise',\n",
       "       estimator=XGBClassifier_tmp(base_score=0.5, booster='gbtree', colsample_bylevel=1,\n",
       "         colsample_bytree=0.8, gamma=0, learning_rate=0.05,\n",
       "         max_delta_step=0, max_depth=3, min_child_weight=1, missing=None,\n",
       "         n_estimators=100, n_jobs=1, nthread=None,\n",
       "         objective='binary:logistic', random_state=0, reg_alpha=0,\n",
       "         reg_lambda=1, scale_pos_weight=1, seed=None, silent=True,\n",
       "         subsample=0.8),\n",
       "       fit_params=None, iid=True, n_jobs=1,\n",
       "       param_grid={'n_estimators': [100], 'max_depth': [15]},\n",
       "       pre_dispatch='2*n_jobs', refit=True, return_train_score='warn',\n",
       "       scoring='roc_auc', verbose=0)"
      ]
     },
     "execution_count": 18,
     "metadata": {},
     "output_type": "execute_result"
    }
   ],
   "source": [
    "clf.fit(X_train, y_train)"
   ]
  },
  {
   "cell_type": "code",
   "execution_count": 22,
   "metadata": {
    "ExecuteTime": {
     "end_time": "2018-05-25T05:57:44.802090Z",
     "start_time": "2018-05-25T05:57:44.795074Z"
    }
   },
   "outputs": [
    {
     "name": "stderr",
     "output_type": "stream",
     "text": [
      "C:\\Users\\Artyom\\Anaconda3\\lib\\site-packages\\sklearn\\utils\\deprecation.py:122: FutureWarning: You are accessing a training score ('mean_train_score'), which will not be available by default any more in 0.21. If you need training scores, please set return_train_score=True\n",
      "  warnings.warn(*warn_args, **warn_kwargs)\n",
      "C:\\Users\\Artyom\\Anaconda3\\lib\\site-packages\\sklearn\\utils\\deprecation.py:122: FutureWarning: You are accessing a training score ('split0_train_score'), which will not be available by default any more in 0.21. If you need training scores, please set return_train_score=True\n",
      "  warnings.warn(*warn_args, **warn_kwargs)\n",
      "C:\\Users\\Artyom\\Anaconda3\\lib\\site-packages\\sklearn\\utils\\deprecation.py:122: FutureWarning: You are accessing a training score ('split1_train_score'), which will not be available by default any more in 0.21. If you need training scores, please set return_train_score=True\n",
      "  warnings.warn(*warn_args, **warn_kwargs)\n",
      "C:\\Users\\Artyom\\Anaconda3\\lib\\site-packages\\sklearn\\utils\\deprecation.py:122: FutureWarning: You are accessing a training score ('split2_train_score'), which will not be available by default any more in 0.21. If you need training scores, please set return_train_score=True\n",
      "  warnings.warn(*warn_args, **warn_kwargs)\n",
      "C:\\Users\\Artyom\\Anaconda3\\lib\\site-packages\\sklearn\\utils\\deprecation.py:122: FutureWarning: You are accessing a training score ('std_train_score'), which will not be available by default any more in 0.21. If you need training scores, please set return_train_score=True\n",
      "  warnings.warn(*warn_args, **warn_kwargs)\n"
     ]
    },
    {
     "data": {
      "text/plain": [
       "{'mean_fit_time': array([1765.28243335]),\n",
       " 'mean_score_time': array([98.18638372]),\n",
       " 'mean_test_score': array([0.99267004]),\n",
       " 'mean_train_score': array([0.99581946]),\n",
       " 'param_max_depth': masked_array(data=[15],\n",
       "              mask=[False],\n",
       "        fill_value='?',\n",
       "             dtype=object),\n",
       " 'param_n_estimators': masked_array(data=[100],\n",
       "              mask=[False],\n",
       "        fill_value='?',\n",
       "             dtype=object),\n",
       " 'params': [{'max_depth': 15, 'n_estimators': 100}],\n",
       " 'rank_test_score': array([1]),\n",
       " 'split0_test_score': array([0.99263637]),\n",
       " 'split0_train_score': array([0.99576692]),\n",
       " 'split1_test_score': array([0.99254081]),\n",
       " 'split1_train_score': array([0.99583463]),\n",
       " 'split2_test_score': array([0.99283294]),\n",
       " 'split2_train_score': array([0.99585682]),\n",
       " 'std_fit_time': array([62.29145079]),\n",
       " 'std_score_time': array([4.86061043]),\n",
       " 'std_test_score': array([0.00012162]),\n",
       " 'std_train_score': array([3.82371072e-05])}"
      ]
     },
     "execution_count": 22,
     "metadata": {},
     "output_type": "execute_result"
    }
   ],
   "source": [
    "clf.cv_results_"
   ]
  },
  {
   "cell_type": "markdown",
   "metadata": {},
   "source": [
    "Вроде норм, готовим test"
   ]
  },
  {
   "cell_type": "code",
   "execution_count": 24,
   "metadata": {
    "ExecuteTime": {
     "end_time": "2018-05-25T06:03:37.928126Z",
     "start_time": "2018-05-25T06:03:17.345901Z"
    },
    "collapsed": true
   },
   "outputs": [],
   "source": [
    "prep_test = test.copy()\n",
    "for axis in [('X', 'detX'), ('Y', 'detY')]:\n",
    "    prep_test = make_det(prep_test, axis[0], axis[1])\n",
    "\n",
    "prep_test.drop(['data_ind', 'id'], axis=1, inplace=True)"
   ]
  },
  {
   "cell_type": "code",
   "execution_count": 29,
   "metadata": {
    "ExecuteTime": {
     "end_time": "2018-05-25T06:05:03.570462Z",
     "start_time": "2018-05-25T06:05:03.559525Z"
    }
   },
   "outputs": [
    {
     "data": {
      "text/html": [
       "<div>\n",
       "<style>\n",
       "    .dataframe thead tr:only-child th {\n",
       "        text-align: right;\n",
       "    }\n",
       "\n",
       "    .dataframe thead th {\n",
       "        text-align: left;\n",
       "    }\n",
       "\n",
       "    .dataframe tbody tr th {\n",
       "        vertical-align: top;\n",
       "    }\n",
       "</style>\n",
       "<table border=\"1\" class=\"dataframe\">\n",
       "  <thead>\n",
       "    <tr style=\"text-align: right;\">\n",
       "      <th></th>\n",
       "      <th>TX</th>\n",
       "      <th>TY</th>\n",
       "      <th>X</th>\n",
       "      <th>Y</th>\n",
       "      <th>Z</th>\n",
       "      <th>detX</th>\n",
       "      <th>detY</th>\n",
       "    </tr>\n",
       "  </thead>\n",
       "  <tbody>\n",
       "    <tr>\n",
       "      <th>0</th>\n",
       "      <td>0.295499</td>\n",
       "      <td>0.099981</td>\n",
       "      <td>60690.234375</td>\n",
       "      <td>23661.033203</td>\n",
       "      <td>25860.0</td>\n",
       "      <td>31461.345875</td>\n",
       "      <td>-50377.351658</td>\n",
       "    </tr>\n",
       "    <tr>\n",
       "      <th>1</th>\n",
       "      <td>0.100577</td>\n",
       "      <td>0.097563</td>\n",
       "      <td>47068.710938</td>\n",
       "      <td>53209.578125</td>\n",
       "      <td>72408.0</td>\n",
       "      <td>17839.822437</td>\n",
       "      <td>-20828.806736</td>\n",
       "    </tr>\n",
       "    <tr>\n",
       "      <th>2</th>\n",
       "      <td>-0.121270</td>\n",
       "      <td>0.052892</td>\n",
       "      <td>30749.601562</td>\n",
       "      <td>25000.320312</td>\n",
       "      <td>62064.0</td>\n",
       "      <td>1520.713062</td>\n",
       "      <td>-49038.064549</td>\n",
       "    </tr>\n",
       "    <tr>\n",
       "      <th>3</th>\n",
       "      <td>0.311124</td>\n",
       "      <td>0.240402</td>\n",
       "      <td>28850.226562</td>\n",
       "      <td>60354.363281</td>\n",
       "      <td>60771.0</td>\n",
       "      <td>-378.661938</td>\n",
       "      <td>-13684.021580</td>\n",
       "    </tr>\n",
       "    <tr>\n",
       "      <th>4</th>\n",
       "      <td>0.498214</td>\n",
       "      <td>0.128125</td>\n",
       "      <td>42120.714844</td>\n",
       "      <td>69713.304688</td>\n",
       "      <td>12930.0</td>\n",
       "      <td>12891.826344</td>\n",
       "      <td>-4325.080174</td>\n",
       "    </tr>\n",
       "  </tbody>\n",
       "</table>\n",
       "</div>"
      ],
      "text/plain": [
       "         TX        TY             X             Y        Z          detX  \\\n",
       "0  0.295499  0.099981  60690.234375  23661.033203  25860.0  31461.345875   \n",
       "1  0.100577  0.097563  47068.710938  53209.578125  72408.0  17839.822437   \n",
       "2 -0.121270  0.052892  30749.601562  25000.320312  62064.0   1520.713062   \n",
       "3  0.311124  0.240402  28850.226562  60354.363281  60771.0   -378.661938   \n",
       "4  0.498214  0.128125  42120.714844  69713.304688  12930.0  12891.826344   \n",
       "\n",
       "           detY  \n",
       "0 -50377.351658  \n",
       "1 -20828.806736  \n",
       "2 -49038.064549  \n",
       "3 -13684.021580  \n",
       "4  -4325.080174  "
      ]
     },
     "execution_count": 29,
     "metadata": {},
     "output_type": "execute_result"
    }
   ],
   "source": [
    "prep_test.head()"
   ]
  },
  {
   "cell_type": "code",
   "execution_count": 33,
   "metadata": {
    "ExecuteTime": {
     "end_time": "2018-05-25T06:08:32.814732Z",
     "start_time": "2018-05-25T06:06:04.693215Z"
    },
    "collapsed": true
   },
   "outputs": [],
   "source": [
    "probas_test = clf.predict(prep_test)"
   ]
  },
  {
   "cell_type": "code",
   "execution_count": 37,
   "metadata": {
    "ExecuteTime": {
     "end_time": "2018-05-25T06:11:02.912754Z",
     "start_time": "2018-05-25T06:11:02.792010Z"
    },
    "collapsed": true
   },
   "outputs": [],
   "source": [
    "result = pd.DataFrame(data={'id': test.id.astype(int),\n",
    "                            'signal': probas_test.astype('float16')})"
   ]
  },
  {
   "cell_type": "code",
   "execution_count": 38,
   "metadata": {
    "ExecuteTime": {
     "end_time": "2018-05-25T06:11:08.673950Z",
     "start_time": "2018-05-25T06:11:08.664975Z"
    }
   },
   "outputs": [
    {
     "data": {
      "text/html": [
       "<div>\n",
       "<style>\n",
       "    .dataframe thead tr:only-child th {\n",
       "        text-align: right;\n",
       "    }\n",
       "\n",
       "    .dataframe thead th {\n",
       "        text-align: left;\n",
       "    }\n",
       "\n",
       "    .dataframe tbody tr th {\n",
       "        vertical-align: top;\n",
       "    }\n",
       "</style>\n",
       "<table border=\"1\" class=\"dataframe\">\n",
       "  <thead>\n",
       "    <tr style=\"text-align: right;\">\n",
       "      <th></th>\n",
       "      <th>id</th>\n",
       "      <th>signal</th>\n",
       "    </tr>\n",
       "  </thead>\n",
       "  <tbody>\n",
       "    <tr>\n",
       "      <th>0</th>\n",
       "      <td>0</td>\n",
       "      <td>0.004230</td>\n",
       "    </tr>\n",
       "    <tr>\n",
       "      <th>1</th>\n",
       "      <td>1</td>\n",
       "      <td>0.005604</td>\n",
       "    </tr>\n",
       "    <tr>\n",
       "      <th>2</th>\n",
       "      <td>2</td>\n",
       "      <td>0.005604</td>\n",
       "    </tr>\n",
       "    <tr>\n",
       "      <th>3</th>\n",
       "      <td>3</td>\n",
       "      <td>0.005589</td>\n",
       "    </tr>\n",
       "    <tr>\n",
       "      <th>4</th>\n",
       "      <td>4</td>\n",
       "      <td>0.003357</td>\n",
       "    </tr>\n",
       "  </tbody>\n",
       "</table>\n",
       "</div>"
      ],
      "text/plain": [
       "   id    signal\n",
       "0   0  0.004230\n",
       "1   1  0.005604\n",
       "2   2  0.005604\n",
       "3   3  0.005589\n",
       "4   4  0.003357"
      ]
     },
     "execution_count": 38,
     "metadata": {},
     "output_type": "execute_result"
    }
   ],
   "source": [
    "result.head()"
   ]
  },
  {
   "cell_type": "code",
   "execution_count": 39,
   "metadata": {
    "ExecuteTime": {
     "end_time": "2018-05-25T06:11:25.495034Z",
     "start_time": "2018-05-25T06:11:25.490047Z"
    }
   },
   "outputs": [
    {
     "data": {
      "text/plain": [
       "(13726164, 2)"
      ]
     },
     "execution_count": 39,
     "metadata": {},
     "output_type": "execute_result"
    }
   ],
   "source": [
    "result.shape"
   ]
  },
  {
   "cell_type": "code",
   "execution_count": 40,
   "metadata": {
    "ExecuteTime": {
     "end_time": "2018-05-25T06:12:46.268925Z",
     "start_time": "2018-05-25T06:12:08.572615Z"
    },
    "collapsed": true
   },
   "outputs": [],
   "source": [
    "result.to_csv('submit.csv', index=False)"
   ]
  }
 ],
 "metadata": {
  "hide_input": false,
  "kernelspec": {
   "display_name": "Python 3",
   "language": "python",
   "name": "python3"
  },
  "language_info": {
   "codemirror_mode": {
    "name": "ipython",
    "version": 3
   },
   "file_extension": ".py",
   "mimetype": "text/x-python",
   "name": "python",
   "nbconvert_exporter": "python",
   "pygments_lexer": "ipython3",
   "version": "3.6.3"
  },
  "nbTranslate": {
   "displayLangs": [
    "*"
   ],
   "hotkey": "alt-t",
   "langInMainMenu": true,
   "sourceLang": "en",
   "targetLang": "fr",
   "useGoogleTranslate": true
  },
  "toc": {
   "nav_menu": {},
   "number_sections": true,
   "sideBar": true,
   "skip_h1_title": false,
   "toc_cell": false,
   "toc_position": {},
   "toc_section_display": "block",
   "toc_window_display": false
  },
  "varInspector": {
   "cols": {
    "lenName": 16,
    "lenType": 16,
    "lenVar": 40
   },
   "kernels_config": {
    "python": {
     "delete_cmd_postfix": "",
     "delete_cmd_prefix": "del ",
     "library": "var_list.py",
     "varRefreshCmd": "print(var_dic_list())"
    },
    "r": {
     "delete_cmd_postfix": ") ",
     "delete_cmd_prefix": "rm(",
     "library": "var_list.r",
     "varRefreshCmd": "cat(var_dic_list()) "
    }
   },
   "oldHeight": 122.222222,
   "position": {
    "height": "40px",
    "left": "1362.89px",
    "right": "20px",
    "top": "120px",
    "width": "251px"
   },
   "types_to_exclude": [
    "module",
    "function",
    "builtin_function_or_method",
    "instance",
    "_Feature"
   ],
   "varInspector_section_display": "none",
   "window_display": true
  }
 },
 "nbformat": 4,
 "nbformat_minor": 2
}
